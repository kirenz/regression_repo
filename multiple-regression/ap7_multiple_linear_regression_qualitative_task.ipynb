{
 "cells": [
  {
   "cell_type": "markdown",
   "metadata": {},
   "source": [
    "**Applied Statistics**<br/>\n",
    "Prof. Dr. Jan Kirenz <br/>\n",
    "Hochschule der Medien Stuttgart"
   ]
  },
  {
   "cell_type": "code",
   "execution_count": 2,
   "metadata": {},
   "outputs": [],
   "source": [
    "# Python set up (load modules) \n",
    "import numpy as np\n",
    "import pandas as pd\n",
    "from pandas.api.types import CategoricalDtype\n",
    "from scipy import stats\n",
    "import statsmodels.api as sm\n",
    "import statsmodels.formula.api as smf\n",
    "from statsmodels.compat import lzip\n",
    "from statsmodels.stats.outliers_influence import summary_table\n",
    "from statsmodels.graphics.gofplots import ProbPlot\n",
    "from statsmodels.stats.outliers_influence import OLSInfluence\n",
    "from statsmodels.graphics.regressionplots import plot_leverage_resid2\n",
    "import matplotlib.pyplot as plt\n",
    "%matplotlib inline \n",
    "plt.style.use('ggplot') \n",
    "import seaborn as sns  \n",
    "sns.set() \n",
    "from IPython.display import Image\n",
    "import itertools"
   ]
  },
  {
   "cell_type": "markdown",
   "metadata": {},
   "source": [
    "# Application 7: Multiple Linear regression with qualitative predictors \n",
    "\n",
    "This question should be answered using the Carseats data set.\n",
    "\n",
    "* (a) Fit a multiple regression model to predict Sales using Price, Urban, and US.\n",
    "* (b) Provide an interpretation of each coefficient in the model. Be careful—some of the variables in the model\n",
    "are qualitative!\n",
    "* (c) Write out the model in equation form, being careful to handle the qualitative variables properly.\n",
    "* (d) For which of the predictors can you reject the null hypothesis H 0 : β j = 0?\n",
    "* (e) On the basis of your response to the previous question, fit a smaller model that only uses the predictors\n",
    "for which there is evidence of association with the outcome.\n",
    "* (f) How well do the models in (a) and (e) fit the data?\n",
    "* (g) Using the model from (e), obtain 95% confidence intervals for the coefficient(s).\n",
    "---"
   ]
  },
  {
   "cell_type": "markdown",
   "metadata": {},
   "source": [
    "## 1 Import data"
   ]
  },
  {
   "cell_type": "code",
   "execution_count": 3,
   "metadata": {
    "scrolled": true
   },
   "outputs": [],
   "source": [
    "# Load the csv data files into pandas dataframes\n"
   ]
  },
  {
   "cell_type": "markdown",
   "metadata": {},
   "source": [
    "## 2 Tidying data"
   ]
  },
  {
   "cell_type": "markdown",
   "metadata": {},
   "source": [
    "### 2.1 Data inspection"
   ]
  },
  {
   "cell_type": "code",
   "execution_count": null,
   "metadata": {},
   "outputs": [],
   "source": []
  },
  {
   "cell_type": "markdown",
   "metadata": {},
   "source": [
    "### 2.2 Handle missing values"
   ]
  },
  {
   "cell_type": "code",
   "execution_count": null,
   "metadata": {
    "scrolled": true
   },
   "outputs": [],
   "source": []
  },
  {
   "cell_type": "markdown",
   "metadata": {},
   "source": [
    "## 3 Transform data"
   ]
  },
  {
   "cell_type": "code",
   "execution_count": 6,
   "metadata": {},
   "outputs": [],
   "source": [
    "# summary statistics for all numerical columns\n"
   ]
  },
  {
   "cell_type": "code",
   "execution_count": 7,
   "metadata": {},
   "outputs": [],
   "source": [
    "# summary statistics for all categorical columns\n"
   ]
  },
  {
   "cell_type": "markdown",
   "metadata": {},
   "source": [
    "## 4. Visualize data"
   ]
  },
  {
   "cell_type": "markdown",
   "metadata": {},
   "source": [
    "### Distibution of Variables"
   ]
  },
  {
   "cell_type": "code",
   "execution_count": null,
   "metadata": {},
   "outputs": [],
   "source": []
  },
  {
   "cell_type": "markdown",
   "metadata": {},
   "source": [
    "## 5 Model"
   ]
  },
  {
   "cell_type": "markdown",
   "metadata": {},
   "source": [
    "## Task a)\n",
    "\n",
    "Fit a multiple regression model to predict Sales using Price, Urban, and US.\n",
    "\n",
    "\"Urban\" and \"US\" are binary qualitative variables. To use them in a Regression model, we need to create dummy variables, where the \"Yes\"-Values are represented as 1, the \"No\"-Values as 0. Luckily, statsmodel takes care of this internally. "
   ]
  },
  {
   "cell_type": "code",
   "execution_count": 8,
   "metadata": {
    "scrolled": false
   },
   "outputs": [],
   "source": [
    "# Fit the model\n"
   ]
  },
  {
   "cell_type": "markdown",
   "metadata": {},
   "source": [
    "## Task b)\n",
    "\n",
    "*Provide an interpretation of each coefficient in the model. Be careful — some of the variables in the model\n",
    "are qualitative!*\n",
    "\n",
    "..."
   ]
  },
  {
   "cell_type": "markdown",
   "metadata": {},
   "source": [
    "## Task c)\n",
    "\n",
    "Write out the model in equation form, being careful to handle the qualitative variables properly.\n",
    "\n",
    "..."
   ]
  },
  {
   "cell_type": "markdown",
   "metadata": {},
   "source": [
    "## Task d)\n",
    "\n",
    "For which of the predictors can you reject the null hypothesis H0: βj = 0:\n",
    "\n",
    "..."
   ]
  },
  {
   "cell_type": "markdown",
   "metadata": {},
   "source": [
    "## Task e)\n",
    "\n",
    "On the basis of your response to the previous question, fit a *smaller* model that only uses the predictors for which there is evidence of association with the outcome."
   ]
  },
  {
   "cell_type": "code",
   "execution_count": 9,
   "metadata": {},
   "outputs": [],
   "source": [
    "# Fit the model\n",
    "\n"
   ]
  },
  {
   "cell_type": "markdown",
   "metadata": {},
   "source": [
    "## Task f)\n",
    "\n",
    "How well do the models in (a) and (e) fit the data?"
   ]
  },
  {
   "cell_type": "code",
   "execution_count": 10,
   "metadata": {},
   "outputs": [],
   "source": [
    "# model 1: a)\n",
    "# model 2: e) smaller model\n",
    "\n",
    "print('Adj. R-squared of model 1:', foo.rsquared_adj )\n",
    "print('Adj. R-squared of of model 2:', foo.rsquared_adj )\n",
    "print('-'*50)\n",
    "print('F-statistic of model 1:', foo.fvalue)\n",
    "print('F-statistic of of model 2:', foo.fvalue)\n",
    "print('-'*50)\n",
    "print('MSE of residuals of model 1:', foo.mse_resid)\n",
    "print('MSE of residuals of model 2:', foo.mse_resid)\n",
    "print('-'*50)\n",
    "print('BIC of residuals of model 1:', foo.bic)\n",
    "print('BIC of residuals of model 2:', foo.bic)\n",
    "print('-'*50)\n",
    "print('AIC of residuals of model 1:', foo.aic)\n",
    "print('AIC of residuals of model 2:', foo.aic)"
   ]
  },
  {
   "cell_type": "markdown",
   "metadata": {},
   "source": [
    "..."
   ]
  },
  {
   "cell_type": "markdown",
   "metadata": {},
   "source": [
    "## Task g)\n",
    "\n",
    "Using the model from (e), obtain 95% confidence intervals for the coefficient(s)."
   ]
  },
  {
   "cell_type": "code",
   "execution_count": 11,
   "metadata": {},
   "outputs": [],
   "source": [
    "# CI"
   ]
  },
  {
   "cell_type": "markdown",
   "metadata": {},
   "source": [
    "---\n",
    "---"
   ]
  }
 ],
 "metadata": {
  "kernelspec": {
   "display_name": "Python 3",
   "language": "python",
   "name": "python3"
  },
  "language_info": {
   "codemirror_mode": {
    "name": "ipython",
    "version": 3
   },
   "file_extension": ".py",
   "mimetype": "text/x-python",
   "name": "python",
   "nbconvert_exporter": "python",
   "pygments_lexer": "ipython3",
   "version": "3.6.5"
  }
 },
 "nbformat": 4,
 "nbformat_minor": 2
}
