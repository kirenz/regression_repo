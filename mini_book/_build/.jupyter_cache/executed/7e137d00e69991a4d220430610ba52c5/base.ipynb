{
 "cells": [
  {
   "cell_type": "code",
   "execution_count": 1,
   "id": "4c4640f1",
   "metadata": {},
   "outputs": [],
   "source": [
    "\n",
    "#data_explore <- train_data\n"
   ]
  },
  {
   "cell_type": "code",
   "execution_count": 2,
   "id": "e680cbb7",
   "metadata": {
    "fig.cap": "Scatterplot of longitude and latitude",
    "name": "point-long-lat",
    "out.width": "80%"
   },
   "outputs": [],
   "source": [
    "\n",
    "#data_explore %>% \n",
    "#  ggplot(aes(x = longitude, y = latitude)) +\n",
    "#  geom_point(color = \"cornflowerblue\")\n"
   ]
  },
  {
   "cell_type": "code",
   "execution_count": 3,
   "id": "19226600",
   "metadata": {
    "fig.cap": "Scatterplot of longitude and latitude that highlights high-density areas",
    "name": "point-long-lat-a",
    "out.width": "80%"
   },
   "outputs": [],
   "source": [
    "\n",
    "#data_explore %>% \n",
    "#  ggplot(aes(x = longitude, y = latitude)) +\n",
    "#  geom_point(color = \"cornflowerblue\", alpha = 0.1) \n",
    "  "
   ]
  },
  {
   "cell_type": "code",
   "execution_count": 4,
   "id": "a1efd683",
   "metadata": {
    "fig.cap": "California housing_df prices",
    "name": "plot-ca-prices",
    "out.width": "80%"
   },
   "outputs": [],
   "source": [
    "\n",
    "#data_explore %>% \n",
    "#  ggplot(aes(x = longitude, y = latitude)) +\n",
    "#  geom_point(aes(size = population, color = median_house_value), \n",
    "#             alpha = 0.4) +\n",
    "#  scale_colour_gradientn(colours=rev(rainbow(4)))\n"
   ]
  },
  {
   "cell_type": "code",
   "execution_count": 5,
   "id": "4efb4206",
   "metadata": {},
   "outputs": [],
   "source": [
    "#library(ggmap)\n",
    "\n",
    "#qmplot(x = longitude, \n",
    "#       y = latitude, \n",
    "#       data = data_explore, \n",
    "#       geom = \"point\", \n",
    "#       color = median_house_value, \n",
    "#       size = population,\n",
    "#       alpha = 0.4) +\n",
    "#  scale_colour_gradientn(colours=rev(rainbow(4))) +\n",
    "#  scale_alpha(guide = 'none') # don't show legend for alpha\n"
   ]
  },
  {
   "cell_type": "code",
   "execution_count": 6,
   "id": "138b57fe",
   "metadata": {},
   "outputs": [],
   "source": [
    "#library(ggsignif)\n",
    "\n",
    "#data_explore %>% \n",
    "#  ggplot(aes(ocean_proximity, median_house_value)) +\n",
    "#  geom_boxplot(fill=\"steelblue\") +\n",
    "#  xlab(\"Ocean proximity\") +\n",
    "#  ylab(\"Median house value\") +\n",
    "#  geom_signif(comparisons = list(c(\"<1H OCEAN\", \"INLAND\")), # calculate significance\n",
    "#               map_signif_level=TRUE) \n",
    "  "
   ]
  },
  {
   "cell_type": "code",
   "execution_count": 7,
   "id": "f6ab83ff",
   "metadata": {},
   "outputs": [],
   "source": [
    "#library(visdat)#\n",
    "\n",
    "#data_explore %>% \n",
    " # select(where(is.numeric)) %>% # only select numerical data\n",
    " # vis_cor(cor_method = \"spearman\", na_action = \"pairwise.complete.obs\")\n"
   ]
  },
  {
   "cell_type": "code",
   "execution_count": 8,
   "id": "adcdce9b",
   "metadata": {},
   "outputs": [],
   "source": [
    "#library(corrr)\n",
    "\n",
    "# calculate all correlations\n",
    "#cor_res <- \n",
    "#  data_explore %>%\n",
    "#  select(where(is.numeric)) %>% \n",
    "#  correlate(method = \"spearman\", use = \"pairwise.complete.obs\") \n",
    "\n",
    "# show correlations\n",
    "#cor_res %>% \n",
    "#  select(term, median_house_value) %>% \n",
    "#  filter(!is.na(median_house_value)) %>% # focus on dependent variable \n",
    "#  arrange(median_house_value) %>% # sort values\n",
    "#  fashion() # print tidy correlations\n",
    "  "
   ]
  },
  {
   "cell_type": "code",
   "execution_count": 9,
   "id": "1ea2dd9d",
   "metadata": {
    "lines_to_next_cell": 2
   },
   "outputs": [],
   "source": [
    "\n",
    "#data_explore %>%\n",
    "#  select(where(is.numeric)) %>%  \n",
    "#  correlate() %>% \n",
    "#  network_plot(min_cor = .15)\n"
   ]
  },
  {
   "cell_type": "code",
   "execution_count": 10,
   "id": "88c593d8",
   "metadata": {
    "message": false,
    "warning": false
   },
   "outputs": [],
   "source": [
    "\n",
    "#cor.test(data_explore$median_house_value, \n",
    "#         data_explore$population_per_household, \n",
    "#         method = \"spearman\", \n",
    "#         exact=FALSE)$p.value\n",
    "\n",
    "#cor.test(data_explore$median_house_value, \n",
    "#         data_explore$bedrooms_per_room, \n",
    "#         method = \"spearman\", \n",
    "#         exact=FALSE)$p.value\n",
    "\n",
    "#cor.test(data_explore$median_house_value, \n",
    "#         data_explore$rooms_per_household, \n",
    "#         method = \"spearman\", \n",
    "#         exact=FALSE)$p.value\n",
    "\n",
    "#cor.test(data_explore$median_house_value, \n",
    "#         data_explore$population_per_household, \n",
    "#         method = \"spearman\", \n",
    "#         exact=FALSE)$p.value\n"
   ]
  },
  {
   "cell_type": "code",
   "execution_count": 11,
   "id": "0ebfc520",
   "metadata": {},
   "outputs": [],
   "source": [
    "\n",
    "#data_explore %>% \n",
    "#  select(median_house_value, ocean_proximity, \n",
    "#         median_income, bedrooms_per_room, rooms_per_household, \n",
    "#         population_per_household) %>% \n",
    "#  ggscatmat(corMethod = \"spearman\",\n",
    "#            alpha=0.2)\n"
   ]
  },
  {
   "cell_type": "code",
   "execution_count": 12,
   "id": "faaf82e6",
   "metadata": {},
   "outputs": [],
   "source": [
    "\n",
    "#data_explore %>% \n",
    "#  select(median_house_value, ocean_proximity, \n",
    "#         median_income, bedrooms_per_room, rooms_per_household, \n",
    "#         population_per_household) %>% \n",
    "#  ggscatmat(color=\"ocean_proximity\", # add a categorical variable\n",
    "#            corMethod = \"spearman\",\n",
    "#            alpha=0.2)\n"
   ]
  },
  {
   "cell_type": "code",
   "execution_count": 13,
   "id": "7751d4d8",
   "metadata": {},
   "outputs": [],
   "source": [
    "\n",
    "#data_explore %>% \n",
    "#  ggplot(aes(median_income, median_house_value)) +\n",
    "#  geom_jitter(color = \"steelblue\", alpha = 0.2) + \n",
    "#  xlab(\"Median income\") +\n",
    "#  ylab(\"Median house value\") +\n",
    " # scale_y_continuous(labels = scales::dollar)\n"
   ]
  },
  {
   "cell_type": "code",
   "execution_count": 14,
   "id": "6f6360d2",
   "metadata": {},
   "outputs": [],
   "source": [
    "\n",
    "#housing_df_new <-\n",
    "#  housing_df %>% \n",
    "#  filter(median_house_value < 500000) %>% # only use houses with a value below 500000\n",
    "#  select( # select our predictors\n",
    "#    longitude, latitude, \n",
    "#    median_house_value, \n",
    "#    median_income, \n",
    "#    ocean_proximity, \n",
    "#    bedrooms_per_room, \n",
    "#    rooms_per_household, \n",
    " #   population_per_household\n",
    " #        )\n",
    "\n",
    "#glimpse(housing_df_new)\n",
    "\n"
   ]
  },
  {
   "cell_type": "code",
   "execution_count": 15,
   "id": "93335b50",
   "metadata": {},
   "outputs": [],
   "source": [
    "#set.seed(123)\n",
    "\n",
    "#data_split <- initial_split(housing_df_new, # updated data\n",
    "#                           prop = 3/4, \n",
    "#                           strata = median_house_value, \n",
    "#                           breaks = 4)\n",
    "\n",
    "#train_data <- training(data_split) \n",
    "#test_data <- testing(data_split)\n"
   ]
  },
  {
   "cell_type": "code",
   "execution_count": 16,
   "id": "5cecbcdf",
   "metadata": {
    "lines_to_next_cell": 2
   },
   "outputs": [],
   "source": [
    "\n",
    "#housing_rec <-\n",
    "#  recipe(median_house_value ~ .,\n",
    "#         data = train_data) %>%\n",
    "#  update_role(longitude, latitude, \n",
    "#              new_role = \"ID\") %>% \n",
    "#  step_log(\n",
    "#    median_house_value, median_income,\n",
    "#    bedrooms_per_room, rooms_per_household, \n",
    "#    population_per_household\n",
    "#    ) %>% \n",
    "#  step_naomit(everything(), skip = TRUE) %>% \n",
    "#  step_novel(all_nominal(), -all_outcomes()) %>%\n",
    "#  step_normalize(all_numeric(), -all_outcomes(), \n",
    "#                 -longitude, -latitude) %>% \n",
    "#  step_dummy(all_nominal()) %>%\n",
    "#  step_zv(all_numeric(), -all_outcomes()) %>%\n",
    "#  step_corr(all_predictors(), threshold = 0.7, method = \"spearman\") \n"
   ]
  },
  {
   "cell_type": "code",
   "execution_count": 17,
   "id": "4cb97679",
   "metadata": {},
   "outputs": [],
   "source": [
    "\n",
    "#summary(housing_rec)\n"
   ]
  },
  {
   "cell_type": "code",
   "execution_count": 18,
   "id": "68b40bac",
   "metadata": {},
   "outputs": [],
   "source": [
    "\n",
    "#prepped_data <- \n",
    "#  housing_rec %>% # use the recipe object\n",
    "#  prep() %>% # perform the recipe on training data\n",
    "#  juice() # extract only the preprocessed dataframe \n"
   ]
  },
  {
   "cell_type": "code",
   "execution_count": 19,
   "id": "59e34dd1",
   "metadata": {},
   "outputs": [],
   "source": [
    "\n",
    "#glimpse(prepped_data)\n"
   ]
  },
  {
   "cell_type": "code",
   "execution_count": 20,
   "id": "dc05d449",
   "metadata": {},
   "outputs": [],
   "source": [
    "#prepped_data %>% \n",
    "#  select(median_house_value, \n",
    "#         median_income, \n",
    "#         rooms_per_household, \n",
    "#         population_per_household) %>% \n",
    "#  ggscatmat(corMethod = \"spearman\",\n",
    "#            alpha=0.2)"
   ]
  },
  {
   "cell_type": "code",
   "execution_count": 21,
   "id": "3873b667",
   "metadata": {},
   "outputs": [],
   "source": [
    "\n",
    "#set.seed(100)\n",
    "\n",
    "#cv_folds <-\n",
    "# vfold_cv(train_data, \n",
    "#          v = 5, # number of folds\n",
    "#          strata = median_house_value,\n",
    "#          breaks = 4) \n"
   ]
  },
  {
   "cell_type": "code",
   "execution_count": 22,
   "id": "94be1f50",
   "metadata": {},
   "outputs": [],
   "source": [
    "\n",
    "#lasso_spec <- # your model specification\n",
    "#  linear_reg(penalty = 0.1, mixture = 1) %>%  # model type and some options\n",
    "#  set_engine(engine = \"glmnet\") %>%  # model engine\n",
    "#  set_mode(\"regression\") # model mode\n",
    "\n",
    "# Show your model specification\n",
    "#lasso_spec\n"
   ]
  },
  {
   "cell_type": "code",
   "execution_count": null,
   "id": "1d497508",
   "metadata": {},
   "outputs": [],
   "source": [
    "\n",
    "\n"
   ]
  },
  {
   "cell_type": "code",
   "execution_count": null,
   "id": "9354a069",
   "metadata": {},
   "outputs": [],
   "source": [
    "\n"
   ]
  },
  {
   "cell_type": "code",
   "execution_count": null,
   "id": "b066eb74",
   "metadata": {},
   "outputs": [],
   "source": [
    "\n"
   ]
  },
  {
   "cell_type": "code",
   "execution_count": null,
   "id": "31613a0f",
   "metadata": {
    "lines_to_next_cell": 2
   },
   "outputs": [],
   "source": [
    "\n"
   ]
  },
  {
   "cell_type": "code",
   "execution_count": null,
   "id": "143fd855",
   "metadata": {
    "lines_to_next_cell": 2
   },
   "outputs": [],
   "source": []
  },
  {
   "cell_type": "code",
   "execution_count": null,
   "id": "55db19e0",
   "metadata": {},
   "outputs": [],
   "source": [
    "\n"
   ]
  },
  {
   "cell_type": "code",
   "execution_count": null,
   "id": "b2b153a9",
   "metadata": {
    "lines_to_next_cell": 2
   },
   "outputs": [],
   "source": [
    "\n"
   ]
  },
  {
   "cell_type": "code",
   "execution_count": null,
   "id": "4903261c",
   "metadata": {
    "lines_to_next_cell": 2
   },
   "outputs": [],
   "source": []
  },
  {
   "cell_type": "code",
   "execution_count": null,
   "id": "95383a2f",
   "metadata": {},
   "outputs": [],
   "source": [
    "\n",
    "\n"
   ]
  },
  {
   "cell_type": "code",
   "execution_count": null,
   "id": "d6b9ce23",
   "metadata": {},
   "outputs": [],
   "source": [
    "\n"
   ]
  },
  {
   "cell_type": "code",
   "execution_count": null,
   "id": "07132c7c",
   "metadata": {},
   "outputs": [],
   "source": []
  },
  {
   "cell_type": "code",
   "execution_count": null,
   "id": "95e6def4",
   "metadata": {},
   "outputs": [],
   "source": []
  },
  {
   "cell_type": "code",
   "execution_count": null,
   "id": "6b7c3457",
   "metadata": {},
   "outputs": [],
   "source": []
  },
  {
   "cell_type": "code",
   "execution_count": null,
   "id": "64ac27b7",
   "metadata": {},
   "outputs": [],
   "source": []
  },
  {
   "cell_type": "code",
   "execution_count": null,
   "id": "7999824b",
   "metadata": {},
   "outputs": [],
   "source": []
  },
  {
   "cell_type": "code",
   "execution_count": null,
   "id": "d16d3bd8",
   "metadata": {},
   "outputs": [],
   "source": []
  },
  {
   "cell_type": "code",
   "execution_count": null,
   "id": "c4f98b9c",
   "metadata": {},
   "outputs": [],
   "source": []
  },
  {
   "cell_type": "code",
   "execution_count": null,
   "id": "edfaadc1",
   "metadata": {
    "lines_to_next_cell": 2
   },
   "outputs": [],
   "source": []
  },
  {
   "cell_type": "code",
   "execution_count": null,
   "id": "6eb74425",
   "metadata": {
    "lines_to_next_cell": 2
   },
   "outputs": [],
   "source": []
  },
  {
   "cell_type": "code",
   "execution_count": null,
   "id": "4c90d60e",
   "metadata": {},
   "outputs": [],
   "source": []
  },
  {
   "cell_type": "code",
   "execution_count": null,
   "id": "94d1542a",
   "metadata": {},
   "outputs": [],
   "source": []
  },
  {
   "cell_type": "code",
   "execution_count": null,
   "id": "e9961179",
   "metadata": {},
   "outputs": [],
   "source": []
  },
  {
   "cell_type": "code",
   "execution_count": null,
   "id": "22e6b6ec",
   "metadata": {},
   "outputs": [],
   "source": []
  }
 ],
 "metadata": {
  "jupytext": {
   "cell_metadata_filter": "out.width,fig.cap,warning,tags,fig.width,message,name,fig.margin,-all",
   "main_language": "R",
   "notebook_metadata_filter": "-all"
  },
  "language_info": {
   "codemirror_mode": {
    "name": "ipython",
    "version": 3
   },
   "file_extension": ".py",
   "mimetype": "text/x-python",
   "name": "python",
   "nbconvert_exporter": "python",
   "pygments_lexer": "ipython3",
   "version": "3.8.12"
  }
 },
 "nbformat": 4,
 "nbformat_minor": 5
}