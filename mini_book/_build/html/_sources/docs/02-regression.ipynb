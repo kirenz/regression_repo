{
 "cells": [
  {
   "cell_type": "markdown",
   "id": "04379d7b",
   "metadata": {},
   "source": [
    "(file-types:notebooks)=\n",
    "\n",
    "\n",
    "# Introduction\n"
   ]
  },
  {
   "cell_type": "markdown",
   "id": "31c1b02c",
   "metadata": {
    "tags": [
     "remove_cell"
    ]
   },
   "source": [
    "library(tidyverse)\n",
    "library(skimr)\n",
    "library(GGally)\n",
    "library(ggmap)\n",
    "library(tidymodels)\n",
    "library(visdat)\n",
    "library(corrr)\n",
    "library(ggsignif)\n",
    "library(gt)\n",
    "\n",
    "theme_set(theme_classic())\n"
   ]
  },
  {
   "cell_type": "markdown",
   "id": "9f583a82",
   "metadata": {},
   "source": [
    "In this chapter, we'll build the following models:"
   ]
  },
  {
   "cell_type": "markdown",
   "id": "3b597f64",
   "metadata": {},
   "source": [
    "* lasso, \n",
    "* natural spline, \n",
    "* random forest,\n",
    "* XGBoost (extreme gradient boosted trees)\n",
    "* K-nearest neighbor"
   ]
  },
  {
   "cell_type": "markdown",
   "id": "902844dc",
   "metadata": {},
   "source": [
    "*Lasso* performs a so called L1 regularization (a process of introducing additional information in order to prevent overfitting). In particular, it adds a penalty equivalent to the absolute value of the magnitude of coefficients. See @James2000 for more details about lasso regression."
   ]
  },
  {
   "cell_type": "markdown",
   "id": "e00db5e3",
   "metadata": {},
   "source": [
    "A *natural spline* is an advancement of a piecewise polynomial regression spline which involves fitting separate low-degree polynomials over different regions of our predictor space X. In particular, a natural spline is a regression spline with additional boundary constraints: the function is required to be linear at the boundary (in the region where X is smaller than the smallest knot, or larger than the largest knot). This additional constraint means that natural splines generally produce more stable estimates at the boundaries. See @James2000 for more details about piecewise polynomial regression splines and natural splines."
   ]
  },
  {
   "cell_type": "markdown",
   "id": "4bd9cc96",
   "metadata": {},
   "source": [
    "# Business understanding\n",
    "\n",
    ":::note\n",
    "In business understanding, you:\n",
    "\n",
    "- Define your (business) goal\n",
    "- Frame the problem (regression, classification,...)\n",
    "- Choose a performance measure\n",
    "- Show the data processing components\n",
    ":::\n",
    "\n",
    "First of all, we take a look at the big picture and define the objective of our data science project in business terms.\n",
    "\n",
    "In our example, the goal is to build a model of housing prices in California. In particular, the model should learn from California census data and be able to predict the median house price in any district (population of 600 to 3000 people), given some predictor variables. Hence, we face a **supervised learning** situation and should use a **regression model** to predict the numerical outcomes. Furthermore, we use the **root mean square error (RMSE)** as a performance measure for our regression problem.\n",
    "\n",
    "Let's assume that the model’s output (a prediction of a district’s median housing price) will be fed to another analytics system, along with other data. This downstream system will determine whether it is worth investing in a given area or not. The **data processing components** (also called data pipeline) are shown in \\@ref(fig:datapipeline) (you can use [Google's architectural templates](https://docs.google.com/presentation/d/1vjm5YdmOH5LrubFhHf1vlqW2O9Z2UqdWA8biN3e8K5U/edit#slide=id.g19b41f69d7_2_265) to draw the data pipeline)."
   ]
  },
  {
   "cell_type": "markdown",
   "id": "d8c2d822",
   "metadata": {
    "fig.cap": "Data processing components",
    "fig.margin": true,
    "fig.width": 3,
    "lines_to_next_cell": 2,
    "name": "datapipeline",
    "tags": [
     "remove_input"
    ]
   },
   "source": [
    "\n",
    "knitr::include_graphics(\"css/data-pipeline.png\")\n"
   ]
  },
  {
   "cell_type": "markdown",
   "id": "493905ce",
   "metadata": {},
   "source": [
    "# Data understanding\n",
    "\n",
    ":::note\n",
    "In data understanding, you:\n",
    "\n",
    "- Import data \n",
    "- Clean data\n",
    "- Format data properly\n",
    "- Create new variables\n",
    "- Get an overview about the complete data\n",
    "- Split data into training and test set using stratified sampling\n",
    "- Discover and visualize the data to gain insights \n",
    ":::\n",
    "\n",
    "## Imort Data\n",
    "\n",
    "First of all, let's import the data:"
   ]
  },
  {
   "cell_type": "markdown",
   "id": "f6d1c9ac",
   "metadata": {
    "lines_to_next_cell": 2
   },
   "source": [
    "library(tidyverse)\n",
    "\n",
    "LINK <- \"https://raw.githubusercontent.com/kirenz/datasets/master/housing_unclean.csv\"\n",
    "housing_df <- read_csv(LINK)\n"
   ]
  },
  {
   "cell_type": "markdown",
   "id": "62cbcf4e",
   "metadata": {},
   "source": [
    "## Clean data\n",
    "\n",
    "To get a first impression of the data we take a look at the top 4 rows: "
   ]
  },
  {
   "cell_type": "markdown",
   "id": "ab6c221e",
   "metadata": {},
   "source": [
    "library(gt)\n",
    "\n",
    "housing_df %>% \n",
    "  slice_head(n = 4) %>% \n",
    "  gt() # print output using gt\n"
   ]
  },
  {
   "cell_type": "markdown",
   "id": "910782bd",
   "metadata": {},
   "source": [
    "Notice the values in the first row of the variables `housing_median_age` and `median_house_value`. We need to remove the strings \"years\" and \"$\" with the function `str_remove_all` from the `stringr` package. Since there could be multiple wrong entries of the same type, we apply our corrections to all of the rows of the corresponding variable:"
   ]
  },
  {
   "cell_type": "markdown",
   "id": "bbfc1997",
   "metadata": {},
   "source": [
    "library(stringr)\n",
    "\n",
    "housing_df <- \n",
    "  housing_df %>% \n",
    "  mutate(\n",
    "    housing_median_age = str_remove_all(housing_median_age, \"[years]\"),\n",
    "    median_house_value = str_remove_all(median_house_value, \"[$]\")\n",
    "  )\n"
   ]
  },
  {
   "cell_type": "markdown",
   "id": "63d3422b",
   "metadata": {},
   "source": [
    "We don't cover the phase of data cleaning in detail in this tutorial. However, in a real data science project data cleaning is usually a very time consuming process.\n",
    "\n",
    "## Format data\n",
    "\n",
    "Next, we take a look at the data structure and check wether all data formats are correct:\n",
    "\n",
    "* Numeric variables should be formatted as integers (`int`) or double precision floating point numbers (`dbl`).\n",
    "\n",
    "* Categorical (nominal and ordinal) variables should usually be formatted as factors (`fct`) and not characters (`chr`). Especially, if they don't have many levels."
   ]
  },
  {
   "cell_type": "markdown",
   "id": "1086b9ca",
   "metadata": {},
   "source": [
    "glimpse(housing_df)\n"
   ]
  },
  {
   "cell_type": "markdown",
   "id": "9d6ea701",
   "metadata": {},
   "source": [
    "The package `visdat` helps us to explore the data class structure visually:"
   ]
  },
  {
   "cell_type": "markdown",
   "id": "120656f7",
   "metadata": {
    "fig.cap": "Overview about data classes",
    "name": "visdat-reg"
   },
   "source": [
    "library(visdat)\n",
    "\n",
    "vis_dat(housing_df)\n"
   ]
  },
  {
   "cell_type": "markdown",
   "id": "76db6437",
   "metadata": {},
   "source": [
    "We can observe that the numeric variables `housing_media_age` and `median_house_value` are declared as characters (`chr`) instead of numeric. We choose to format the variables as `dbl`, since the values could be floating-point numbers. \n",
    "\n",
    "Furthermore, the categorical variable `ocean_proximity` is formatted as character instead of factor. Let's take a look at the levels of the variable: "
   ]
  },
  {
   "cell_type": "markdown",
   "id": "0efced3c",
   "metadata": {},
   "source": [
    "housing_df %>% \n",
    "  count(ocean_proximity,\n",
    "        sort = TRUE)\n"
   ]
  },
  {
   "cell_type": "markdown",
   "id": "473894e5",
   "metadata": {},
   "source": [
    "The variable has only 5 levels and therefore should be formatted as a factor.\n",
    "\n",
    "Note that it is usually a good idea to first take care of the numerical variables. Afterwards, we can easily convert all remaining character variables to factors using the function `across` from the dplyr package (which is part of the tidyverse)."
   ]
  },
  {
   "cell_type": "markdown",
   "id": "3f9ee92e",
   "metadata": {
    "lines_to_next_cell": 2
   },
   "source": [
    "# convert to numeric\n",
    "housing_df <- \n",
    "  housing_df %>% \n",
    "  mutate(\n",
    "    housing_median_age = as.numeric(housing_median_age),\n",
    "    median_house_value = as.numeric(median_house_value)\n",
    "  )\n",
    "\n",
    "# convert all remaining character variables to factors \n",
    "housing_df <- \n",
    "  housing_df %>% \n",
    "  mutate(across(where(is.character), as.factor))\n"
   ]
  },
  {
   "cell_type": "markdown",
   "id": "904bf04b",
   "metadata": {},
   "source": [
    "## Missing data\n",
    "\n",
    "Now let's turn our attention to missing data. Missing data can be viewed with the function `vis_miss` from the package `visdat`. We arrange the data by columns with most missingness: "
   ]
  },
  {
   "cell_type": "markdown",
   "id": "7b23f3ed",
   "metadata": {
    "fig.cap": "Overview about missing data",
    "name": "vis-miss-reg"
   },
   "source": [
    "vis_miss(housing_df, sort_miss = TRUE)\n"
   ]
  },
  {
   "cell_type": "markdown",
   "id": "d3f8e5e7",
   "metadata": {},
   "source": [
    "Here an alternative method to obtain missing data: "
   ]
  },
  {
   "cell_type": "markdown",
   "id": "1aeb36e0",
   "metadata": {},
   "source": [
    "is.na(housing_df) %>% colSums()\n"
   ]
  },
  {
   "cell_type": "markdown",
   "id": "c05261a1",
   "metadata": {},
   "source": [
    "We have a missing rate of 0.1% (207 cases) in our variable `total_bedroms`. This can cause problems for some algorithms. We will take care of this issue during our data preparation phase. "
   ]
  },
  {
   "cell_type": "markdown",
   "id": "14f6c799",
   "metadata": {},
   "source": [
    "## Create new variables \n",
    "\n",
    "One very important thing you may want to do at the beginning of your data science project is to create new variable combinations. For example:\n",
    "\n",
    "* the *total number of rooms* in a district is not very useful if you don’t know how many households there are. What you really want is the *number of rooms per household*. \n",
    "\n",
    "* Similarly, the total number of bedrooms by itself is not very useful: you probably want to compare it to the number of rooms. \n",
    "\n",
    "* And the *population per household* also seems like an interesting attribute combination to look at. \n",
    "\n",
    "Let’s create these new attributes:"
   ]
  },
  {
   "cell_type": "markdown",
   "id": "ab27c5e8",
   "metadata": {
    "lines_to_next_cell": 2
   },
   "source": [
    "\n",
    "housing_df <- \n",
    "  housing_df %>% \n",
    "  mutate(rooms_per_household = total_rooms/households,\n",
    "        bedrooms_per_room = total_bedrooms/total_rooms,\n",
    "        population_per_household = population/households)\n"
   ]
  },
  {
   "cell_type": "markdown",
   "id": "3869e64a",
   "metadata": {},
   "source": [
    "## Data overview  \n",
    "\n",
    "After we took care of our data problems, we can obtain a data summary of all numerical and categorical attributes using a function from the package `skimr`:"
   ]
  },
  {
   "cell_type": "markdown",
   "id": "0fe30f6d",
   "metadata": {},
   "source": [
    "\n",
    "skim(housing_df)\n"
   ]
  },
  {
   "cell_type": "markdown",
   "id": "9987a516",
   "metadata": {},
   "source": [
    "We have `r nrow(housing_df)` observations and `r ncol(housing_df)` columns in our data.\n",
    "\n",
    "* The `sd` column shows the standard deviation, which measures how dispersed the values are. \n",
    "\n",
    "* The p0, p25, p50, p75 and p100 columns show the corresponding percentiles: a percentile indicates the value below which a given percentage of observations in a group of observations fall. For example, 25% of the districts have a `housing_median_age` lower than 18, while 50% are lower than 29 and 75% are lower than 37. These are often called the 25th percentile (or first quartile), the median, and the 75th percentile.\n",
    "\n",
    "* Further note that the **median income** attribute does not look like it is expressed in US dollars (USD). Actually the data has been scaled and capped at 15 (actually, 15.0001) for higher median incomes, and at 0.5 (actually, 0.4999) for lower median incomes. The numbers represent roughly tens of thousands of dollars (e.g., 3 actually means about $30,000)."
   ]
  },
  {
   "cell_type": "markdown",
   "id": "12721554",
   "metadata": {},
   "source": [
    "Another quick way to get an overview of the type of data you are dealing with is to plot a histogram for each numerical attribute. A histogram shows the number of instances (on the vertical axis) that have a given value range (on the horizontal axis). You can either plot this one attribute at a time, or you can use `ggscatmat` from the package `GGally` on the whole dataset (as shown in the following code example), and it will plot a histogram for each numerical attribute as well as  correlation coefficients (Pearson is the default). We just select the most promising variabels for our plot:\n"
   ]
  },
  {
   "cell_type": "markdown",
   "id": "be09bec9",
   "metadata": {},
   "source": [
    "library(GGally)\n",
    "\n",
    "housing_df %>% \n",
    "  select(\n",
    "    median_house_value, housing_median_age, \n",
    "    median_income, bedrooms_per_room, rooms_per_household, \n",
    "    population_per_household) %>% \n",
    "  ggscatmat(alpha = 0.2)\n"
   ]
  },
  {
   "cell_type": "markdown",
   "id": "095f7c47",
   "metadata": {},
   "source": [
    "Another option is to use `ggpairs`, where we even can integrate our categorical variable `ocean_proximity` in the output:"
   ]
  },
  {
   "cell_type": "markdown",
   "id": "6f5988ab",
   "metadata": {},
   "source": [
    "library(GGally)\n",
    "\n",
    "housing_df %>% \n",
    "  select(\n",
    "    median_house_value, housing_median_age, \n",
    "    median_income, bedrooms_per_room, rooms_per_household, \n",
    "    population_per_household,\n",
    "    ocean_proximity) %>% \n",
    "  ggpairs()\n"
   ]
  },
  {
   "cell_type": "markdown",
   "id": "4243934f",
   "metadata": {},
   "source": [
    "There are a few things you might notice in these histograms:\n",
    "\n",
    "* The variables *median income*, *housing median age* and the *median house value* were capped. The latter may be a serious problem since it is our target attribute (your y label). Our Machine Learning algorithms may learn that prices never go beyond that limit. This will be a serious problem if we need predictions beyond 500,000. We take care of this issue in our data preparation phase and only use districts below 500,000.\n",
    "\n",
    "* Note that our attributes have very different scales. We will take care of this issue later in data preparation, when we use feature scaling (data normalization).\n",
    "\n",
    "* Finally, many histograms are tail-heavy: they extend much farther to the right of the median than to the left. This may make it a bit harder for some Machine Learning algorithms to detect patterns. We will transform these attributes later on to have more bell-shaped distributions. For our right-skewed data (i.e., tail is on the right, also called positive skew), common transformations include square root and log (we will use the log). "
   ]
  },
  {
   "cell_type": "markdown",
   "id": "128d6bf3",
   "metadata": {},
   "source": [
    "## Data splitting\n",
    "\n",
    "Before we get started with our in-depth data exploration, let’s split our single dataset into two: a training set and a testing set. The training data will be used to fit models, and the testing set will be used to measure model performance. We perform data exploration only on the training data.\n",
    "\n",
    "A **training dataset** is a dataset of examples used during the learning process and is used to fit the models. A **test dataset** is a dataset that is independent of the training dataset and is used to evaluate the performance of the final model. If a model fit to the training dataset also fits the test dataset well, minimal *overfitting* has taken place. A better fitting of the training dataset as opposed to the test dataset usually points to overfitting.\n",
    "\n",
    "In our data split, we want to ensure that the training and test set is representative of the various categories of median house values in the whole dataset. Take a look at \\@ref(fig:hist-med-value)\n"
   ]
  },
  {
   "cell_type": "markdown",
   "id": "fa629a66",
   "metadata": {
    "fig.cap": "Histogram of Median Proces",
    "name": "hist-med-value",
    "out.width": "80%"
   },
   "source": [
    "\n",
    "housing_df %>% \n",
    "  ggplot(aes(median_house_value)) +\n",
    "  geom_histogram(bins = 4) \n"
   ]
  },
  {
   "cell_type": "markdown",
   "id": "578f128a",
   "metadata": {},
   "source": [
    "In general, we would like to have instances for each *stratum*, or else the estimate of a stratum's importance may be biased. A *stratum* (plural strata) refers to a subset (part) of the whole data from which is being sampled. You should not have too many strata, and each stratum should be large enough. We use 4 strata in our example. \n",
    "\n",
    "To actually split the data, we can use the `rsample` package (included in `tidymodels`) to create an object that contains the information on how to split the data (which we call `data_split`), and then two more `rsample` functions to create data frames for the training and testing sets:"
   ]
  },
  {
   "cell_type": "markdown",
   "id": "208a7ad7",
   "metadata": {
    "lines_to_next_cell": 2
   },
   "source": [
    "\n",
    "# Fix the random numbers by setting the seed \n",
    "# This enables the analysis to be reproducible \n",
    "set.seed(123)\n",
    "\n",
    "# Put 3/4 of the data into the training set \n",
    "data_split <- initial_split(housing_df, \n",
    "                           prop = 3/4, \n",
    "                           strata = median_house_value, \n",
    "                           breaks = 4)\n",
    "\n",
    "# Create dataframes for the two sets:\n",
    "train_data <- training(data_split) \n",
    "test_data <- testing(data_split)\n"
   ]
  },
  {
   "cell_type": "markdown",
   "id": "f8c51be8",
   "metadata": {},
   "source": [
    "## Data exploration\n",
    "\n",
    "The point of data exploration is to gain insights that will help you select important variables for your model and to get ideas for feature engineering in the data preparation phase. Ususally, data exploration is an iterative process: once you get a prototype model up and running, you can analyze its output to gain more insights and come back to this exploration step. It is important to note that we perform data exploration only with our training data."
   ]
  },
  {
   "cell_type": "markdown",
   "id": "bb2d6421",
   "metadata": {},
   "source": [
    "### Create data copy \n",
    "\n",
    "We first make a copy of the training data since we don't want to alter our data during data exploration. "
   ]
  },
  {
   "cell_type": "code",
   "execution_count": null,
   "id": "4c4640f1",
   "metadata": {},
   "outputs": [],
   "source": [
    "\n",
    "#data_explore <- train_data\n"
   ]
  },
  {
   "cell_type": "markdown",
   "id": "397d26e1",
   "metadata": {},
   "source": [
    "Next, we take a closer look at the relationships between our variables. In particular, we are interested in the relationships between our *dependent* variable `median_house_value` and all other variables. The goal is to identify possible *predictor variables* which we could use in our models to predict the `median_house_value`. "
   ]
  },
  {
   "cell_type": "markdown",
   "id": "01495e88",
   "metadata": {},
   "source": [
    "### Geographical overview\n",
    "\n",
    "Since our data includes information about `longitude` and `latitude`, we start our data exploration with the creation of a geographical scatterplot of the data to get some first insights: "
   ]
  },
  {
   "cell_type": "code",
   "execution_count": null,
   "id": "e680cbb7",
   "metadata": {
    "fig.cap": "Scatterplot of longitude and latitude",
    "name": "point-long-lat",
    "out.width": "80%"
   },
   "outputs": [],
   "source": [
    "\n",
    "#data_explore %>% \n",
    "#  ggplot(aes(x = longitude, y = latitude)) +\n",
    "#  geom_point(color = \"cornflowerblue\")\n"
   ]
  },
  {
   "cell_type": "markdown",
   "id": "89d8f15f",
   "metadata": {},
   "source": [
    "A better visualization that highlights high-density areas (with parameter `alpha = 0.1` ):"
   ]
  },
  {
   "cell_type": "code",
   "execution_count": null,
   "id": "19226600",
   "metadata": {
    "fig.cap": "Scatterplot of longitude and latitude that highlights high-density areas",
    "name": "point-long-lat-a",
    "out.width": "80%"
   },
   "outputs": [],
   "source": [
    "\n",
    "#data_explore %>% \n",
    "#  ggplot(aes(x = longitude, y = latitude)) +\n",
    "#  geom_point(color = \"cornflowerblue\", alpha = 0.1) \n",
    "  "
   ]
  },
  {
   "cell_type": "markdown",
   "id": "a6b95691",
   "metadata": {},
   "source": [
    "Overview about California housing prices: \n",
    "\n",
    "- red is expensive, \n",
    "- purple is cheap and \n",
    "- larger circles indicate areas with a larger population.\n"
   ]
  },
  {
   "cell_type": "code",
   "execution_count": null,
   "id": "a1efd683",
   "metadata": {
    "fig.cap": "California housing_df prices",
    "name": "plot-ca-prices",
    "out.width": "80%"
   },
   "outputs": [],
   "source": [
    "\n",
    "#data_explore %>% \n",
    "#  ggplot(aes(x = longitude, y = latitude)) +\n",
    "#  geom_point(aes(size = population, color = median_house_value), \n",
    "#             alpha = 0.4) +\n",
    "#  scale_colour_gradientn(colours=rev(rainbow(4)))\n"
   ]
  },
  {
   "cell_type": "markdown",
   "id": "e68a738f",
   "metadata": {},
   "source": [
    "Lastly, we add a map to our data:"
   ]
  },
  {
   "cell_type": "code",
   "execution_count": null,
   "id": "4efb4206",
   "metadata": {},
   "outputs": [],
   "source": [
    "#library(ggmap)\n",
    "\n",
    "#qmplot(x = longitude, \n",
    "#       y = latitude, \n",
    "#       data = data_explore, \n",
    "#       geom = \"point\", \n",
    "#       color = median_house_value, \n",
    "#       size = population,\n",
    "#       alpha = 0.4) +\n",
    "#  scale_colour_gradientn(colours=rev(rainbow(4))) +\n",
    "#  scale_alpha(guide = 'none') # don't show legend for alpha\n"
   ]
  },
  {
   "cell_type": "markdown",
   "id": "d7b481d8",
   "metadata": {},
   "source": [
    "This image tells you that the housing prices are very much related to the location (e.g., close to the ocean) and to the population density. Hence our `ocean_proximity` variable may be a useful predictor of median housing prices, although in Northern California the housing prices in coastal districts are not too high, so it is not a simple rule.\n",
    "\n",
    "### Boxplots\n",
    "\n",
    "We can use boxplots to check, if we actually find differences in the median house value for the different levels of the *categorical variable* `ocean_proximity`. Additionally, we use the package `ggsignif` to calculate the significance of the difference between two of our groups and add the annotation to the plot in a single line.   "
   ]
  },
  {
   "cell_type": "code",
   "execution_count": null,
   "id": "138b57fe",
   "metadata": {},
   "outputs": [],
   "source": [
    "#library(ggsignif)\n",
    "\n",
    "#data_explore %>% \n",
    "#  ggplot(aes(ocean_proximity, median_house_value)) +\n",
    "#  geom_boxplot(fill=\"steelblue\") +\n",
    "#  xlab(\"Ocean proximity\") +\n",
    "#  ylab(\"Median house value\") +\n",
    "#  geom_signif(comparisons = list(c(\"<1H OCEAN\", \"INLAND\")), # calculate significance\n",
    "#               map_signif_level=TRUE) \n",
    "  "
   ]
  },
  {
   "cell_type": "markdown",
   "id": "0c2260a9",
   "metadata": {},
   "source": [
    "We can observe a difference in the median house value for the different levels of our categorical variable (except between \"NEAR BAY\" and \"NEAR OCEAN\") why we should include this variable in our model. Furthermore, the difference between \"<1H OCEAN\" and \"INLAND\" is  statistically significant."
   ]
  },
  {
   "cell_type": "markdown",
   "id": "3b773383",
   "metadata": {},
   "source": [
    "### Correlations\n",
    "\n",
    "Now let's analyze our numerical variables: To obtain the correlations of our numerical data, we can use the function `vis_cor` from the `visdat` package. We use Spearman's correlation coefficient since this measure is more insensitive to outliers than Pearson's correlation coefficient:"
   ]
  },
  {
   "cell_type": "code",
   "execution_count": null,
   "id": "f6ab83ff",
   "metadata": {},
   "outputs": [],
   "source": [
    "#library(visdat)#\n",
    "\n",
    "#data_explore %>% \n",
    " # select(where(is.numeric)) %>% # only select numerical data\n",
    " # vis_cor(cor_method = \"spearman\", na_action = \"pairwise.complete.obs\")\n"
   ]
  },
  {
   "cell_type": "markdown",
   "id": "7c09784c",
   "metadata": {},
   "source": [
    "Now we take a closer look at the correlation coefficients with the package `corrr`. "
   ]
  },
  {
   "cell_type": "code",
   "execution_count": null,
   "id": "adcdce9b",
   "metadata": {},
   "outputs": [],
   "source": [
    "#library(corrr)\n",
    "\n",
    "# calculate all correlations\n",
    "#cor_res <- \n",
    "#  data_explore %>%\n",
    "#  select(where(is.numeric)) %>% \n",
    "#  correlate(method = \"spearman\", use = \"pairwise.complete.obs\") \n",
    "\n",
    "# show correlations\n",
    "#cor_res %>% \n",
    "#  select(term, median_house_value) %>% \n",
    "#  filter(!is.na(median_house_value)) %>% # focus on dependent variable \n",
    "#  arrange(median_house_value) %>% # sort values\n",
    "#  fashion() # print tidy correlations\n",
    "  "
   ]
  },
  {
   "cell_type": "markdown",
   "id": "c90e2078",
   "metadata": {},
   "source": [
    "Furthermore, the function `network_plot` outputs a nice network plot of our data in which \n",
    "\n",
    "* variables that are more highly correlated appear closer together and are joined by stronger paths. \n",
    "* Paths are also colored by their sign (blue for positive and red for negative). \n",
    "* The proximity of the points are determined using clustering\n"
   ]
  },
  {
   "cell_type": "code",
   "execution_count": null,
   "id": "1ea2dd9d",
   "metadata": {
    "lines_to_next_cell": 2
   },
   "outputs": [],
   "source": [
    "\n",
    "#data_explore %>%\n",
    "#  select(where(is.numeric)) %>%  \n",
    "#  correlate() %>% \n",
    "#  network_plot(min_cor = .15)\n"
   ]
  },
  {
   "cell_type": "markdown",
   "id": "56b92ce6",
   "metadata": {},
   "source": [
    "Summary of our findings for the correlation analysis: \n",
    "\n",
    "* `median_income` has a strong positive correlation with `median_house_value`.\n",
    "\n",
    "* the new `bedrooms_per_room` attribute is negatively correlated with the `median_house_value`. Apparently houses with a lower bedroom/room ratio tend to be more expensive. \n",
    "\n",
    "* `rooms_per_household` is also a bit more informative than the total number of rooms (`total_rooms`) in a district. Obviously the larger the houses, the more expensive they are (positive correlation).\n",
    "\n",
    "* `population_per_household` is negatively correlated with our dependent variable."
   ]
  },
  {
   "cell_type": "markdown",
   "id": "2299b5bb",
   "metadata": {},
   "source": [
    "As a last step in our correlation analysis, we check the statistical significance of Spearman's rank correlations. In our example, we only obtain significant p-values:"
   ]
  },
  {
   "cell_type": "code",
   "execution_count": null,
   "id": "88c593d8",
   "metadata": {
    "message": false,
    "warning": false
   },
   "outputs": [],
   "source": [
    "\n",
    "#cor.test(data_explore$median_house_value, \n",
    "#         data_explore$population_per_household, \n",
    "#         method = \"spearman\", \n",
    "#         exact=FALSE)$p.value\n",
    "\n",
    "#cor.test(data_explore$median_house_value, \n",
    "#         data_explore$bedrooms_per_room, \n",
    "#         method = \"spearman\", \n",
    "#         exact=FALSE)$p.value\n",
    "\n",
    "#cor.test(data_explore$median_house_value, \n",
    "#         data_explore$rooms_per_household, \n",
    "#         method = \"spearman\", \n",
    "#         exact=FALSE)$p.value\n",
    "\n",
    "#cor.test(data_explore$median_house_value, \n",
    "#         data_explore$population_per_household, \n",
    "#         method = \"spearman\", \n",
    "#         exact=FALSE)$p.value\n"
   ]
  },
  {
   "cell_type": "markdown",
   "id": "4311e4da",
   "metadata": {},
   "source": [
    "Consequently we will use this four numerical variables as well as `ocean_proximity` as predictors in our model.\n",
    "\n",
    "### Visual inspections\n",
    "\n",
    "Now let's analyze the choosen variables in more detail. The function `ggscatmat` from the package `GGally` creates a matrix with scatterplots, densities and correlations for numeric columns. In our code we choose an alpha level of 0.2 (for transparency)."
   ]
  },
  {
   "cell_type": "code",
   "execution_count": null,
   "id": "0ebfc520",
   "metadata": {},
   "outputs": [],
   "source": [
    "\n",
    "#data_explore %>% \n",
    "#  select(median_house_value, ocean_proximity, \n",
    "#         median_income, bedrooms_per_room, rooms_per_household, \n",
    "#         population_per_household) %>% \n",
    "#  ggscatmat(corMethod = \"spearman\",\n",
    "#            alpha=0.2)\n"
   ]
  },
  {
   "cell_type": "markdown",
   "id": "78cd5d42",
   "metadata": {},
   "source": [
    "We can also add a color column for our categorical variable `ocean_proximity` to get even more insights about the :"
   ]
  },
  {
   "cell_type": "code",
   "execution_count": null,
   "id": "faaf82e6",
   "metadata": {},
   "outputs": [],
   "source": [
    "\n",
    "#data_explore %>% \n",
    "#  select(median_house_value, ocean_proximity, \n",
    "#         median_income, bedrooms_per_room, rooms_per_household, \n",
    "#         population_per_household) %>% \n",
    "#  ggscatmat(color=\"ocean_proximity\", # add a categorical variable\n",
    "#            corMethod = \"spearman\",\n",
    "#            alpha=0.2)\n"
   ]
  },
  {
   "cell_type": "markdown",
   "id": "ba5ee964",
   "metadata": {},
   "source": [
    "We can observe that our ocean proximity variable is indeed a good predictor for our different median house values. Another promising attribute to predict the median house value is the median income, so let’s zoom in:"
   ]
  },
  {
   "cell_type": "code",
   "execution_count": null,
   "id": "7751d4d8",
   "metadata": {},
   "outputs": [],
   "source": [
    "\n",
    "#data_explore %>% \n",
    "#  ggplot(aes(median_income, median_house_value)) +\n",
    "#  geom_jitter(color = \"steelblue\", alpha = 0.2) + \n",
    "#  xlab(\"Median income\") +\n",
    "#  ylab(\"Median house value\") +\n",
    " # scale_y_continuous(labels = scales::dollar)\n"
   ]
  },
  {
   "cell_type": "markdown",
   "id": "1b5833a5",
   "metadata": {},
   "source": [
    "This plot reveals a few things. First, the correlation is indeed very strong; you can clearly see the upward trend, and the points are not too dispersed. Second, the price cap that we noticed earlier is clearly visible as a horizontal line at 500,000 dollars. But this plot reveals other less obvious straight lines: a horizontal line around 450,000 dollars, another around 350,000 dollars, perhaps one around $280,000 dollars, and a few more below that. Hence, in our data preparation phase we will remove districts with 500,000 dollars to prevent our algorithms from learning to reproduce these data quirks.\n",
    "\n",
    "# Data preparation"
   ]
  },
  {
   "cell_type": "markdown",
   "id": "18a26570",
   "metadata": {},
   "source": [
    ":::note\n",
    "Data preparation:\n",
    "\n",
    "- Handle missing values\n",
    "- Fix or remove outliers  \n",
    "- Feature selection\n",
    "- Feature engineering\n",
    "- Feature scaling\n",
    "- Create a validation set\n",
    ":::\n",
    "\n",
    "Next, we’ll preprocess our data before training the models. We mainly use the tidymodels packages `recipes` and `workflows` for this steps. `Recipes` are built as a series of optional data preparation steps, such as:\n",
    "\n",
    "* *Data cleaning*: Fix or remove outliers, fill in missing values (e.g., with zero, mean, median…) or drop their rows (or columns).\n",
    "\n",
    "* *Feature selection*: Drop the attributes that provide no useful information for the task.\n",
    "\n",
    "* *Feature engineering*: Discretize continuous features, decompose features (e.g., the weekday from a date variable, etc.), add promising transformations of features (e.g., log(x), sqrt(x), x2 , etc.) or aggregate features into promising new features (like we already did).\n",
    "\n",
    "* *Feature scaling*: Standardize or normalize features.\n",
    "\n",
    "We will want to use our recipe across several steps as we train and test our models. To simplify this process, we can use a *model workflow*, which pairs a model and recipe together. \n",
    "\n",
    "## Data preparation\n",
    "\n",
    "Before we create our `recipes`, we first select the variables which we will use in the model. We also remove specific cases with a price in median house value equal to or greater as 500000 dollars. Note that we keep `longitude` and `latitude` to be able to map the data in a later stage but we will not use the variables in our model. "
   ]
  },
  {
   "cell_type": "code",
   "execution_count": null,
   "id": "6f6360d2",
   "metadata": {},
   "outputs": [],
   "source": [
    "\n",
    "#housing_df_new <-\n",
    "#  housing_df %>% \n",
    "#  filter(median_house_value < 500000) %>% # only use houses with a value below 500000\n",
    "#  select( # select our predictors\n",
    "#    longitude, latitude, \n",
    "#    median_house_value, \n",
    "#    median_income, \n",
    "#    ocean_proximity, \n",
    "#    bedrooms_per_room, \n",
    "#    rooms_per_household, \n",
    " #   population_per_household\n",
    " #        )\n",
    "\n",
    "#glimpse(housing_df_new)\n",
    "\n"
   ]
  },
  {
   "cell_type": "markdown",
   "id": "9bdf8cae",
   "metadata": {},
   "source": [
    "Furthermore, we need to make a new data split since we updated the original data. "
   ]
  },
  {
   "cell_type": "code",
   "execution_count": null,
   "id": "93335b50",
   "metadata": {},
   "outputs": [],
   "source": [
    "#set.seed(123)\n",
    "\n",
    "#data_split <- initial_split(housing_df_new, # updated data\n",
    "#                           prop = 3/4, \n",
    "#                           strata = median_house_value, \n",
    "#                           breaks = 4)\n",
    "\n",
    "#train_data <- training(data_split) \n",
    "#test_data <- testing(data_split)\n"
   ]
  },
  {
   "cell_type": "markdown",
   "id": "19ca01d8",
   "metadata": {},
   "source": [
    "## Data prepropecessing recipe \n",
    "\n",
    "The type of data preprocessing is dependent on the data and the type of model being fit. The excellent book \"Tidy Modeling with R\" provides an [appendix with recommendations for baseline levels of preprocessing](https://www.tmwr.org/pre-proc-table.html) that are needed for various model functions (@Kuhn2021) "
   ]
  },
  {
   "cell_type": "markdown",
   "id": "1205e0ca",
   "metadata": {},
   "source": [
    "Let’s create a base `recipe` for all of our regression models (for one of the models, we need to add a new recipe step at a later stage). Note that the sequence of steps matter:\n",
    "\n",
    "* The `recipe()` function has two arguments: \n",
    " * *A formula*. Any variable on the left-hand side of the tilde (`~`) is considered the model outcome (here, `median_house_value`). On the right-hand side of the tilde are the predictors. Variables may be listed by name (separated by a `+`), or you can use the dot (`.`) to indicate all other variables as predictors. \n",
    " * *The data*. A recipe is associated with the data set used to create the model. This will typically be the training set, so `data = train_data` here. "
   ]
  },
  {
   "cell_type": "markdown",
   "id": "dd3d14ea",
   "metadata": {},
   "source": [
    "* `update_role()`: This step of adding roles to a recipe is optional; the purpose of using it here is that those two variables can be retained in the data but not included in the model. This can be convenient when, after the model is fit, we want to investigate some poorly predicted value. These ID columns will be available and can be used to try to understand what went wrong. \n",
    "\n",
    "* `step_naomit()` removes observations (rows of data) if they contain NA or NaN values. We use `skip = TRUE` because we don't want to perform this part to new data so that the number of samples in the assessment set is the same as the number of predicted values (even if they are NA).\n",
    "\n",
    "* `step_novel()` converts all nominal variables to factors and takes care of other issues related to categorical variables.\n",
    "\n",
    "* `step_log()` will log transform data (since some of our numerical variables are right-skewed). Note that this step can not be performed on negative numbers.\n",
    "\n",
    "* `step_normalize()` normalizes (center and scales) the numeric variables to have a standard deviation of one and a mean of zero. (i.e., z-standardization). \n",
    "\n",
    "* `step_dummy()` converts our factor column `ocean_proximity` into numeric binary (0 and 1) variables."
   ]
  },
  {
   "cell_type": "markdown",
   "id": "a5b96a8a",
   "metadata": {},
   "source": [
    "* `step_zv()`: removes any numeric variables that have zero variance.\n",
    "\n",
    "* `step_corr()`: will remove predictor variables that have large correlations with other predictor variables.\n"
   ]
  },
  {
   "cell_type": "code",
   "execution_count": null,
   "id": "5cecbcdf",
   "metadata": {
    "lines_to_next_cell": 2
   },
   "outputs": [],
   "source": [
    "\n",
    "#housing_rec <-\n",
    "#  recipe(median_house_value ~ .,\n",
    "#         data = train_data) %>%\n",
    "#  update_role(longitude, latitude, \n",
    "#              new_role = \"ID\") %>% \n",
    "#  step_log(\n",
    "#    median_house_value, median_income,\n",
    "#    bedrooms_per_room, rooms_per_household, \n",
    "#    population_per_household\n",
    "#    ) %>% \n",
    "#  step_naomit(everything(), skip = TRUE) %>% \n",
    "#  step_novel(all_nominal(), -all_outcomes()) %>%\n",
    "#  step_normalize(all_numeric(), -all_outcomes(), \n",
    "#                 -longitude, -latitude) %>% \n",
    "#  step_dummy(all_nominal()) %>%\n",
    "#  step_zv(all_numeric(), -all_outcomes()) %>%\n",
    "#  step_corr(all_predictors(), threshold = 0.7, method = \"spearman\") \n"
   ]
  },
  {
   "cell_type": "markdown",
   "id": "90c507c3",
   "metadata": {},
   "source": [
    "To view the current set of variables and roles, use the `summary()` function:"
   ]
  },
  {
   "cell_type": "code",
   "execution_count": null,
   "id": "4cb97679",
   "metadata": {},
   "outputs": [],
   "source": [
    "\n",
    "#summary(housing_rec)\n"
   ]
  },
  {
   "cell_type": "markdown",
   "id": "c896d2c3",
   "metadata": {},
   "source": [
    "If we would like to check if all of our preprocessing steps from above actually worked, we can  proceed as follows:"
   ]
  },
  {
   "cell_type": "code",
   "execution_count": null,
   "id": "68b40bac",
   "metadata": {},
   "outputs": [],
   "source": [
    "\n",
    "#prepped_data <- \n",
    "#  housing_rec %>% # use the recipe object\n",
    "#  prep() %>% # perform the recipe on training data\n",
    "#  juice() # extract only the preprocessed dataframe \n"
   ]
  },
  {
   "cell_type": "markdown",
   "id": "1d55a1aa",
   "metadata": {},
   "source": [
    "Take a look at the data structure:"
   ]
  },
  {
   "cell_type": "code",
   "execution_count": null,
   "id": "59e34dd1",
   "metadata": {},
   "outputs": [],
   "source": [
    "\n",
    "#glimpse(prepped_data)\n"
   ]
  },
  {
   "cell_type": "markdown",
   "id": "dc8390cf",
   "metadata": {},
   "source": [
    "Visualize the data:"
   ]
  },
  {
   "cell_type": "code",
   "execution_count": null,
   "id": "dc05d449",
   "metadata": {},
   "outputs": [],
   "source": [
    "#prepped_data %>% \n",
    "#  select(median_house_value, \n",
    "#         median_income, \n",
    "#         rooms_per_household, \n",
    "#         population_per_household) %>% \n",
    "#  ggscatmat(corMethod = \"spearman\",\n",
    "#            alpha=0.2)"
   ]
  },
  {
   "cell_type": "markdown",
   "id": "7dbaba1f",
   "metadata": {},
   "source": [
    "You should notice that:\n",
    "\n",
    "* the variables `longitude` and `latitude` did not change. \n",
    "\n",
    "* `median_income`, `rooms_per_household` and `population_per_household` are now z-standardized and the distributions are a bit less right skewed (due to our log transformation)\n",
    "\n",
    "* `ocean_proximity` was replaced by dummy variables. "
   ]
  },
  {
   "cell_type": "markdown",
   "id": "fb5d695c",
   "metadata": {},
   "source": [
    "## Validation set\n",
    "\n",
    "Remember that we already partitioned our data set into a *training set* and *test set*. This lets us judge whether a given model will generalize well to new data. However, using only two partitions may be insufficient when doing many rounds of hyperparameter tuning (which we don't perform in this tutorial but it is always recommended to use a validation set).\n",
    "\n",
    "Therefore, it is usually a good idea to create a so called `validation set`. Watch this short [video from Google's Machine Learning crash course](https://developers.google.com/machine-learning/crash-course/validation/video-lecture) to learn more about the value of a validation set.  \n",
    "\n",
    "We use k-fold crossvalidation to build a set of 5 validation folds with the function `vfold_cv`. We also use stratified sampling:"
   ]
  },
  {
   "cell_type": "code",
   "execution_count": null,
   "id": "3873b667",
   "metadata": {},
   "outputs": [],
   "source": [
    "\n",
    "#set.seed(100)\n",
    "\n",
    "#cv_folds <-\n",
    "# vfold_cv(train_data, \n",
    "#          v = 5, # number of folds\n",
    "#          strata = median_house_value,\n",
    "#          breaks = 4) \n"
   ]
  },
  {
   "cell_type": "markdown",
   "id": "693e4c3d",
   "metadata": {},
   "source": [
    "We will come back to the *validation set* after we specified our models. \n",
    "\n",
    "# Model building\n",
    "\n",
    "## Specify models\n",
    "\n",
    "The process of specifying our models is always as follows:\n",
    "\n",
    "1. Pick a `model type` \n",
    "2. set the `engine`\n",
    "3. Set the `mode`: regression or classification\n",
    "\n",
    "You can choose the `model type` and `engine` from this [list](https://www.tidymodels.org/find/parsnip/).\n",
    "\n",
    "### Lasso regression "
   ]
  },
  {
   "cell_type": "code",
   "execution_count": null,
   "id": "94be1f50",
   "metadata": {},
   "outputs": [],
   "source": [
    "\n",
    "#lasso_spec <- # your model specification\n",
    "#  linear_reg(penalty = 0.1, mixture = 1) %>%  # model type and some options\n",
    "#  set_engine(engine = \"glmnet\") %>%  # model engine\n",
    "#  set_mode(\"regression\") # model mode\n",
    "\n",
    "# Show your model specification\n",
    "#lasso_spec\n"
   ]
  },
  {
   "cell_type": "markdown",
   "id": "46f4442c",
   "metadata": {},
   "source": [
    "* `penalty`: The total amount of regularization in the model. Higher values imply a higher penalty. If you choose a penalty of 0 you fit a standard linear regression model. \n",
    "\n",
    "* `mixture`: The mixture amounts of different types of regularization. A number between zero and one (inclusive) that is the proportion of L1 regularization (i.e. lasso) in the model. When mixture = 1, it is a pure lasso model while mixture = 0 indicates that ridge regression is being used (this works only for engines \"glmnet\" and \"spark\").\n",
    "\n",
    "Note that for the lasso regression to work properly it is very important to always add a data normalization step. \n",
    "\n",
    "### Natural spline  "
   ]
  },
  {
   "cell_type": "code",
   "execution_count": null,
   "id": "1d497508",
   "metadata": {},
   "outputs": [],
   "source": [
    "\n",
    "\n"
   ]
  },
  {
   "cell_type": "markdown",
   "id": "37379ac8",
   "metadata": {},
   "source": [
    "To use this model correctly, we also need to add a data normalization step as well as a step to declare the degree of freedom in our model. We will include the degrees of freedom at a later step (when we create the workflows).\n",
    "\n",
    "### Random forest"
   ]
  },
  {
   "cell_type": "code",
   "execution_count": null,
   "id": "9354a069",
   "metadata": {},
   "outputs": [],
   "source": [
    "\n"
   ]
  },
  {
   "cell_type": "markdown",
   "id": "4b8d2ce7",
   "metadata": {},
   "source": [
    "### Boosted tree (XGBoost)"
   ]
  },
  {
   "cell_type": "code",
   "execution_count": null,
   "id": "b066eb74",
   "metadata": {},
   "outputs": [],
   "source": [
    "\n"
   ]
  },
  {
   "cell_type": "markdown",
   "id": "ab80951c",
   "metadata": {},
   "source": [
    "### K-nearest neighbor   "
   ]
  },
  {
   "cell_type": "code",
   "execution_count": null,
   "id": "31613a0f",
   "metadata": {
    "lines_to_next_cell": 2
   },
   "outputs": [],
   "source": [
    "\n"
   ]
  },
  {
   "cell_type": "markdown",
   "id": "00e60b97",
   "metadata": {},
   "source": [
    "## Create workflows\n",
    "\n",
    "To combine the data preparation recipe with the model building, we use the package [workflows](https://workflows.tidymodels.org). A workflow is an object that can bundle together your pre-processing recipe, modeling, and even post-processing requests (like calculating the RMSE). \n",
    "\n",
    "### Lasso\n",
    "\n",
    "Bundle recipe and model with `workflows`:"
   ]
  },
  {
   "cell_type": "code",
   "execution_count": null,
   "id": "143fd855",
   "metadata": {
    "lines_to_next_cell": 2
   },
   "outputs": [],
   "source": []
  },
  {
   "cell_type": "markdown",
   "id": "5feddee6",
   "metadata": {},
   "source": [
    "### Natural spline\n",
    "\n",
    "We need to declare the degrees of freedom -with `step_ns()`- for our natural spline. In our example, we just add the new step to our `housing_rec` recipe and create a new recipe which we will only use for ourse natural spline."
   ]
  },
  {
   "cell_type": "code",
   "execution_count": null,
   "id": "55db19e0",
   "metadata": {},
   "outputs": [],
   "source": [
    "\n"
   ]
  },
  {
   "cell_type": "markdown",
   "id": "8a64326f",
   "metadata": {},
   "source": [
    "The higher the degree of freedom, the more complex the resulting model.\n",
    "\n",
    "Now we bundle the recipe and our model:"
   ]
  },
  {
   "cell_type": "code",
   "execution_count": null,
   "id": "b2b153a9",
   "metadata": {
    "lines_to_next_cell": 2
   },
   "outputs": [],
   "source": [
    "\n"
   ]
  },
  {
   "cell_type": "markdown",
   "id": "fc69141c",
   "metadata": {},
   "source": [
    "### Random forest\n",
    "\n",
    "Bundle recipe and model:\n"
   ]
  },
  {
   "cell_type": "code",
   "execution_count": null,
   "id": "4903261c",
   "metadata": {
    "lines_to_next_cell": 2
   },
   "outputs": [],
   "source": []
  },
  {
   "cell_type": "markdown",
   "id": "8bb7c06f",
   "metadata": {},
   "source": [
    "### XGBoost\n",
    "\n",
    "Bundle recipe and model:\n"
   ]
  },
  {
   "cell_type": "code",
   "execution_count": null,
   "id": "95383a2f",
   "metadata": {},
   "outputs": [],
   "source": [
    "\n",
    "\n"
   ]
  },
  {
   "cell_type": "markdown",
   "id": "cfec9996",
   "metadata": {},
   "source": [
    "### K-nearest neighbor\n",
    "\n",
    "Bundle recipe and model:"
   ]
  },
  {
   "cell_type": "code",
   "execution_count": null,
   "id": "d6b9ce23",
   "metadata": {},
   "outputs": [],
   "source": [
    "\n"
   ]
  },
  {
   "cell_type": "markdown",
   "id": "55274d7d",
   "metadata": {},
   "source": [
    "## Evaluate models\n",
    "\n",
    "Now we can use our validation set (`cv_folds`) to estimate the performance of our models using the `fit_resamples()` function to fit the models on each of the folds and store the results. \n",
    "\n",
    "Note that `fit_resamples()` will fit our model to each resample and evaluate on the heldout set from each resample. The function is usually only used for computing performance metrics across some set of resamples to evaluate our models (like RMSE) - the models are not even stored. However, in our example we save the predictions in order to visualize the model fit and residuals with `control_resamples(save_pred = TRUE)`.\n",
    "\n",
    "Finally, we collect the performance metrics with `collect_metrics()` and pick the model that does best on the validation set.\n",
    "\n",
    "### Lasso regression\n"
   ]
  },
  {
   "cell_type": "code",
   "execution_count": null,
   "id": "07132c7c",
   "metadata": {},
   "outputs": [],
   "source": []
  },
  {
   "cell_type": "markdown",
   "id": "91246b9b",
   "metadata": {},
   "source": [
    "Show average performance over all folds:"
   ]
  },
  {
   "cell_type": "code",
   "execution_count": null,
   "id": "95e6def4",
   "metadata": {},
   "outputs": [],
   "source": []
  },
  {
   "cell_type": "markdown",
   "id": "04f6cacc",
   "metadata": {},
   "source": [
    "Show performance for every single fold:"
   ]
  },
  {
   "cell_type": "code",
   "execution_count": null,
   "id": "6b7c3457",
   "metadata": {},
   "outputs": [],
   "source": []
  },
  {
   "cell_type": "markdown",
   "id": "3b1f9400",
   "metadata": {},
   "source": [
    "To assess the model predictions, we plot the predictions on the y-axis and the real median house value at the x-axis. Note that the red line is not our model. If our model would have made no mistakes at all, all points would lie on the red diagonal line (where the prediction equals the real value). "
   ]
  },
  {
   "cell_type": "code",
   "execution_count": null,
   "id": "64ac27b7",
   "metadata": {},
   "outputs": [],
   "source": []
  },
  {
   "cell_type": "markdown",
   "id": "534983ae",
   "metadata": {},
   "source": [
    "Let`s look at the 10 districts where our model produced the greatest residuals: "
   ]
  },
  {
   "cell_type": "code",
   "execution_count": null,
   "id": "7999824b",
   "metadata": {},
   "outputs": [],
   "source": []
  },
  {
   "cell_type": "markdown",
   "id": "7f041639",
   "metadata": {},
   "source": [
    "Show the observations in the training data."
   ]
  },
  {
   "cell_type": "code",
   "execution_count": null,
   "id": "d16d3bd8",
   "metadata": {},
   "outputs": [],
   "source": []
  },
  {
   "cell_type": "markdown",
   "id": "0eb371e8",
   "metadata": {},
   "source": [
    "In this tutorial, we don't further investigate the reasons for the wrong predictions. In reality, we would check wether some of the districts are outliers in comparision to the rest of our data and we would need to decide if we should drop some of the cases from the data (if there are good reasons to do so).    \n",
    "\n",
    "### Natural spline\n",
    "\n",
    "We don't repeat all of the steps shown in lasso regression and just focus on the performance metrics."
   ]
  },
  {
   "cell_type": "code",
   "execution_count": null,
   "id": "c4f98b9c",
   "metadata": {},
   "outputs": [],
   "source": []
  },
  {
   "cell_type": "markdown",
   "id": "4f657894",
   "metadata": {},
   "source": [
    "### Random forest\n",
    "\n",
    "We don't repeat all of the steps shown in lasso regression and just focus on the performance metrics."
   ]
  },
  {
   "cell_type": "code",
   "execution_count": null,
   "id": "edfaadc1",
   "metadata": {
    "lines_to_next_cell": 2
   },
   "outputs": [],
   "source": []
  },
  {
   "cell_type": "markdown",
   "id": "abf3574e",
   "metadata": {},
   "source": [
    "### XGBoost\n",
    "\n",
    "We don't repeat all of the steps shown in lasso regression and just focus on the performance metrics."
   ]
  },
  {
   "cell_type": "code",
   "execution_count": null,
   "id": "6eb74425",
   "metadata": {
    "lines_to_next_cell": 2
   },
   "outputs": [],
   "source": []
  },
  {
   "cell_type": "markdown",
   "id": "760f719f",
   "metadata": {},
   "source": [
    "### K-nearest neighbor\n",
    "\n",
    "We don't repeat all of the steps shown in lasso regression and just focus on the performance metrics."
   ]
  },
  {
   "cell_type": "code",
   "execution_count": null,
   "id": "4c90d60e",
   "metadata": {},
   "outputs": [],
   "source": []
  },
  {
   "cell_type": "markdown",
   "id": "08ee9ff1",
   "metadata": {},
   "source": [
    "### Compare models\n",
    "\n",
    "Extract the RMSE from our models to compare them:"
   ]
  },
  {
   "cell_type": "code",
   "execution_count": null,
   "id": "94d1542a",
   "metadata": {},
   "outputs": [],
   "source": []
  },
  {
   "cell_type": "markdown",
   "id": "697a2b02",
   "metadata": {},
   "source": [
    "Note that the model results are quite similar. "
   ]
  },
  {
   "cell_type": "code",
   "execution_count": null,
   "id": "e9961179",
   "metadata": {},
   "outputs": [],
   "source": []
  },
  {
   "cell_type": "markdown",
   "id": "297086b9",
   "metadata": {},
   "source": [
    "Now it's time to fit the best model (in our case the XGBoost model) one last time to the full *training set* and evaluate the resulting final model on the *test set*.\n",
    "\n",
    "## Last fit and evaluation on test set \n",
    "\n",
    "Tidymodels provides the function [`last_fit()`](https://tune.tidymodels.org/reference/last_fit.html) which fits a model to the *training data* and evaluates it on the *test set*. We just need to provide the workflow object of the best model as well as the **data split** object (not the training data)."
   ]
  },
  {
   "cell_type": "code",
   "execution_count": null,
   "id": "22e6b6ec",
   "metadata": {},
   "outputs": [],
   "source": []
  },
  {
   "cell_type": "markdown",
   "id": "3275153b",
   "metadata": {},
   "source": [
    "And this is our final result. Remember that if a model fit to the training dataset also fits the test dataset well, minimal *overfitting* has taken place. This seems to be also the case in our example."
   ]
  }
 ],
 "metadata": {
  "jupytext": {
   "cell_metadata_filter": "out.width,fig.cap,warning,tags,fig.width,message,name,fig.margin,-all",
   "main_language": "R",
   "notebook_metadata_filter": "-all"
  },
  "language_info": {
   "name": "python"
  }
 },
 "nbformat": 4,
 "nbformat_minor": 5
}
