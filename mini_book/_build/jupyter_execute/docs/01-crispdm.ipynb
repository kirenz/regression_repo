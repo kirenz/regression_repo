{
 "cells": [
  {
   "cell_type": "markdown",
   "id": "425c23b5",
   "metadata": {},
   "source": [
    "(file-types:notebooks)=\n",
    "\n",
    "(l-lifecycle)=\n",
    "# Data Science Lifecycle\n",
    "\n",
    "In our data science projects, we follow the data science lifecycle process proposed in the \"cross industry standard process for data mining (CRISP-DM)\" from {cite:t}`Wirth2000`\n"
   ]
  },
  {
   "cell_type": "markdown",
   "id": "65cb26a3",
   "metadata": {
    "fig.cap": "Cross Industry Standard Process for Data Mining (@Wirth2000)",
    "fig.margin": true,
    "name": "crisp2",
    "out.height": "50%",
    "out.width": "50%",
    "tags": [
     "remove_input"
    ]
   },
   "source": [
    "```{note}\n",
    "To learn more about this framework, review this [presentation about the CRISP-DM](https://docs.google.com/presentation/d/1Y_6d-yv0Wq9WQvWkYS64KYkcSoswewm-7t2jfSz3aT4/edit?usp=sharing). \n",
    "```"
   ]
  },
  {
   "cell_type": "markdown",
   "id": "37acdd91",
   "metadata": {},
   "source": [
    "```{image} ../_static/lecture_specific/01_crisp_dm/CRISP_DM.png\n",
    ":alt: crispdm\n",
    ":class: bg-primary mb-1\n",
    ":width: 500px\n",
    ":align: center\n",
    "```"
   ]
  },
  {
   "cell_type": "markdown",
   "id": "bf7604d1",
   "metadata": {},
   "source": [
    "\n",
    "\n",
    "Next, we show the most crucial steps of the framework. \n",
    "\n",
    "## Business understanding\n",
    "\n",
    "1. Define your (business) goal\n",
    "1. Frame the problem (regression, classification,...)\n",
    "1. Choose a performance measure (RMSE, ...)\n",
    "1. Show the data processing components (data pipeline)\n",
    "\n",
    "## Data understanding\n",
    "\n",
    "1. Import data \n",
    "1. Clean data\n",
    "1. Format data properly (numeric or categorical)\n",
    "1. Create new variables\n",
    "1. Overview about the complete data\n",
    "1. Split data into training and test set using stratified sampling\n",
    "1. Discover and visualize the data to gain insights (on a copy of the training data)"
   ]
  },
  {
   "cell_type": "markdown",
   "id": "a63dcdcd",
   "metadata": {},
   "source": [
    "## Data preparation\n",
    "\n",
    "1. Perform feature selection (choose predictor variables)\n",
    "1. Do feature engineering (mainly with `recipes`)\n",
    "1. Create a validation set from the training data (e.g., with k-fold crossvalidation) "
   ]
  },
  {
   "cell_type": "markdown",
   "id": "7d269608",
   "metadata": {},
   "source": [
    "## Modeling\n",
    "\n",
    "1. Specify the models\n",
    "1. Bundle the data preprocessing recipe and model in a `workflow` \n",
    "1. Compare model performance on the validation set \n",
    "1. Pick the model that does best on the validation set\n",
    "1. Train your best model with all of the training data\n",
    "1. Double-check that model against the test set."
   ]
  }
 ],
 "metadata": {
  "jupytext": {
   "cell_metadata_filter": "fig.cap,tags,name,out.width,fig.margin,out.height,-all",
   "main_language": "R",
   "notebook_metadata_filter": "-all"
  },
  "language_info": {
   "codemirror_mode": {
    "name": "ipython",
    "version": 3
   },
   "file_extension": ".py",
   "mimetype": "text/x-python",
   "name": "python",
   "nbconvert_exporter": "python",
   "pygments_lexer": "ipython3",
   "version": "3.8.12"
  }
 },
 "nbformat": 4,
 "nbformat_minor": 5
}