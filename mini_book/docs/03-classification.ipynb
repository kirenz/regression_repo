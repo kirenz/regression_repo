{
 "cells": [
  {
   "cell_type": "markdown",
   "id": "7ebc8bf9",
   "metadata": {},
   "source": [
    "(file-types:notebooks)=\n",
    "\n",
    "\n",
    "# Introduction\n"
   ]
  },
  {
   "cell_type": "code",
   "execution_count": null,
   "id": "32542695",
   "metadata": {
    "tags": [
     "remove_cell"
    ]
   },
   "outputs": [],
   "source": []
  },
  {
   "cell_type": "markdown",
   "id": "aefd940b",
   "metadata": {},
   "source": [
    "In this chapter, we'll build the following classification models:\n",
    "\n",
    "* logistic regression\n",
    "* random forest,\n",
    "* XGBoost (extreme gradient boosted trees),\n",
    "* K-nearest neighbor\n",
    "* Neural network\n",
    "\n",
    "We use the same data and follow the same procedure as in our regression example."
   ]
  },
  {
   "cell_type": "markdown",
   "id": "01129bdd",
   "metadata": {},
   "source": [
    "# Business understanding\n",
    "\n",
    ":::note\n",
    "In business understanding, you:\n",
    "\n",
    "- Define your (business) goal\n",
    "- Frame the problem (regression, classification,...)\n",
    "- Choose a performance measure\n",
    "- Show the data processing components\n",
    ":::\n",
    "\n",
    "First of all, we take a look at the big picture and define the objective of our data science project in business terms.\n",
    "\n",
    "In our example, the goal is to build a classification model to predict the type of median housing prices in districts in California. In particular, the model should learn from California census data and be able to predict wether the median house price in a district (population of 600 to 3000 people) is below or above a certain threshold, given some predictor variables. Hence, we face a **supervised learning** situation and should use a **classification model** to predict the categorical outcomes (below or above the preice). Furthermore, we use the **F1-Score** as a performance measure for our classification problem.\n",
    "\n",
    "Note that in our classification example we again use the dataset from the previous regession tutorial. Therefore, we first need to create our categorical dependent variable from the numeric variable median house value. We will do this in the phase data understanding during the creation of new variables. Afterwards, we will remove the numeric variable median house value from our data. \n",
    "\n",
    "Let's assume that the model’s output will be fed to another analytics system, along with other data. This downstream system will determine whether it is worth investing in a given area or not. The **data processing components** (also called data pipeline) are shown in \\@ref(fig:datapipeline-class) (you can use [Google's architectural templates](https://docs.google.com/presentation/d/1vjm5YdmOH5LrubFhHf1vlqW2O9Z2UqdWA8biN3e8K5U/edit#slide=id.g19b41f69d7_2_265) to draw the data pipeline)."
   ]
  },
  {
   "cell_type": "code",
   "execution_count": null,
   "id": "ce930f2b",
   "metadata": {
    "fig.cap": "Data processing components",
    "fig.margin": true,
    "fig.width": 3,
    "lines_to_next_cell": 2,
    "name": "datapipeline-class",
    "tags": [
     "remove_input"
    ]
   },
   "outputs": [],
   "source": [
    "#knitr::include_graphics(\"css/data-pipeline.png\")"
   ]
  },
  {
   "cell_type": "markdown",
   "id": "d13e56f0",
   "metadata": {},
   "source": [
    "# Data understanding\n",
    "\n",
    ":::note\n",
    "In Data Understanding, you:\n",
    "\n",
    "- Import data \n",
    "- Clean data\n",
    "- Format data properly\n",
    "- Create new variables\n",
    "- Get an overview about the complete data\n",
    "- Split data into training and test set using stratified sampling\n",
    "- Discover and visualize the data to gain insights \n",
    ":::\n",
    "\n",
    "## Imort Data\n",
    "\n",
    "First of all, let's import the data:"
   ]
  },
  {
   "cell_type": "code",
   "execution_count": null,
   "id": "e72cfb0e",
   "metadata": {
    "lines_to_next_cell": 2
   },
   "outputs": [],
   "source": [
    "#library(tidyverse)\n",
    "\n",
    "LINK <- \"https://raw.githubusercontent.com/kirenz/datasets/master/housing_unclean.csv\"\n",
    "housing_df <- read_csv(LINK)"
   ]
  },
  {
   "cell_type": "markdown",
   "id": "f4169419",
   "metadata": {},
   "source": [
    "## Clean data"
   ]
  },
  {
   "cell_type": "markdown",
   "id": "c8918078",
   "metadata": {},
   "source": [
    "To get a first impression of the data we take a look at the top 4 rows: "
   ]
  },
  {
   "cell_type": "code",
   "execution_count": null,
   "id": "d4806fd2",
   "metadata": {
    "lines_to_next_cell": 2
   },
   "outputs": [],
   "source": [
    "library(gt)\n",
    "\n",
    "housing_df %>% \n",
    "  slice_head(n = 4) %>% \n",
    "  gt() # print output using gt"
   ]
  },
  {
   "cell_type": "markdown",
   "id": "b8ddcb86",
   "metadata": {},
   "source": [
    "Notice the values in the first row of the variables `housing_median_age`and `median_house_value`. We need to remove the strings \"years\" and \"$\". Therefore, we use the function `str_remove_all` from the `stringr` package. Since there could be multiple wrong entries of the same type, we apply our corrections to all of the rows of the corresponding variable:"
   ]
  },
  {
   "cell_type": "code",
   "execution_count": null,
   "id": "bc4dd0e4",
   "metadata": {},
   "outputs": [],
   "source": [
    "library(stringr)\n",
    "\n",
    "housing_df <- \n",
    "  housing_df %>% \n",
    "  mutate(\n",
    "    housing_median_age = str_remove_all(housing_median_age, \"[years]\"),\n",
    "    median_house_value = str_remove_all(median_house_value, \"[$]\")\n",
    "  )"
   ]
  },
  {
   "cell_type": "markdown",
   "id": "bfb8f5cd",
   "metadata": {},
   "source": [
    "We don't cover the phase of data cleaning in detail in this tutorial. However, in a real data science project, data cleaning is usually a very time consuming process.\n",
    "\n",
    "## Format data\n",
    "\n",
    "Next, we take a look at the data structure and check wether all data formats are correct:\n",
    "\n",
    "* Numeric variables should be formatted as integers (`int`) or double precision floating point numbers (`dbl`).\n",
    "\n",
    "* Categorical (nominal and ordinal) variables should usually be formatted as factors (`fct`) and not characters (`chr`). Especially, if they don't have many levels."
   ]
  },
  {
   "cell_type": "code",
   "execution_count": null,
   "id": "82391791",
   "metadata": {},
   "outputs": [],
   "source": [
    "glimpse(housing_df)"
   ]
  },
  {
   "cell_type": "markdown",
   "id": "d42bf4f8",
   "metadata": {},
   "source": [
    "The package `visdat` helps us to explore the data class structure visually:"
   ]
  },
  {
   "cell_type": "code",
   "execution_count": null,
   "id": "7f04abbf",
   "metadata": {},
   "outputs": [],
   "source": [
    "library(visdat)\n",
    "\n",
    "vis_dat(housing_df)"
   ]
  },
  {
   "cell_type": "markdown",
   "id": "1b8736a4",
   "metadata": {},
   "source": [
    "We can observe that the numeric variables `housing_media_age` and `median_house_value` are declared as characters (`chr`) instead of numeric. We choose to format the variables as `dbl`, since the values could be floating-point numbers. \n",
    "\n",
    "Furthermore, the categorical variable `ocean_proximity` is formatted as character instead of factor. Let's take a look at the levels of the variable: "
   ]
  },
  {
   "cell_type": "code",
   "execution_count": null,
   "id": "ea397408",
   "metadata": {},
   "outputs": [],
   "source": [
    "housing_df %>% \n",
    "  count(ocean_proximity,\n",
    "        sort = TRUE)"
   ]
  },
  {
   "cell_type": "markdown",
   "id": "1d38fac0",
   "metadata": {},
   "source": [
    "The variable has only 5 levels and therefore should be formatted as a factor.\n",
    "\n",
    "Note that it is usually a good idea to first take care of the numerical variables. Afterwards, we can easily convert all remaining character variables to factors using the function `across` from the dplyr package (which is part of the tidyverse)."
   ]
  },
  {
   "cell_type": "code",
   "execution_count": null,
   "id": "9f6ded18",
   "metadata": {
    "lines_to_next_cell": 2
   },
   "outputs": [],
   "source": [
    "# convert to numeric\n",
    "housing_df <- \n",
    "  housing_df %>% \n",
    "  mutate(\n",
    "    housing_median_age = as.numeric(housing_median_age),\n",
    "    median_house_value = as.numeric(median_house_value)\n",
    "  )\n",
    "\n",
    "# convert all remaining character variables to factors \n",
    "housing_df <- \n",
    "  housing_df %>% \n",
    "  mutate(across(where(is.character), as.factor))"
   ]
  },
  {
   "cell_type": "markdown",
   "id": "2ffd11a2",
   "metadata": {},
   "source": [
    "## Missing data\n",
    "\n",
    "Now let's turn our attention to missing data. Missing data can be viewed with the function `vis_miss` from the package `visdat`. We arrange the data by columns with most missingness: "
   ]
  },
  {
   "cell_type": "code",
   "execution_count": null,
   "id": "5e9ba684",
   "metadata": {},
   "outputs": [],
   "source": [
    "vis_miss(housing_df, sort_miss = TRUE)"
   ]
  },
  {
   "cell_type": "markdown",
   "id": "af8e54b2",
   "metadata": {},
   "source": [
    "Here an alternative method to obtain missing data: "
   ]
  },
  {
   "cell_type": "code",
   "execution_count": null,
   "id": "1bf053be",
   "metadata": {},
   "outputs": [],
   "source": [
    "is.na(housing_df) %>% colSums()"
   ]
  },
  {
   "cell_type": "markdown",
   "id": "733f9a57",
   "metadata": {},
   "source": [
    "We have a missing rate of 0.1% (207 cases) in our variable `total_bedroms`. This can cause problems for some algorithms. We will take care of this issue during our data preparation phase. "
   ]
  },
  {
   "cell_type": "markdown",
   "id": "f6d15fd4",
   "metadata": {},
   "source": [
    "## Create new variables \n",
    "\n",
    "One very important thing you may want to do at the beginning of your data science project is to create new variable combinations. For example:\n",
    "\n",
    "* the *total number of rooms* in a district is not very useful if you don’t know how many households there are. What you really want is the *number of rooms per household*. \n",
    "\n",
    "* Similarly, the total number of bedrooms by itself is not very useful: you probably want to compare it to the number of rooms. \n",
    "\n",
    "* And the *population per household* also seems like an interesting attribute combination to look at. \n",
    "\n",
    "Let’s create these new attributes:"
   ]
  },
  {
   "cell_type": "code",
   "execution_count": null,
   "id": "4deaf506",
   "metadata": {},
   "outputs": [],
   "source": [
    "housing_df <- \n",
    "  housing_df %>% \n",
    "  mutate(rooms_per_household = total_rooms/households,\n",
    "        bedrooms_per_room = total_bedrooms/total_rooms,\n",
    "        population_per_household = population/households)"
   ]
  },
  {
   "cell_type": "markdown",
   "id": "3676e246",
   "metadata": {},
   "source": [
    "Furthermore, in our example we need to create our dependent variable and drop the original numeric variable. "
   ]
  },
  {
   "cell_type": "code",
   "execution_count": null,
   "id": "731d59a8",
   "metadata": {},
   "outputs": [],
   "source": [
    "housing_df <- \n",
    "  housing_df %>% \n",
    "  mutate(price_category = case_when( \n",
    "    median_house_value < 150000 ~ \"below\",\n",
    "    median_house_value >= 150000 ~ \"above\",\n",
    "    )) %>% \n",
    "  mutate(price_category = as.factor(price_category)) %>% \n",
    "  select(-median_house_value)"
   ]
  },
  {
   "cell_type": "markdown",
   "id": "9e901ef3",
   "metadata": {},
   "source": [
    "Since we created the new label `price_category` from the variable `median_house_value` it is crucial that we never use the variable `median_house_value` as a predictor in our models. Therefore we drop it. \n",
    "\n",
    "Take a look at our dependent variable and  create a table with the package [`gt`](https://gt.rstudio.com/) "
   ]
  },
  {
   "cell_type": "code",
   "execution_count": null,
   "id": "b8587fff",
   "metadata": {},
   "outputs": [],
   "source": [
    "library(gt)\n",
    "\n",
    "housing_df %>% \n",
    "  count(price_category, # count observations\n",
    "        name =\"districts_total\") %>%  # name the new variable \n",
    "  mutate(percent = districts_total/sum(districts_total)) %>%  # calculate percentages\n",
    "  gt() # create table"
   ]
  },
  {
   "cell_type": "markdown",
   "id": "016cd1b2",
   "metadata": {},
   "source": [
    "Let's make a nice looking table:"
   ]
  },
  {
   "cell_type": "code",
   "execution_count": null,
   "id": "5c10bcfc",
   "metadata": {
    "lines_to_next_cell": 2
   },
   "outputs": [],
   "source": [
    "housing_df %>% \n",
    "  count(price_category, \n",
    "        name =\"districts_total\") %>%\n",
    "  mutate(percent = districts_total/sum(districts_total)*100,\n",
    "         percent = round(percent, 2)) %>%\n",
    " gt() %>%\n",
    "  tab_header(\n",
    "    title = \"California median house prices\",\n",
    "    subtitle = \"Districts above and below 150.000$\"\n",
    "  ) %>%\n",
    "  cols_label(\n",
    "    price_category = \"Price\",\n",
    "    districts_total = \"Districts\",\n",
    "    percent = \"Percent\"\n",
    "  ) %>% \n",
    "  fmt_number(\n",
    "    columns = vars(districts_total),\n",
    "    suffixing = TRUE\n",
    "  ) "
   ]
  },
  {
   "cell_type": "markdown",
   "id": "2dc766f5",
   "metadata": {},
   "source": [
    "## Data overview  \n",
    "\n",
    "After we took care of our data issues, we can obtain a data summary of all numerical and categorical attributes using a function from the package `skimr`:"
   ]
  },
  {
   "cell_type": "code",
   "execution_count": null,
   "id": "0b1dacf3",
   "metadata": {},
   "outputs": [],
   "source": [
    "skim(housing_df)"
   ]
  },
  {
   "cell_type": "markdown",
   "id": "e243b949",
   "metadata": {},
   "source": [
    "We have `r nrow(housing_df)` observations and `r ncol(housing_df)` columns in our data.\n",
    "\n",
    "* The **sd** column shows the standard deviation, which measures how dispersed the values are. \n",
    "\n",
    "* The **p0, p25, p50, p75 and p100** columns show the corresponding percentiles: a percentile indicates the value below which a given percentage of observations in a group of observations fall. For example, 25% of the districts have a `housing_median_age` lower than 18, while 50% are lower than 29 and 75% are lower than 37. These are often called the 25th percentile (or first quartile), the median, and the 75th percentile.\n",
    "\n",
    "* Further note that the **median income** attribute does not look like it is expressed in US dollars (USD). Actually the data has been scaled and capped at 15 (actually, 15.0001) for higher median incomes, and at 0.5 (actually, 0.4999) for lower median incomes. The numbers represent roughly tens of thousands of dollars (e.g., 3 actually means about $30,000)."
   ]
  },
  {
   "cell_type": "markdown",
   "id": "d4b13159",
   "metadata": {},
   "source": [
    "Another quick way to get an overview of the type of data you are dealing with is to plot a **histogram** for each numerical attribute. A histogram shows the number of instances (on the vertical axis) that have a given value range (on the horizontal axis). You can either plot this one attribute at a time, or you can use `ggscatmat` from the package `GGally` on the whole dataset (as shown in the following code example), and it will plot a histogram for each numerical attribute as well as  correlation coefficients (Pearson is the default). We just select the most promising variabels for our plot:\n"
   ]
  },
  {
   "cell_type": "code",
   "execution_count": null,
   "id": "9d2e7723",
   "metadata": {},
   "outputs": [],
   "source": [
    "library(GGally)\n",
    "\n",
    "housing_df %>% \n",
    "  select(\n",
    "    housing_median_age, \n",
    "    median_income, bedrooms_per_room, rooms_per_household, \n",
    "    population_per_household) %>% \n",
    "  ggscatmat(alpha = 0.2)"
   ]
  },
  {
   "cell_type": "markdown",
   "id": "9976b49b",
   "metadata": {},
   "source": [
    "Another option is to use `ggpairs`, where we even can integrate categorical variables like our dependent variable `price_category` and ocean proximity in the output:"
   ]
  },
  {
   "cell_type": "code",
   "execution_count": null,
   "id": "08e90bcd",
   "metadata": {},
   "outputs": [],
   "source": [
    "library(GGally)\n",
    "\n",
    "housing_df %>% \n",
    "  select(\n",
    "    housing_median_age, \n",
    "    median_income, bedrooms_per_room, rooms_per_household, \n",
    "    population_per_household, ocean_proximity,\n",
    "    price_category) %>% \n",
    "  ggpairs()"
   ]
  },
  {
   "cell_type": "markdown",
   "id": "34e7eb61",
   "metadata": {},
   "source": [
    "There are a few things you might notice in these histograms:\n",
    "\n",
    "* The variables *median income*, *housing median age* were capped. \n",
    "\n",
    "* Note that our attributes have very different scales. We will take care of this issue later in data preparation, when we use feature scaling (data normalization).\n",
    "\n",
    "* Finally, many histograms are tail-heavy: they extend much farther to the right of the median than to the left. This may make it a bit harder for some Machine Learning algorithms to detect patterns. We will transform these attributes later on to have more bell-shaped distributions. For our right-skewed data (i.e., tail is on the right, also called positive skew), common transformations include square root and log (we will use the log). "
   ]
  },
  {
   "cell_type": "markdown",
   "id": "37e5f7ca",
   "metadata": {},
   "source": [
    "## Data splitting\n",
    "\n",
    "Before we get started with our in-depth data exploration, let’s split our single dataset into two: a training set and a testing set. The training data will be used to fit models, and the testing set will be used to measure model performance. We perform data exploration only on the training data.\n",
    "\n",
    "A **training dataset** is a dataset of examples used during the learning process and is used to fit the models. A **test dataset** is a dataset that is independent of the training dataset and is used to evaluate the performance of the final model. If a model fit to the training dataset also fits the test dataset well, minimal *overfitting* has taken place. A better fitting of the training dataset as opposed to the test dataset usually points to overfitting.\n",
    "\n",
    "In our data split, we want to ensure that the training and test set is representative of the categories of our dependent variable. Take a look at \\@ref(fig:hist-med-value-class)\n"
   ]
  },
  {
   "cell_type": "code",
   "execution_count": null,
   "id": "b4053a35",
   "metadata": {
    "fig.cap": "Histogram of Median Proces",
    "name": "hist-med-value-class",
    "out.width": "80%"
   },
   "outputs": [],
   "source": [
    "\n",
    "housing_df %>% \n",
    "  ggplot(aes(price_category)) +\n",
    "  geom_bar() "
   ]
  },
  {
   "cell_type": "markdown",
   "id": "e7d33e8a",
   "metadata": {},
   "source": [
    "In general, we would like to have instances for each *stratum*, or else the estimate of a stratum's importance may be biased. A *stratum* (plural strata) refers to a subset (part) of the whole data from which is being sampled. We only have two categories in our data. \n",
    "\n",
    "To actually split the data, we can use the `rsample` package (included in `tidymodels`) to create an object that contains the information on how to split the data (which we call `data_split`), and then two more `rsample` functions to create data frames for the training and testing sets:"
   ]
  },
  {
   "cell_type": "code",
   "execution_count": null,
   "id": "9aa1e11d",
   "metadata": {
    "lines_to_next_cell": 2
   },
   "outputs": [],
   "source": [
    "# Fix the random numbers by setting the seed \n",
    "# This enables the analysis to be reproducible \n",
    "set.seed(123)\n",
    "\n",
    "# Put 3/4 of the data into the training set \n",
    "data_split <- initial_split(housing_df, \n",
    "                           prop = 3/4, \n",
    "                           strata = price_category)\n",
    "\n",
    "# Create dataframes for the two sets:\n",
    "train_data <- training(data_split) \n",
    "test_data <- testing(data_split)"
   ]
  },
  {
   "cell_type": "markdown",
   "id": "4390a6f1",
   "metadata": {},
   "source": [
    "## Data exploration\n",
    "\n",
    "The point of data exploration is to gain insights that will help you select important variables for your model and to get ideas for feature engineering in the data preparation phase. Ususally, data exploration is an iterative process: once you get a prototype model up and running, you can analyze its output to gain more insights and come back to this exploration step. It is important to note that we perform data exploration only with our training data."
   ]
  },
  {
   "cell_type": "markdown",
   "id": "311de6e8",
   "metadata": {},
   "source": [
    "### Create data copy \n",
    "\n",
    "We first make a copy of the training data since we don't want to alter our data during data exploration. "
   ]
  },
  {
   "cell_type": "code",
   "execution_count": null,
   "id": "4c0e1e74",
   "metadata": {},
   "outputs": [],
   "source": [
    "data_explore <- train_data"
   ]
  },
  {
   "cell_type": "markdown",
   "id": "0702617e",
   "metadata": {},
   "source": [
    "Next, we take a closer look at the relationships between our variables. In particular, we are interested in the relationships between our *dependent* variable `price_category` and all other variables. The goal is to identify possible *predictor variables* which we could use in our models to predict the `price_category`. "
   ]
  },
  {
   "cell_type": "markdown",
   "id": "979fb6e5",
   "metadata": {},
   "source": [
    "### Geographical overview\n",
    "\n",
    "Since our data includes information about `longitude` and `latitude`, we start our data exploration with the creation of a geographical scatterplot of the data to get some first insights: "
   ]
  },
  {
   "cell_type": "code",
   "execution_count": null,
   "id": "a88ec6b8",
   "metadata": {
    "fig.cap": "Scatterplot of longitude and latitude",
    "name": "point-long-lat-class",
    "out.width": "80%"
   },
   "outputs": [],
   "source": [
    "data_explore %>% \n",
    "  ggplot(aes(x = longitude, y = latitude)) +\n",
    "  geom_point(color = \"cornflowerblue\")"
   ]
  },
  {
   "cell_type": "markdown",
   "id": "bd773e2b",
   "metadata": {},
   "source": [
    "A better visualization that highlights high-density areas (with parameter `alpha = 0.1` ):"
   ]
  },
  {
   "cell_type": "code",
   "execution_count": null,
   "id": "dafcee40",
   "metadata": {
    "fig.cap": "Scatterplot of longitude and latitude that highlights high-density areas",
    "name": "point-long-lat-a-class",
    "out.width": "80%"
   },
   "outputs": [],
   "source": [
    "data_explore %>% \n",
    "  ggplot(aes(x = longitude, y = latitude)) +\n",
    "  geom_point(color = \"cornflowerblue\", alpha = 0.1) "
   ]
  },
  {
   "cell_type": "markdown",
   "id": "d3bae7a1",
   "metadata": {},
   "source": [
    "Overview about California housing prices: \n",
    "\n",
    "- red is expensive, \n",
    "- purple is cheap and \n",
    "- larger circles indicate areas with a larger population.\n"
   ]
  },
  {
   "cell_type": "code",
   "execution_count": null,
   "id": "1a5af266",
   "metadata": {
    "fig.cap": "California housing_df prices",
    "name": "plot-ca-prices-class",
    "out.width": "80%"
   },
   "outputs": [],
   "source": [
    "data_explore %>% \n",
    "  ggplot(aes(x = longitude, y = latitude)) +\n",
    "  geom_point(aes(size = population, color = price_category), \n",
    "             alpha = 0.4)"
   ]
  },
  {
   "cell_type": "markdown",
   "id": "eb3302e6",
   "metadata": {},
   "source": [
    "Lastly, we add a map to our data:"
   ]
  },
  {
   "cell_type": "code",
   "execution_count": null,
   "id": "234b3659",
   "metadata": {},
   "outputs": [],
   "source": [
    "library(ggmap)\n",
    "\n",
    "qmplot(x = longitude, \n",
    "       y = latitude, \n",
    "       data = data_explore, \n",
    "       geom = \"point\", \n",
    "       color = price_category, \n",
    "       size = population,\n",
    "       alpha = 0.4) +\n",
    "  scale_alpha(guide = 'none') # don't show legend for alpha"
   ]
  },
  {
   "cell_type": "markdown",
   "id": "2f1ef30d",
   "metadata": {},
   "source": [
    "This image tells you that the housing prices are very much related to the location (e.g., close to the ocean) and to the population density. Hence our `ocean_proximity` variable may be a useful predictor of our categorical price variable median housing prices, although in Northern California the housing prices in coastal districts are not too high, so it is not a simple rule.\n",
    "\n",
    "### Numerical variables\n",
    "\n",
    "We can use boxplots to check, if we actually find differences in our numeric variables for the different levels of our dependent *categorical variable*:\n"
   ]
  },
  {
   "cell_type": "code",
   "execution_count": null,
   "id": "6c2c2dc7",
   "metadata": {},
   "outputs": [],
   "source": [
    "data_explore %>% \n",
    "  ggplot(aes(x = price_category, y = median_income, \n",
    "             fill = price_category, color = price_category)) +\n",
    "  geom_boxplot(alpha=0.4) "
   ]
  },
  {
   "cell_type": "markdown",
   "id": "1697f25e",
   "metadata": {},
   "source": [
    "Let`s define a function for this task that accepts strings as inputs so we don't have to copy and paste our code for every plot. Note that we only have to change the \"y-variable\" in every  plot."
   ]
  },
  {
   "cell_type": "code",
   "execution_count": null,
   "id": "28d60425",
   "metadata": {},
   "outputs": [],
   "source": [
    "print_boxplot <- function(.y_var){\n",
    "  \n",
    "  # convert strings to variable\n",
    "  y_var <- sym(.y_var) \n",
    " \n",
    "  # unquote variables using {{}}\n",
    "  data_explore %>% \n",
    "  ggplot(aes(x = price_category, y = {{y_var}},\n",
    "             fill = price_category, color = price_category)) +\n",
    "  geom_boxplot(alpha=0.4) \n",
    "  \n",
    "}  "
   ]
  },
  {
   "cell_type": "markdown",
   "id": "a61d4682",
   "metadata": {},
   "source": [
    "Obtain all of the names of the y-variables we want to use for our plots:"
   ]
  },
  {
   "cell_type": "code",
   "execution_count": null,
   "id": "a14d2135",
   "metadata": {},
   "outputs": [],
   "source": [
    "y_var <- \n",
    "  data_explore %>% \n",
    "  select(where(is.numeric), -longitude, - latitude) %>% \n",
    "  variable.names() # obtain name\n"
   ]
  },
  {
   "cell_type": "markdown",
   "id": "56da5dbe",
   "metadata": {},
   "source": [
    "The map function applys the function `print_boxplot` to each element of our atomic vector `y_var` and returns the according plot:"
   ]
  },
  {
   "cell_type": "code",
   "execution_count": null,
   "id": "5b23a750",
   "metadata": {
    "lines_to_next_cell": 2
   },
   "outputs": [],
   "source": [
    "library(purrr)\n",
    "\n",
    "map(y_var, print_boxplot)"
   ]
  },
  {
   "cell_type": "markdown",
   "id": "8f1d3235",
   "metadata": {},
   "source": [
    "We can observe a difference in the price_category:\n",
    "\n",
    "* The differences between our two groups are quite small for `housing_median_age`, `total_room`, `total_bedrooms`, `population` and `households`\n",
    "\n",
    "* We can observe a noticeable difference for our variables `median_income` and `bedrooms_per_room`\n",
    "\n",
    "* `population_per_household` and `rooms_per_household` include some extreme values We first need to fix this before we can proceed with our interpretations for this variabels."
   ]
  },
  {
   "cell_type": "markdown",
   "id": "6ea0f704",
   "metadata": {},
   "source": [
    "Again, let's write a short function for this task and filter some of the extreme cases. We call the new function `print_boxplot_out`:"
   ]
  },
  {
   "cell_type": "code",
   "execution_count": null,
   "id": "c9a20441",
   "metadata": {
    "lines_to_next_cell": 2
   },
   "outputs": [],
   "source": [
    "print_boxplot_out <- function(.y_var_out){\n",
    "  \n",
    "  y_var <- sym(.y_var_out) \n",
    " \n",
    "  data_explore %>% \n",
    "  filter(rooms_per_household < 50, population_per_household < 20) %>% \n",
    "  ggplot(aes(x = price_category, y = {{y_var}},\n",
    "             fill = price_category, color = price_category)) +\n",
    "  geom_boxplot(alpha=0.4) \n",
    "  \n",
    "} \n",
    "\n",
    "y_var_out <- \n",
    "  data_explore %>% \n",
    "  select(rooms_per_household, population_per_household) %>% \n",
    "  variable.names() \n",
    "\n",
    "map(y_var_out, print_boxplot_out)"
   ]
  },
  {
   "cell_type": "markdown",
   "id": "c1be07ab",
   "metadata": {},
   "source": [
    "Now we are able to recognize a small difference for `population_per_household`. `rooms_per_household` on the other hand is quite similar for both groups."
   ]
  },
  {
   "cell_type": "markdown",
   "id": "05ac6eb0",
   "metadata": {},
   "source": [
    "Additionally, we can use the function `ggscatmat` to create plots with our dependent variable as color column:"
   ]
  },
  {
   "cell_type": "code",
   "execution_count": null,
   "id": "915c80a2",
   "metadata": {
    "lines_to_next_cell": 2
   },
   "outputs": [],
   "source": [
    "library(GGally)\n",
    "\n",
    "data_explore %>% \n",
    "  select(price_category, median_income, bedrooms_per_room, rooms_per_household, \n",
    "         population_per_household) %>% \n",
    "  ggscatmat(color=\"price_category\", \n",
    "            corMethod = \"spearman\",\n",
    "            alpha=0.2)"
   ]
  },
  {
   "cell_type": "markdown",
   "id": "55155c16",
   "metadata": {},
   "source": [
    "There are a few things you might notice in these histograms:\n",
    "\n",
    "* Note that our attributes have very different scales. We will take care of this issue later in data preparation, when we use feature scaling (data normalization).\n",
    "\n",
    "* The histograms are tail-heavy: they extend much farther to the right of the median than to the left. This may make it a bit harder for some Machine Learning algorithms to detect patterns. We will transform these attributes later on to have more bell-shaped distributions. For our right-skewed data (i.e., tail is on the right, also called positive skew), common transformations include square root and log (we will use the log). "
   ]
  },
  {
   "cell_type": "markdown",
   "id": "e5e82915",
   "metadata": {},
   "source": [
    "As a result of our data exploration, we will include the numerical variables \n",
    "\n",
    "* `median_income`, \n",
    "* `bedrooms_per_room` and \n",
    "* `population_per_household` \n",
    "\n",
    "as predictors in our model. "
   ]
  },
  {
   "cell_type": "markdown",
   "id": "beeffc1d",
   "metadata": {},
   "source": [
    "### Categorical variables\n",
    "\n",
    "Now let's analyze the relationship between our categorical variables `ocean proximity` and `price_category`. We start with a simple count."
   ]
  },
  {
   "cell_type": "code",
   "execution_count": null,
   "id": "09976e86",
   "metadata": {},
   "outputs": [],
   "source": [
    "library(gt)\n",
    "\n",
    "data_explore %>% \n",
    "  count(price_category, ocean_proximity) %>% \n",
    "  group_by(price_category) %>% \n",
    "  mutate(percent = n / sum(n) *100,\n",
    "         percent = round(percent, 2)) %>% \n",
    "  gt() %>% \n",
    "    tab_header(\n",
    "    title = \"California median house prices\",\n",
    "    subtitle = \"Districts above and below 150.000$\"\n",
    "  ) %>% \n",
    "  cols_label(\n",
    "    ocean_proximity = \"Ocean Proximity\",\n",
    "    n = \"Districts\",\n",
    "    percent = \"Percent\"\n",
    "  ) %>% \n",
    "  fmt_number(\n",
    "    columns = vars(n),\n",
    "    suffixing = TRUE\n",
    "  ) "
   ]
  },
  {
   "cell_type": "markdown",
   "id": "e56a150e",
   "metadata": {},
   "source": [
    "<br>\n",
    "\n",
    "The function `geom_bin2d()` creats a heatmap by counting the number of cases in each group, and then mapping the number of cases to each subgroub's fill.  "
   ]
  },
  {
   "cell_type": "code",
   "execution_count": null,
   "id": "f594ee02",
   "metadata": {},
   "outputs": [],
   "source": [
    "data_explore %>%\n",
    "  ggplot(aes(price_category, ocean_proximity)) +\n",
    "  geom_bin2d() +\n",
    "  scale_fill_continuous(type = \"viridis\") "
   ]
  },
  {
   "cell_type": "markdown",
   "id": "512e5061",
   "metadata": {},
   "source": [
    "We can observe that most districts with a median house price above 150,000 have an ocean proximity below 1 hour. On the other hand, districts below that threshold are typically inland. Hence, ocean proximity is indeed a good predictor for our two different median house value categories. "
   ]
  },
  {
   "cell_type": "markdown",
   "id": "7e8b37cc",
   "metadata": {},
   "source": [
    "# Data preparation"
   ]
  },
  {
   "cell_type": "markdown",
   "id": "c80f2996",
   "metadata": {},
   "source": [
    ":::note\n",
    "Data preparation:\n",
    "\n",
    "- Handle missing values\n",
    "- Fix or remove outliers  \n",
    "- Feature selection\n",
    "- Feature engineering\n",
    "- Feature scaling\n",
    "- Create a validation set\n",
    ":::\n",
    "\n",
    "Next, we’ll preprocess our data before training the models. We mainly use the tidymodels packages `recipes` and `workflows` for this steps. `Recipes` are built as a series of optional data preparation steps, such as:\n",
    "\n",
    "* *Data cleaning*: Fix or remove outliers, fill in missing values (e.g., with zero, mean, median…) or drop their rows (or columns).\n",
    "\n",
    "* *Feature selection*: Drop the attributes that provide no useful information for the task.\n",
    "\n",
    "* *Feature engineering*: Discretize continuous features, decompose features (e.g., the weekday from a date variable, etc.), add promising transformations of features (e.g., log(x), sqrt(x), x2 , etc.) or aggregate features into promising new features (like we already did).\n",
    "\n",
    "* *Feature scaling*: Standardize or normalize features.\n",
    "\n",
    "We will want to use our recipe across several steps as we train and test our models. To simplify this process, we can use a *model workflow*, which pairs a model and recipe together. \n",
    "\n",
    "## Data preparation\n",
    "\n",
    "Before we create our `recipes`, we first select the variables which we will use in the model.  Note that we keep `longitude` and `latitude` to be able to map the data in a later stage but we will not use the variables in our model. "
   ]
  },
  {
   "cell_type": "code",
   "execution_count": null,
   "id": "791af5c1",
   "metadata": {},
   "outputs": [],
   "source": [
    "housing_df_new <-\n",
    "  housing_df %>% \n",
    "  select( # select our predictors\n",
    "    longitude, latitude, \n",
    "    price_category, \n",
    "    median_income, \n",
    "    ocean_proximity, \n",
    "    bedrooms_per_room, \n",
    "    rooms_per_household, \n",
    "    population_per_household\n",
    "         )\n",
    "\n",
    "glimpse(housing_df_new)"
   ]
  },
  {
   "cell_type": "markdown",
   "id": "3be87a8f",
   "metadata": {},
   "source": [
    "Furthermore, we need to make a new data split since we updated the original data. "
   ]
  },
  {
   "cell_type": "code",
   "execution_count": null,
   "id": "23665e92",
   "metadata": {},
   "outputs": [],
   "source": [
    "set.seed(123)\n",
    "\n",
    "data_split <- initial_split(housing_df_new, # updated data\n",
    "                           prop = 3/4, \n",
    "                           strata = price_category)\n",
    "\n",
    "train_data <- training(data_split) \n",
    "test_data <- testing(data_split)"
   ]
  },
  {
   "cell_type": "markdown",
   "id": "0122afbf",
   "metadata": {},
   "source": [
    "## Data prepropecessing recipe \n",
    "\n",
    "The type of data preprocessing is dependent on the data and the type of model being fit. The excellent book \"Tidy Modeling with R\" provides an [appendix with recommendations for baseline levels of preprocessing](https://www.tmwr.org/pre-proc-table.html) that are needed for various model functions (@Kuhn2021) "
   ]
  },
  {
   "cell_type": "markdown",
   "id": "b646b646",
   "metadata": {},
   "source": [
    "Let’s create a base `recipe` for all of our classification models. Note that the sequence of steps matter:\n",
    "\n",
    "* The `recipe()` function has two arguments: \n",
    "   1. A formula. Any variable on the left-hand side of the tilde (`~`) is considered the model outcome (here, `price_category`). On the right-hand side of the tilde are the predictors. Variables may be listed by name (separated by a `+`), or you can use the dot (`.`) to indicate all other variables as predictors. \n",
    "   2. The data. A recipe is associated with the data set used to create the model. This will typically be the training set, so `data = train_data` here. "
   ]
  },
  {
   "cell_type": "markdown",
   "id": "49f80bee",
   "metadata": {},
   "source": [
    "* `update_role()`: This step of adding roles to a recipe is optional; the purpose of using it here is that those two variables can be retained in the data but not included in the model. This can be convenient when, after the model is fit, we want to investigate some poorly predicted value. These ID columns will be available and can be used to try to understand what went wrong. \n",
    "\n",
    "* `step_naomit()` removes observations (rows of data) if they contain NA or NaN values. We use `skip = TRUE` because we don't want to perform this part to new data so that the number of samples in the assessment set is the same as the number of predicted values (even if they are NA). \n",
    "\n",
    "Note that instead of deleting missing values we could also easily substitute (i.e., *impute*) missing values of variables by one of the following methods (using the training set):\n",
    "\n",
    "* [median](https://recipes.tidymodels.org/reference/step_medianimpute.html),  \n",
    "* [mean](https://recipes.tidymodels.org/reference/step_meanimpute.html),   \n",
    "* [mode](https://recipes.tidymodels.org/reference/step_modeimpute.html), \n",
    "* [k-nearest neighbors](https://recipes.tidymodels.org/reference/step_knnimpute.html),  \n",
    "* [linear model](https://recipes.tidymodels.org/reference/step_impute_linear.html),  \n",
    "* [bagged tree models](https://recipes.tidymodels.org/reference/step_bagimpute.html) \n",
    "\n",
    "Take a look at the [recipes reference](https://recipes.tidymodels.org/reference/index.html) for an overview about all possible imputation methods.\n",
    "\n",
    "* `step_novel()` converts all nominal variables to factors and takes care of other issues related to categorical variables.\n",
    "\n",
    "* `step_log()` will log transform data (since some of our numerical variables are right-skewed). Note that this step can not be performed on negative numbers.\n",
    "\n",
    "* `step_normalize()` normalizes (center and scales) the numeric variables to have a standard deviation of one and a mean of zero. (i.e., z-standardization). \n",
    "\n",
    "* `step_dummy()` converts our factor column `ocean_proximity` into numeric binary (0 and 1) variables.\n",
    "\n",
    "Note that this step may cause problems if your categorical variable has too many levels - especially if some of the levels are very infrequent. In this case you should either drop the variable or pool infrequently occurring values into an \"other\" category with [`step_other`](https://recipes.tidymodels.org/reference/step_other.html). This steps has to be performed befor `step_dummy`. \n",
    "\n",
    "* `step_zv()`: removes any numeric variables that have zero variance.\n",
    "\n",
    "* `step_corr()`: will remove predictor variables that have large correlations with other predictor variables.\n",
    "\n",
    "Note that the package [`themis`](https://themis.tidymodels.org/index.html) contains extra steps for the `recipes` package for dealing with **imbalanced data**. A classification data set with skewed class proportions is called imbalanced. Classes that make up a large proportion of the data set are called majority classes. Those that make up a smaller proportion are minority classes (see [Google Developers](https://developers.google.com/machine-learning/data-prep/construct/sampling-splitting/imbalanced-data) for more details). `Themis` provides various methods for over-sampling (e.g. SMOTE) and under-sampling. However, we don't have to use this methods since our data is not imbalanced.\n",
    "\n"
   ]
  },
  {
   "cell_type": "code",
   "execution_count": null,
   "id": "0479ba89",
   "metadata": {
    "lines_to_next_cell": 2
   },
   "outputs": [],
   "source": [
    "housing_rec <-\n",
    "  recipe(price_category ~ .,\n",
    "         data = train_data) %>%\n",
    "  update_role(longitude, latitude, \n",
    "              new_role = \"ID\") %>% \n",
    "  step_log(\n",
    "    median_income,\n",
    "    bedrooms_per_room, rooms_per_household, \n",
    "    population_per_household\n",
    "    ) %>% \n",
    "  step_naomit(everything(), skip = TRUE) %>% \n",
    "  step_novel(all_nominal(), -all_outcomes()) %>%\n",
    "  step_normalize(all_numeric(), -all_outcomes(), \n",
    "                 -longitude, -latitude) %>% \n",
    "  step_dummy(all_nominal(), -all_outcomes()) %>%\n",
    "  step_zv(all_numeric(), -all_outcomes()) %>%\n",
    "  step_corr(all_predictors(), threshold = 0.7, method = \"spearman\") "
   ]
  },
  {
   "cell_type": "markdown",
   "id": "66364eaa",
   "metadata": {},
   "source": [
    "To view the current set of variables and roles, use the `summary()` function:"
   ]
  },
  {
   "cell_type": "code",
   "execution_count": null,
   "id": "7167c0ca",
   "metadata": {},
   "outputs": [],
   "source": [
    "summary(housing_rec)"
   ]
  },
  {
   "cell_type": "markdown",
   "id": "8a6f08ae",
   "metadata": {},
   "source": [
    "If we would like to check if all of our preprocessing steps from above actually worked, we can  proceed as follows:"
   ]
  },
  {
   "cell_type": "code",
   "execution_count": null,
   "id": "ce754bfc",
   "metadata": {},
   "outputs": [],
   "source": [
    "prepped_data <- \n",
    "  housing_rec %>% # use the recipe object\n",
    "  prep() %>% # perform the recipe on training data\n",
    "  juice() # extract only the preprocessed dataframe "
   ]
  },
  {
   "cell_type": "markdown",
   "id": "055ae567",
   "metadata": {},
   "source": [
    "Take a look at the data structure:"
   ]
  },
  {
   "cell_type": "code",
   "execution_count": null,
   "id": "a4093b47",
   "metadata": {
    "lines_to_next_cell": 2
   },
   "outputs": [],
   "source": [
    "glimpse(prepped_data)"
   ]
  },
  {
   "cell_type": "markdown",
   "id": "cc00be71",
   "metadata": {},
   "source": [
    "Visualize the numerical data:"
   ]
  },
  {
   "cell_type": "code",
   "execution_count": null,
   "id": "fd5fc3f6",
   "metadata": {},
   "outputs": [],
   "source": [
    "prepped_data %>% \n",
    "  select(price_category, \n",
    "         median_income, \n",
    "         rooms_per_household, \n",
    "         population_per_household) %>% \n",
    "  ggscatmat(corMethod = \"spearman\",\n",
    "            alpha=0.2)"
   ]
  },
  {
   "cell_type": "markdown",
   "id": "bf16d1bb",
   "metadata": {},
   "source": [
    "You should notice that:\n",
    "\n",
    "* the variables `longitude` and `latitude` did not change. \n",
    "\n",
    "* `median_income`, `rooms_per_household` and `population_per_household` are now z-standardized and the distributions are a bit less right skewed (due to our log transformation)\n",
    "\n",
    "* `ocean_proximity` was replaced by dummy variables. "
   ]
  },
  {
   "cell_type": "markdown",
   "id": "3fe360e6",
   "metadata": {},
   "source": [
    "## Validation set\n",
    "\n",
    "Remember that we already partitioned our data set into a *training set* and *test set*. This lets us judge whether a given model will generalize well to new data. However, using only two partitions may be insufficient when doing many rounds of hyperparameter tuning (which we don't perform in this tutorial but it is always recommended to use a validation set).\n",
    "\n",
    "Therefore, it is usually a good idea to create a so called `validation set`. Watch this short [video from Google's Machine Learning crash course](https://developers.google.com/machine-learning/crash-course/validation/video-lecture) to learn more about the value of a validation set.  \n",
    "\n",
    "We use k-fold crossvalidation to build a set of 5 validation folds with the function `vfold_cv`. We also use stratified sampling:"
   ]
  },
  {
   "cell_type": "code",
   "execution_count": null,
   "id": "93a34c76",
   "metadata": {},
   "outputs": [],
   "source": [
    "set.seed(100)\n",
    "\n",
    "cv_folds <-\n",
    " vfold_cv(train_data, \n",
    "          v = 5, \n",
    "          strata = price_category) "
   ]
  },
  {
   "cell_type": "markdown",
   "id": "5bb16f26",
   "metadata": {},
   "source": [
    "We will come back to the *validation set* after we specified our models. \n",
    "\n",
    "# Model building\n",
    "\n",
    "## Specify models\n",
    "\n",
    "The process of specifying our models is always as follows:\n",
    "\n",
    "1. Pick a `model type` \n",
    "2. set the `engine`\n",
    "3. Set the `mode`: regression or classification\n",
    "\n",
    "You can choose the `model type` and `engine` from this [list](https://www.tidymodels.org/find/parsnip/).\n",
    "\n",
    "### Logistic regression "
   ]
  },
  {
   "cell_type": "code",
   "execution_count": null,
   "id": "6a7ce4df",
   "metadata": {
    "lines_to_next_cell": 2
   },
   "outputs": [],
   "source": [
    "log_spec <- # your model specification\n",
    "  logistic_reg() %>%  # model type\n",
    "  set_engine(engine = \"glm\") %>%  # model engine\n",
    "  set_mode(\"classification\") # model mode\n",
    "\n",
    "# Show your model specification\n",
    "log_spec"
   ]
  },
  {
   "cell_type": "markdown",
   "id": "14bbfeea",
   "metadata": {},
   "source": [
    "### Random forest"
   ]
  },
  {
   "cell_type": "code",
   "execution_count": null,
   "id": "3021c8a6",
   "metadata": {},
   "outputs": [],
   "source": [
    "library(ranger)\n",
    "\n",
    "rf_spec <- \n",
    "  rand_forest() %>% \n",
    "  set_engine(\"ranger\", importance = \"impurity\") %>% \n",
    "  set_mode(\"classification\")"
   ]
  },
  {
   "cell_type": "markdown",
   "id": "19183e1f",
   "metadata": {},
   "source": [
    "When we set the engine, we add `importance = \"impurity\"`. This will provide variable importance scores for this model, which gives some insight into which predictors drive model performance.\n",
    "\n",
    "### Boosted tree (XGBoost)"
   ]
  },
  {
   "cell_type": "code",
   "execution_count": null,
   "id": "37e13466",
   "metadata": {},
   "outputs": [],
   "source": [
    "library(xgboost)\n",
    "\n",
    "xgb_spec <- \n",
    "  boost_tree() %>% \n",
    "  set_engine(\"xgboost\") %>% \n",
    "  set_mode(\"classification\") "
   ]
  },
  {
   "cell_type": "markdown",
   "id": "9d45c149",
   "metadata": {},
   "source": [
    "### K-nearest neighbor   "
   ]
  },
  {
   "cell_type": "code",
   "execution_count": null,
   "id": "52810f0b",
   "metadata": {
    "lines_to_next_cell": 2
   },
   "outputs": [],
   "source": [
    "knn_spec <- \n",
    "  nearest_neighbor(neighbors = 4) %>% # we can adjust the number of neighbors \n",
    "  set_engine(\"kknn\") %>% \n",
    "  set_mode(\"classification\") "
   ]
  },
  {
   "cell_type": "markdown",
   "id": "9e8310f5",
   "metadata": {},
   "source": [
    "### Neural network\n",
    "\n",
    "To use the neural network model, you will need to install the following packages: `keras`. You will also need the python keras library installed (see `?keras::install_keras()`)."
   ]
  },
  {
   "cell_type": "code",
   "execution_count": null,
   "id": "71fdb4cb",
   "metadata": {},
   "outputs": [],
   "source": [
    "library(keras)\n",
    "\n",
    "nnet_spec <-\n",
    "  mlp() %>%\n",
    "  set_mode(\"classification\") %>% \n",
    "  set_engine(\"keras\", verbose = 0) "
   ]
  },
  {
   "cell_type": "markdown",
   "id": "edf6740e",
   "metadata": {},
   "source": [
    "We set the engine-specific `verbose` argument to prevent logging the results."
   ]
  },
  {
   "cell_type": "markdown",
   "id": "84cd0f28",
   "metadata": {},
   "source": [
    "## Create workflows\n",
    "\n",
    "To combine the data preparation recipe with the model building, we use the package [workflows](https://workflows.tidymodels.org). A workflow is an object that can bundle together your pre-processing recipe, modeling, and even post-processing requests (like calculating the RMSE). \n",
    "\n",
    "### Logistic regression\n",
    "\n",
    "Bundle recipe and model with `workflows`:"
   ]
  },
  {
   "cell_type": "code",
   "execution_count": null,
   "id": "4c50f644",
   "metadata": {
    "lines_to_next_cell": 2
   },
   "outputs": [],
   "source": [
    "log_wflow <- # new workflow object\n",
    " workflow() %>% # use workflow function\n",
    " add_recipe(housing_rec) %>%   # use the new recipe\n",
    " add_model(log_spec)   # add your model spec\n",
    "\n",
    "# show object\n",
    "log_wflow"
   ]
  },
  {
   "cell_type": "markdown",
   "id": "f02c574c",
   "metadata": {},
   "source": [
    "### Random forest\n",
    "\n",
    "Bundle recipe and model:"
   ]
  },
  {
   "cell_type": "code",
   "execution_count": null,
   "id": "0f5b23f4",
   "metadata": {
    "lines_to_next_cell": 2
   },
   "outputs": [],
   "source": [
    "rf_wflow <-\n",
    " workflow() %>%\n",
    " add_recipe(housing_rec) %>% \n",
    " add_model(rf_spec) "
   ]
  },
  {
   "cell_type": "markdown",
   "id": "f2a188a0",
   "metadata": {},
   "source": [
    "### XGBoost\n",
    "\n",
    "Bundle recipe and model:"
   ]
  },
  {
   "cell_type": "code",
   "execution_count": null,
   "id": "cf16fe4f",
   "metadata": {},
   "outputs": [],
   "source": [
    "xgb_wflow <-\n",
    " workflow() %>%\n",
    " add_recipe(housing_rec) %>% \n",
    " add_model(xgb_spec)"
   ]
  },
  {
   "cell_type": "markdown",
   "id": "ad5ef1ba",
   "metadata": {},
   "source": [
    "### K-nearest neighbor\n",
    "\n",
    "Bundle recipe and model:"
   ]
  },
  {
   "cell_type": "code",
   "execution_count": null,
   "id": "cb1997f7",
   "metadata": {},
   "outputs": [],
   "source": [
    "knn_wflow <-\n",
    " workflow() %>%\n",
    " add_recipe(housing_rec) %>% \n",
    " add_model(knn_spec)"
   ]
  },
  {
   "cell_type": "markdown",
   "id": "faa321dc",
   "metadata": {},
   "source": [
    "### Neural network\n",
    "\n",
    "Bundle recipe and model:"
   ]
  },
  {
   "cell_type": "code",
   "execution_count": null,
   "id": "eb6b4ecf",
   "metadata": {
    "lines_to_next_cell": 2
   },
   "outputs": [],
   "source": [
    "nnet_wflow <-\n",
    " workflow() %>%\n",
    " add_recipe(housing_rec) %>% \n",
    " add_model(nnet_spec)"
   ]
  },
  {
   "cell_type": "markdown",
   "id": "91e1ce26",
   "metadata": {},
   "source": [
    "## Evaluate models\n",
    "\n",
    "Now we can use our validation set (`cv_folds`) to estimate the performance of our models using the `fit_resamples()` function to fit the models on each of the folds and store the results. \n",
    "\n",
    "Note that `fit_resamples()` will fit our model to each resample and evaluate on the heldout set from each resample. The function is usually only used for computing performance metrics across some set of resamples to evaluate our models (like accuracy) - the models are not even stored. However, in our example we save the predictions in order to visualize the model fit and residuals with `control_resamples(save_pred = TRUE)`.\n",
    "\n",
    "Finally, we collect the performance metrics with `collect_metrics()` and pick the model that does best on the validation set.\n",
    "\n",
    "### Logistic regression\n",
    "\n",
    "We use our workflow object to perform resampling. Furthermore, we use \n",
    "`metric_set() `to choose some common classification performance metrics provided by the `yardstick` package. Visit [`yardsticks` reference](https://yardstick.tidymodels.org/reference/index.html) to see the complete list of all possible metrics. \n",
    "\n",
    "Note that Cohen's *kappa* coefficient (κ) is a similar measure to accuracy, but is normalized by the accuracy that would be expected by chance alone and is very useful when one or more classes have large frequency distributions. The higher the value, the better."
   ]
  },
  {
   "cell_type": "code",
   "execution_count": null,
   "id": "f7e65e32",
   "metadata": {
    "lines_to_next_cell": 2
   },
   "outputs": [],
   "source": [
    "log_res <- \n",
    "  log_wflow %>% \n",
    "  fit_resamples(\n",
    "    resamples = cv_folds, \n",
    "    metrics = metric_set(\n",
    "      recall, precision, f_meas, \n",
    "      accuracy, kap,\n",
    "      roc_auc, sens, spec),\n",
    "    control = control_resamples(\n",
    "      save_pred = TRUE)\n",
    "    ) "
   ]
  },
  {
   "cell_type": "markdown",
   "id": "da17d9c9",
   "metadata": {},
   "source": [
    "#### Model coefficients\n",
    "\n",
    "The above described method to obtain `log_res` is fine if we are not interested in model coefficients. However, if we would like to extract the model coeffcients from `fit_resamples`, we need to proceed as follows:"
   ]
  },
  {
   "cell_type": "code",
   "execution_count": null,
   "id": "f09351f2",
   "metadata": {},
   "outputs": [],
   "source": [
    "# save model coefficients for a fitted model object from a workflow\n",
    "get_model <- function(x) {\n",
    "  pull_workflow_fit(x) %>% \n",
    "    tidy()\n",
    "}\n",
    "\n",
    "# same as before with one exception\n",
    "log_res_2 <- \n",
    "  log_wflow %>% \n",
    "  fit_resamples(\n",
    "    resamples = cv_folds, \n",
    "    metrics = metric_set(\n",
    "      recall, precision, f_meas, \n",
    "      accuracy, kap,\n",
    "      roc_auc, sens, spec),\n",
    "    control = control_resamples(\n",
    "      save_pred = TRUE,\n",
    "      extract = get_model) # use extract and our new function\n",
    "    ) \n",
    "\n",
    "log_res_2\n"
   ]
  },
  {
   "cell_type": "markdown",
   "id": "1fac5faf",
   "metadata": {},
   "source": [
    "Now there is a `.extracts` column with nested tibbles."
   ]
  },
  {
   "cell_type": "code",
   "execution_count": null,
   "id": "f7eeae1e",
   "metadata": {},
   "outputs": [],
   "source": [
    "log_res_2$.extracts[[1]]"
   ]
  },
  {
   "cell_type": "markdown",
   "id": "13bdad9a",
   "metadata": {},
   "source": [
    "To get the results use:"
   ]
  },
  {
   "cell_type": "code",
   "execution_count": null,
   "id": "3299008c",
   "metadata": {},
   "outputs": [],
   "source": [
    "log_res_2$.extracts[[1]][[1]]"
   ]
  },
  {
   "cell_type": "markdown",
   "id": "a69dd038",
   "metadata": {},
   "source": [
    "All of the results can be flattened and collected using:"
   ]
  },
  {
   "cell_type": "code",
   "execution_count": null,
   "id": "ae30be2d",
   "metadata": {},
   "outputs": [],
   "source": [
    "all_coef <- map_dfr(log_res_2$.extracts, ~ .x[[1]][[1]])"
   ]
  },
  {
   "cell_type": "markdown",
   "id": "32eb6594",
   "metadata": {},
   "source": [
    "Show all of the resample coefficients for a single predictor:"
   ]
  },
  {
   "cell_type": "code",
   "execution_count": null,
   "id": "651b5876",
   "metadata": {
    "lines_to_next_cell": 2
   },
   "outputs": [],
   "source": [
    "filter(all_coef, term == \"median_income\")"
   ]
  },
  {
   "cell_type": "markdown",
   "id": "89cddeab",
   "metadata": {},
   "source": [
    "#### Performance metrics\n",
    "\n",
    "Show average performance over all folds:"
   ]
  },
  {
   "cell_type": "code",
   "execution_count": null,
   "id": "28ea959f",
   "metadata": {},
   "outputs": [],
   "source": [
    "log_res %>%  collect_metrics(summarize = TRUE)"
   ]
  },
  {
   "cell_type": "markdown",
   "id": "aeb0ad78",
   "metadata": {},
   "source": [
    "Show performance for every single fold:"
   ]
  },
  {
   "cell_type": "code",
   "execution_count": null,
   "id": "6d3c9cb0",
   "metadata": {
    "lines_to_next_cell": 0
   },
   "outputs": [],
   "source": [
    "log_res %>%  collect_metrics(summarize = FALSE)"
   ]
  },
  {
   "cell_type": "markdown",
   "id": "38e8bb4a",
   "metadata": {},
   "source": []
  },
  {
   "cell_type": "markdown",
   "id": "9b71fbba",
   "metadata": {},
   "source": [
    "#### Collect predictions\n",
    "\n",
    "To obtain the actual model predictions, we use the function `collect_predictions` and save the result as `log_pred`:\n"
   ]
  },
  {
   "cell_type": "code",
   "execution_count": null,
   "id": "51bb34d8",
   "metadata": {
    "lines_to_next_cell": 2
   },
   "outputs": [],
   "source": [
    "log_pred <- \n",
    "  log_res %>%\n",
    "  collect_predictions()"
   ]
  },
  {
   "cell_type": "markdown",
   "id": "7ab5db86",
   "metadata": {},
   "source": [
    "#### Confusion matrix\n",
    "\n",
    "Now we can use the predictions to create a *confusion matrix* with `conf_mat()`:"
   ]
  },
  {
   "cell_type": "code",
   "execution_count": null,
   "id": "d8dbaf9e",
   "metadata": {},
   "outputs": [],
   "source": [
    "log_pred %>%\n",
    "  conf_mat(price_category, .pred_class) "
   ]
  },
  {
   "cell_type": "markdown",
   "id": "2d8228e1",
   "metadata": {},
   "source": [
    "Additionally, the confusion matrix can quickly be visualized in different formats using `autoplot()`. Type mosaic:\n"
   ]
  },
  {
   "cell_type": "code",
   "execution_count": null,
   "id": "1ac7b31f",
   "metadata": {},
   "outputs": [],
   "source": [
    "log_pred %>%\n",
    "  conf_mat(price_category, .pred_class) %>% \n",
    "  autoplot(type = \"mosaic\")"
   ]
  },
  {
   "cell_type": "markdown",
   "id": "d012d82a",
   "metadata": {},
   "source": [
    "Or type heatmap:"
   ]
  },
  {
   "cell_type": "code",
   "execution_count": null,
   "id": "d230f6aa",
   "metadata": {
    "lines_to_next_cell": 2
   },
   "outputs": [],
   "source": [
    "log_pred %>%\n",
    "  conf_mat(price_category, .pred_class) %>% \n",
    "  autoplot(type = \"heatmap\")"
   ]
  },
  {
   "cell_type": "markdown",
   "id": "101c9f99",
   "metadata": {},
   "source": [
    "#### ROC-Curve\n",
    "\n",
    "We can also make an ROC curve for our 5 folds. Since the category we are predicting is the first level in the `price_category` factor (“above”), we provide `roc_curve()` with the relevant class probability `.pred_above`:"
   ]
  },
  {
   "cell_type": "code",
   "execution_count": null,
   "id": "ec94e322",
   "metadata": {},
   "outputs": [],
   "source": [
    "\n",
    "log_pred %>%\n",
    "  group_by(id) %>% # id contains our folds\n",
    "  roc_curve(price_category, .pred_above) %>% \n",
    "  autoplot()\n"
   ]
  },
  {
   "cell_type": "markdown",
   "id": "48110b09",
   "metadata": {},
   "source": [
    "Visit [Google developer's Machine Learning Crashcourse](https://developers.google.com/machine-learning/crash-course/classification/roc-and-auc) to learn more about the ROC-Curve. \n",
    "\n",
    "#### Probability distributions\n",
    "\n",
    "Plot predicted probability distributions for our two classes."
   ]
  },
  {
   "cell_type": "code",
   "execution_count": null,
   "id": "430f2972",
   "metadata": {
    "lines_to_next_cell": 2
   },
   "outputs": [],
   "source": [
    "log_res %>%\n",
    "  collect_predictions() %>% \n",
    "  ggplot() +\n",
    "  geom_density(aes(x = .pred_above, fill = price_category), \n",
    "               alpha = 0.5)"
   ]
  },
  {
   "cell_type": "markdown",
   "id": "dec07fd2",
   "metadata": {},
   "source": [
    "### Random forest\n",
    "\n",
    "We don't repeat all of the steps shown in logistic regression and just focus on the performance metrics."
   ]
  },
  {
   "cell_type": "code",
   "execution_count": null,
   "id": "d83f0ea7",
   "metadata": {},
   "outputs": [],
   "source": [
    "rf_res <-\n",
    "  rf_wflow %>% \n",
    "  fit_resamples(\n",
    "    resamples = cv_folds, \n",
    "    metrics = metric_set(\n",
    "      recall, precision, f_meas, \n",
    "      accuracy, kap,\n",
    "      roc_auc, sens, spec),\n",
    "    control = control_resamples(save_pred = TRUE)\n",
    "    ) \n",
    "\n",
    "rf_res %>%  collect_metrics(summarize = TRUE)"
   ]
  },
  {
   "cell_type": "markdown",
   "id": "346ce702",
   "metadata": {},
   "source": [
    "### XGBoost\n",
    "\n",
    "We don't repeat all of the steps shown in logistic regression and just focus on the performance metrics."
   ]
  },
  {
   "cell_type": "code",
   "execution_count": null,
   "id": "9c64908b",
   "metadata": {
    "lines_to_next_cell": 2
   },
   "outputs": [],
   "source": [
    "xgb_res <- \n",
    "  xgb_wflow %>% \n",
    "  fit_resamples(\n",
    "    resamples = cv_folds, \n",
    "    metrics = metric_set(\n",
    "      recall, precision, f_meas, \n",
    "      accuracy, kap,\n",
    "      roc_auc, sens, spec),\n",
    "    control = control_resamples(save_pred = TRUE)\n",
    "    ) \n",
    "\n",
    "xgb_res %>% collect_metrics(summarize = TRUE)"
   ]
  },
  {
   "cell_type": "markdown",
   "id": "3b63540a",
   "metadata": {},
   "source": [
    "### K-nearest neighbor\n",
    "\n",
    "We don't repeat all of the steps shown in logistic regression and just focus on the performance metrics."
   ]
  },
  {
   "cell_type": "code",
   "execution_count": null,
   "id": "ef466fba",
   "metadata": {},
   "outputs": [],
   "source": [
    "knn_res <- \n",
    "  knn_wflow %>% \n",
    "  fit_resamples(\n",
    "    resamples = cv_folds, \n",
    "    metrics = metric_set(\n",
    "      recall, precision, f_meas, \n",
    "      accuracy, kap,\n",
    "      roc_auc, sens, spec),\n",
    "    control = control_resamples(save_pred = TRUE)\n",
    "    ) \n",
    "\n",
    "knn_res %>% collect_metrics(summarize = TRUE)"
   ]
  },
  {
   "cell_type": "markdown",
   "id": "8b34b11f",
   "metadata": {},
   "source": [
    "### Neural network\n",
    "\n",
    "We don't repeat all of the steps shown in logistic regression and just focus on the performance metrics."
   ]
  },
  {
   "cell_type": "code",
   "execution_count": null,
   "id": "e5e529be",
   "metadata": {
    "lines_to_next_cell": 2
   },
   "outputs": [],
   "source": [
    "nnet_res <- \n",
    "  nnet_wflow %>% \n",
    "  fit_resamples(\n",
    "    resamples = cv_folds, \n",
    "    metrics = metric_set(\n",
    "      recall, precision, f_meas, \n",
    "      accuracy, kap,\n",
    "      roc_auc, sens, spec),\n",
    "    control = control_resamples(save_pred = TRUE)\n",
    "    ) \n",
    "\n",
    "nnet_res %>% collect_metrics(summarize = TRUE)"
   ]
  },
  {
   "cell_type": "markdown",
   "id": "0f014f3e",
   "metadata": {},
   "source": [
    "### Compare models\n",
    "\n",
    "Extract metrics from our models to compare them:"
   ]
  },
  {
   "cell_type": "code",
   "execution_count": null,
   "id": "f66930df",
   "metadata": {
    "lines_to_next_cell": 2
   },
   "outputs": [],
   "source": [
    "\n",
    "log_metrics <- \n",
    "  log_res %>% \n",
    "  collect_metrics(summarise = TRUE) %>%\n",
    "  mutate(model = \"Logistic Regression\") # add the name of the model to every row\n",
    "\n",
    "rf_metrics <- \n",
    "  rf_res %>% \n",
    "  collect_metrics(summarise = TRUE) %>%\n",
    "  mutate(model = \"Random Forest\")\n",
    "\n",
    "xgb_metrics <- \n",
    "  xgb_res %>% \n",
    "  collect_metrics(summarise = TRUE) %>%\n",
    "  mutate(model = \"XGBoost\")\n",
    "\n",
    "knn_metrics <- \n",
    "  knn_res %>% \n",
    "  collect_metrics(summarise = TRUE) %>%\n",
    "  mutate(model = \"Knn\")\n",
    "\n",
    "nnet_metrics <- \n",
    "  nnet_res %>% \n",
    "  collect_metrics(summarise = TRUE) %>%\n",
    "  mutate(model = \"Neural Net\")\n",
    "\n",
    "# create dataframe with all models\n",
    "model_compare <- bind_rows(log_metrics,\n",
    "                           rf_metrics,\n",
    "                           xgb_metrics,\n",
    "                           knn_metrics,\n",
    "                           nnet_metrics) \n",
    "\n",
    "# change data structure\n",
    "model_comp <- \n",
    "  model_compare %>% \n",
    "  select(model, .metric, mean, std_err) %>% \n",
    "  pivot_wider(names_from = .metric, values_from = c(mean, std_err)) \n",
    "\n",
    "# show mean F1-Score for every model\n",
    "model_comp %>% \n",
    "  arrange(mean_f_meas) %>% \n",
    "  mutate(model = fct_reorder(model, mean_f_meas)) %>% # order results\n",
    "  ggplot(aes(model, mean_f_meas, fill=model)) +\n",
    "  geom_col() +\n",
    "  coord_flip() +\n",
    "  scale_fill_brewer(palette = \"Blues\") +\n",
    "   geom_text(\n",
    "     size = 3,\n",
    "     aes(label = round(mean_f_meas, 2), y = mean_f_meas + 0.08),\n",
    "     vjust = 1\n",
    "  )\n",
    "\n",
    "# show mean area under the curve (auc) per model\n",
    "model_comp %>% \n",
    "  arrange(mean_roc_auc) %>% \n",
    "  mutate(model = fct_reorder(model, mean_roc_auc)) %>%\n",
    "  ggplot(aes(model, mean_roc_auc, fill=model)) +\n",
    "  geom_col() +\n",
    "  coord_flip() +\n",
    "  scale_fill_brewer(palette = \"Blues\") + \n",
    "     geom_text(\n",
    "     size = 3,\n",
    "     aes(label = round(mean_roc_auc, 2), y = mean_roc_auc + 0.08),\n",
    "     vjust = 1\n",
    "  )"
   ]
  },
  {
   "cell_type": "markdown",
   "id": "31528a97",
   "metadata": {},
   "source": [
    "Note that the model results are all quite similar. In our example we choose the F1-Score as performance measure to select the best model. Let's find the maximum mean F1-Score:"
   ]
  },
  {
   "cell_type": "code",
   "execution_count": null,
   "id": "0e621f00",
   "metadata": {},
   "outputs": [],
   "source": [
    "model_comp %>% slice_max(mean_f_meas)"
   ]
  },
  {
   "cell_type": "markdown",
   "id": "c95cd0bf",
   "metadata": {},
   "source": [
    "Now it's time to fit the best model one last time to the full *training set* and evaluate the resulting final model on the *test set*.\n",
    "\n",
    "## Last evaluation on test set \n",
    "\n",
    "Tidymodels provides the function [`last_fit()`](https://tune.tidymodels.org/reference/last_fit.html) which fits a model to the whole *training data* and evaluates it on the *test set*. We just need to provide the workflow object of the best model as well as the **data split** object (not the training data)."
   ]
  },
  {
   "cell_type": "code",
   "execution_count": null,
   "id": "645358db",
   "metadata": {},
   "outputs": [],
   "source": [
    "last_fit_rf <- last_fit(rf_wflow, \n",
    "                        split = data_split,\n",
    "                        metrics = metric_set(\n",
    "                          recall, precision, f_meas, \n",
    "                          accuracy, kap,\n",
    "                          roc_auc, sens, spec)\n",
    "                        )"
   ]
  },
  {
   "cell_type": "markdown",
   "id": "23b0c2d5",
   "metadata": {},
   "source": [
    "Show performance metrics"
   ]
  },
  {
   "cell_type": "code",
   "execution_count": null,
   "id": "31116820",
   "metadata": {},
   "outputs": [],
   "source": [
    "last_fit_rf %>% \n",
    "  collect_metrics()"
   ]
  },
  {
   "cell_type": "markdown",
   "id": "18ead84d",
   "metadata": {},
   "source": [
    "And these are our final performance metrics. Remember that if a model fit to the training dataset also fits the test dataset well, minimal *overfitting* has taken place. This seems to be also the case in our example. \n",
    "\n",
    "To learn more about the model we can access the variable importance scores via the `.workflow` column. We first need to pluck out the first element in the workflow column, then pull out the fit from the workflow object. Finally, the `vip` package helps us visualize the variable importance scores for the top features. Note that we can't create this type of plot for every model engine."
   ]
  },
  {
   "cell_type": "code",
   "execution_count": null,
   "id": "0f6b9f79",
   "metadata": {},
   "outputs": [],
   "source": [
    "library(vip)\n",
    "\n",
    "last_fit_rf %>% \n",
    "  pluck(\".workflow\", 1) %>%   \n",
    "  pull_workflow_fit() %>% \n",
    "  vip(num_features = 10)"
   ]
  },
  {
   "cell_type": "markdown",
   "id": "b59d06f6",
   "metadata": {},
   "source": [
    "The two most important predictors in whether a district has a median house value above or below 150000 dollars were the ocean proximity inland and the median income.  \n",
    "\n",
    "Take a look at the confusion matrix:"
   ]
  },
  {
   "cell_type": "code",
   "execution_count": null,
   "id": "9afa640d",
   "metadata": {
    "lines_to_next_cell": 2
   },
   "outputs": [],
   "source": [
    "last_fit_rf %>%\n",
    "  collect_predictions() %>% \n",
    "  conf_mat(price_category, .pred_class) %>% \n",
    "  autoplot(type = \"heatmap\")"
   ]
  },
  {
   "cell_type": "markdown",
   "id": "c10de249",
   "metadata": {},
   "source": [
    "Let’s create the ROC curve. Again, since the event we are predicting is the first level in the `price_category` factor (“above”), we provide `roc_curve()` with the relevant class probability `.pred_above`:"
   ]
  },
  {
   "cell_type": "code",
   "execution_count": null,
   "id": "eed28f41",
   "metadata": {},
   "outputs": [],
   "source": [
    "last_fit_rf %>% \n",
    "  collect_predictions() %>% \n",
    "  roc_curve(price_category, .pred_above) %>% \n",
    "  autoplot()"
   ]
  },
  {
   "cell_type": "markdown",
   "id": "005329f2",
   "metadata": {},
   "source": [
    "Based on all of the results, the validation set and test set performance statistics are very close, so we would have pretty high confidence that our random forest model with the selected hyperparameters would perform well when predicting new data."
   ]
  }
 ],
 "metadata": {
  "jupytext": {
   "cell_metadata_filter": "tags,fig.margin,name,fig.cap,out.width,fig.width,-all",
   "main_language": "R",
   "notebook_metadata_filter": "-all"
  },
  "language_info": {
   "name": "python"
  }
 },
 "nbformat": 4,
 "nbformat_minor": 5
}
