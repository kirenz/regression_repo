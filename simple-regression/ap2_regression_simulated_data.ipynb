{
 "cells": [
  {
   "cell_type": "markdown",
   "metadata": {},
   "source": [
    "**Regression with Simulated Data**<br/>\n",
    "Prof. Dr. Jan Kirenz <br/>\n",
    "Hochschule der Medien Stuttgart"
   ]
  },
  {
   "cell_type": "markdown",
   "metadata": {
    "toc": true
   },
   "source": [
    "<h1>Table of Contents<span class=\"tocSkip\"></span></h1>\n",
    "<div class=\"toc\"><ul class=\"toc-item\"><li><span><a href=\"#1-Generate-data\" data-toc-modified-id=\"1-Generate-data-1\"><span class=\"toc-item-num\">1&nbsp;&nbsp;</span>1 Generate data</a></span><ul class=\"toc-item\"><li><span><a href=\"#Set-seed\" data-toc-modified-id=\"Set-seed-1.1\"><span class=\"toc-item-num\">1.1&nbsp;&nbsp;</span>Set seed</a></span></li><li><span><a href=\"#Task-a)\" data-toc-modified-id=\"Task-a)-1.2\"><span class=\"toc-item-num\">1.2&nbsp;&nbsp;</span>Task a)</a></span></li><li><span><a href=\"#Task-b)\" data-toc-modified-id=\"Task-b)-1.3\"><span class=\"toc-item-num\">1.3&nbsp;&nbsp;</span>Task b)</a></span></li></ul></li><li><span><a href=\"#Task-4-c)\" data-toc-modified-id=\"Task-4-c)-2\"><span class=\"toc-item-num\">2&nbsp;&nbsp;</span>Task 4 c)</a></span></li><li><span><a href=\"#Task-d)\" data-toc-modified-id=\"Task-d)-3\"><span class=\"toc-item-num\">3&nbsp;&nbsp;</span>Task d)</a></span></li><li><span><a href=\"#Task-e)\" data-toc-modified-id=\"Task-e)-4\"><span class=\"toc-item-num\">4&nbsp;&nbsp;</span>Task e)</a></span></li><li><span><a href=\"#Task-f)\" data-toc-modified-id=\"Task-f)-5\"><span class=\"toc-item-num\">5&nbsp;&nbsp;</span>Task f)</a></span><ul class=\"toc-item\"><li><span><a href=\"#Task-g)\" data-toc-modified-id=\"Task-g)-5.1\"><span class=\"toc-item-num\">5.1&nbsp;&nbsp;</span>Task g)</a></span></li></ul></li><li><span><a href=\"#Task-h)\" data-toc-modified-id=\"Task-h)-6\"><span class=\"toc-item-num\">6&nbsp;&nbsp;</span>Task h)</a></span></li><li><span><a href=\"#Task-i)\" data-toc-modified-id=\"Task-i)-7\"><span class=\"toc-item-num\">7&nbsp;&nbsp;</span>Task i)</a></span></li><li><span><a href=\"#Task-j)\" data-toc-modified-id=\"Task-j)-8\"><span class=\"toc-item-num\">8&nbsp;&nbsp;</span>Task j)</a></span></li></ul></div>"
   ]
  },
  {
   "cell_type": "code",
   "execution_count": 7,
   "metadata": {},
   "outputs": [],
   "source": [
    "# Python set up (load modules) \n",
    "import numpy as np\n",
    "import pandas as pd\n",
    "from pandas.api.types import CategoricalDtype\n",
    "from scipy import stats\n",
    "import statsmodels.api as sm\n",
    "import statsmodels.formula.api as smf\n",
    "from statsmodels.graphics.regressionplots import abline_plot\n",
    "import matplotlib.pyplot as plt\n",
    "import matplotlib.patches as mpatches\n",
    "%matplotlib inline \n",
    "plt.style.use('ggplot') \n",
    "import seaborn as sns  \n",
    "sns.set() \n",
    "from IPython.display import Image "
   ]
  },
  {
   "cell_type": "markdown",
   "metadata": {},
   "source": [
    "# Application 2: Linear regression with simulated data\n",
    "\n",
    "In this application you will create some simulated data and fit simple linear regression models to it. \n",
    "\n",
    "IMPORTANT: Make sure to use **set.seed(1)** prior to starting part (a) to ensure consistent results.\n",
    "\n",
    "\n",
    "(a) Create a vector, **X** , containing 100 observations drawn from a N (0, 1) dis-tribution. This represents a feature, X .\n",
    "\n",
    "(b) Create a error vector, **err** (error), containing 100 observations drawn from a N(0, 0.25) distribution i.e. a normal distribution with mean zero and standard deviation 0.25.\n",
    "\n",
    "(c) Using X and err, generate a vector **Y** according to the model: **Y = −1 + 0 .5 X + err** (model 1). This is the \"true\" relationship between Y and X, also called a **population model** with known parameters. Questions: what is the length of the vector Y? What are the values of $β_0$ and $β_1$ in this linear (population) model?\n",
    "\n",
    "(d) Create a scatterplot displaying the relationship between X and Y. Comment on what you observe.\n",
    "\n",
    "(e) Now fit a least squares linear model (this is our model 2) to predict Y using X (which will yield $\\hat{Y}$). Comment on the model obtained (use .summary() and the mean squared error of the residuals). How do $\\hat{β_0}$ and $\\hat{β_1}$ of model 2 compare to $β_0$ and $β_1$ of the (real) population model (i.e. model 1)?\n",
    "\n",
    "(f) Display the least squares regression line on the scatterplot obtained in (d) in the color red. Furthermore, draw the population regression line (model 1) on the plot in blue color. Add a legend.\n",
    "\n",
    "(g) Now fit a polynomial regression model that predicts Y using X and $X^2$. Is there evidence that the quadratic term improves the model fit? Explain your answer.\n",
    "\n",
    "(h) Repeat (a)–(f) after modifying the data generation process in such a way that there is **less noise** in the data. The model 1 should remain the same. You can do this by decreasing the standard deviation of the normal distribution used to generate the **err** (error) term in (b) (use sd = 0.05). Describe your results.\n",
    "\n",
    "(i) What are the confidence intervals for $β_0$ and $β_1$ based on the original data set (used in e) and the less noisy data set (created in h)? Comment on your results.\n",
    "\n",
    "(j) What are the standard errors for $β_0$ and $β_1$ based on the original data set (used in e) and the less noisy data set (created in h)? Comment on your results.\n",
    "\n",
    "---\n",
    "\n",
    "*Sources*\n",
    "\n",
    "*James, G., Witten, D., Hastie, T., & Tibshirani, R. (2013). An introduction to statistical learning. New York: Springer.*\n",
    "\n",
    "---"
   ]
  },
  {
   "cell_type": "markdown",
   "metadata": {},
   "source": [
    "## 1 Generate data\n",
    "\n",
    "\n",
    "### Set seed\n",
    "\n",
    "We use it to generate a sequence of random numbers. The seed enables us to use the same random numbers multiple times."
   ]
  },
  {
   "cell_type": "code",
   "execution_count": 4,
   "metadata": {},
   "outputs": [],
   "source": [
    "# Set seed\n",
    "np.random.seed(1)"
   ]
  },
  {
   "cell_type": "markdown",
   "metadata": {},
   "source": [
    "### Task a)\n",
    "\n",
    "Create a vector, **X**, containing 100 observations drawn from a N (0, 1) distribution. This represents a feature, X "
   ]
  },
  {
   "cell_type": "code",
   "execution_count": 5,
   "metadata": {},
   "outputs": [],
   "source": [
    "# Normal distributed values, with mean = 0 and sd = 1 (using Numpy)\n",
    "X = np.random.normal(0, 1, 100)"
   ]
  },
  {
   "cell_type": "code",
   "execution_count": 8,
   "metadata": {},
   "outputs": [
    {
     "name": "stdout",
     "output_type": "stream",
     "text": [
      "[ 1.62434536 -0.61175641 -0.52817175 -1.07296862  0.86540763 -2.3015387\n",
      "  1.74481176 -0.7612069   0.3190391  -0.24937038  1.46210794 -2.06014071\n",
      " -0.3224172  -0.38405435  1.13376944 -1.09989127 -0.17242821 -0.87785842\n",
      "  0.04221375  0.58281521 -1.10061918  1.14472371  0.90159072  0.50249434\n",
      "  0.90085595 -0.68372786 -0.12289023 -0.93576943 -0.26788808  0.53035547\n",
      " -0.69166075 -0.39675353 -0.6871727  -0.84520564 -0.67124613 -0.0126646\n",
      " -1.11731035  0.2344157   1.65980218  0.74204416 -0.19183555 -0.88762896\n",
      " -0.74715829  1.6924546   0.05080775 -0.63699565  0.19091548  2.10025514\n",
      "  0.12015895  0.61720311  0.30017032 -0.35224985 -1.1425182  -0.34934272\n",
      " -0.20889423  0.58662319  0.83898341  0.93110208  0.28558733  0.88514116\n",
      " -0.75439794  1.25286816  0.51292982 -0.29809284  0.48851815 -0.07557171\n",
      "  1.13162939  1.51981682  2.18557541 -1.39649634 -1.44411381 -0.50446586\n",
      "  0.16003707  0.87616892  0.31563495 -2.02220122 -0.30620401  0.82797464\n",
      "  0.23009474  0.76201118 -0.22232814 -0.20075807  0.18656139  0.41005165\n",
      "  0.19829972  0.11900865 -0.67066229  0.37756379  0.12182127  1.12948391\n",
      "  1.19891788  0.18515642 -0.37528495 -0.63873041  0.42349435  0.07734007\n",
      " -0.34385368  0.04359686 -0.62000084  0.69803203]\n"
     ]
    }
   ],
   "source": [
    "print(X)"
   ]
  },
  {
   "cell_type": "markdown",
   "metadata": {},
   "source": [
    "### Task b)\n",
    "\n",
    "Create a error vector, **err** (error), containing 100 observations drawn from a N(0, 0.25) distribution i.e. a normal distribution with mean zero and standard deviation 0.25."
   ]
  },
  {
   "cell_type": "code",
   "execution_count": 9,
   "metadata": {},
   "outputs": [],
   "source": [
    "# Normal distributed values, with mean = 0 and sd = 0.25\n",
    "err = np.random.normal(0, 0.25, 100)"
   ]
  },
  {
   "cell_type": "markdown",
   "metadata": {},
   "source": [
    "## Task 4 c)\n",
    "\n",
    "Using X and err, generate a vector **Y** according to the model: **Y = −1 + 0 .5 X + err** (model 1). This is the \"true\" relationship between Y and X, also called a **population model** with known parameters. Questions: what is the length of the vector Y? What are the values of $β_0$ and $β_1$ in this linear (population) model?"
   ]
  },
  {
   "cell_type": "code",
   "execution_count": 10,
   "metadata": {},
   "outputs": [],
   "source": [
    "# Population model\n",
    "Y = -1 + 0.5 * X + err"
   ]
  },
  {
   "cell_type": "code",
   "execution_count": 11,
   "metadata": {},
   "outputs": [
    {
     "data": {
      "text/plain": [
       "100"
      ]
     },
     "execution_count": 11,
     "metadata": {},
     "output_type": "execute_result"
    }
   ],
   "source": [
    "# length of vector Y? \n",
    "Y.size"
   ]
  },
  {
   "cell_type": "markdown",
   "metadata": {},
   "source": [
    "Values of our parameters $\\beta_0$ and $\\beta_1$ in the linear model:\n",
    "\n",
    "- $\\beta_0 = -1$ (intercept)\n",
    "- $\\beta_1 = 0.5$ (slope)"
   ]
  },
  {
   "cell_type": "markdown",
   "metadata": {},
   "source": [
    "## Task d)\n",
    "\n",
    "Create a scatterplot displaying the relationship between X and Y. Comment on what you observe."
   ]
  },
  {
   "cell_type": "code",
   "execution_count": 12,
   "metadata": {},
   "outputs": [
    {
     "data": {
      "image/png": "[encoded data removed]",
      "text/plain": [
       "<Figure size 432x288 with 1 Axes>"
      ]
     },
     "metadata": {},
     "output_type": "display_data"
    }
   ],
   "source": [
    "sns.scatterplot(x=X, y=Y);"
   ]
  },
  {
   "cell_type": "markdown",
   "metadata": {},
   "source": [
    "Positive linear relationship between x and y with variance in the data (... as expected since we created this model...)"
   ]
  },
  {
   "cell_type": "markdown",
   "metadata": {},
   "source": [
    "## Task e)\n",
    "\n",
    "Now fit a least squares linear model (this is our model 2) to predict Y using X (which will yield $\\hat{Y}$). Comment on the model obtained (use .summary() and the mean squared error of the residuals. \n",
    "\n",
    "How do $\\hat{β_0}$ and $\\hat{β_1}$ of model 2 compare to $β_0$ and $β_1$ of the (real) population model (i.e. model 1)?"
   ]
  },
  {
   "cell_type": "code",
   "execution_count": 18,
   "metadata": {
    "scrolled": true
   },
   "outputs": [],
   "source": [
    "df = pd.DataFrame({'X': X, 'Y': Y})"
   ]
  },
  {
   "cell_type": "code",
   "execution_count": 16,
   "metadata": {
    "scrolled": true
   },
   "outputs": [],
   "source": [
    "# Fit Model\n",
    "lm = smf.ols(formula='Y ~ X', data=df).fit()"
   ]
  },
  {
   "cell_type": "code",
   "execution_count": 17,
   "metadata": {
    "scrolled": true
   },
   "outputs": [
    {
     "data": {
      "text/html": [
       "<table class=\"simpletable\">\n",
       "<caption>OLS Regression Results</caption>\n",
       "<tr>\n",
       "  <th>Dep. Variable:</th>            <td>Y</td>        <th>  R-squared:         </th> <td>   0.800</td>\n",
       "</tr>\n",
       "<tr>\n",
       "  <th>Model:</th>                   <td>OLS</td>       <th>  Adj. R-squared:    </th> <td>   0.798</td>\n",
       "</tr>\n",
       "<tr>\n",
       "  <th>Method:</th>             <td>Least Squares</td>  <th>  F-statistic:       </th> <td>   391.4</td>\n",
       "</tr>\n",
       "<tr>\n",
       "  <th>Date:</th>             <td>Thu, 13 Dec 2018</td> <th>  Prob (F-statistic):</th> <td>5.39e-36</td>\n",
       "</tr>\n",
       "<tr>\n",
       "  <th>Time:</th>                 <td>17:21:30</td>     <th>  Log-Likelihood:    </th> <td>  4.1908</td>\n",
       "</tr>\n",
       "<tr>\n",
       "  <th>No. Observations:</th>      <td>   100</td>      <th>  AIC:               </th> <td>  -4.382</td>\n",
       "</tr>\n",
       "<tr>\n",
       "  <th>Df Residuals:</th>          <td>    98</td>      <th>  BIC:               </th> <td>  0.8288</td>\n",
       "</tr>\n",
       "<tr>\n",
       "  <th>Df Model:</th>              <td>     1</td>      <th>                     </th>     <td> </td>   \n",
       "</tr>\n",
       "<tr>\n",
       "  <th>Covariance Type:</th>      <td>nonrobust</td>    <th>                     </th>     <td> </td>   \n",
       "</tr>\n",
       "</table>\n",
       "<table class=\"simpletable\">\n",
       "<tr>\n",
       "      <td></td>         <th>coef</th>     <th>std err</th>      <th>t</th>      <th>P>|t|</th>  <th>[0.025</th>    <th>0.975]</th>  \n",
       "</tr>\n",
       "<tr>\n",
       "  <th>Intercept</th> <td>   -0.9632</td> <td>    0.023</td> <td>  -40.999</td> <td> 0.000</td> <td>   -1.010</td> <td>   -0.917</td>\n",
       "</tr>\n",
       "<tr>\n",
       "  <th>X</th>         <td>    0.5239</td> <td>    0.026</td> <td>   19.783</td> <td> 0.000</td> <td>    0.471</td> <td>    0.576</td>\n",
       "</tr>\n",
       "</table>\n",
       "<table class=\"simpletable\">\n",
       "<tr>\n",
       "  <th>Omnibus:</th>       <td> 0.898</td> <th>  Durbin-Watson:     </th> <td>   2.157</td>\n",
       "</tr>\n",
       "<tr>\n",
       "  <th>Prob(Omnibus):</th> <td> 0.638</td> <th>  Jarque-Bera (JB):  </th> <td>   0.561</td>\n",
       "</tr>\n",
       "<tr>\n",
       "  <th>Skew:</th>          <td>-0.172</td> <th>  Prob(JB):          </th> <td>   0.755</td>\n",
       "</tr>\n",
       "<tr>\n",
       "  <th>Kurtosis:</th>      <td> 3.127</td> <th>  Cond. No.          </th> <td>    1.15</td>\n",
       "</tr>\n",
       "</table><br/><br/>Warnings:<br/>[1] Standard Errors assume that the covariance matrix of the errors is correctly specified."
      ],
      "text/plain": [
       "<class 'statsmodels.iolib.summary.Summary'>\n",
       "\"\"\"\n",
       "                            OLS Regression Results                            \n",
       "==============================================================================\n",
       "Dep. Variable:                      Y   R-squared:                       0.800\n",
       "Model:                            OLS   Adj. R-squared:                  0.798\n",
       "Method:                 Least Squares   F-statistic:                     391.4\n",
       "Date:                Thu, 13 Dec 2018   Prob (F-statistic):           5.39e-36\n",
       "Time:                        17:21:30   Log-Likelihood:                 4.1908\n",
       "No. Observations:                 100   AIC:                            -4.382\n",
       "Df Residuals:                      98   BIC:                            0.8288\n",
       "Df Model:                           1                                         \n",
       "Covariance Type:            nonrobust                                         \n",
       "==============================================================================\n",
       "                 coef    std err          t      P>|t|      [0.025      0.975]\n",
       "------------------------------------------------------------------------------\n",
       "Intercept     -0.9632      0.023    -40.999      0.000      -1.010      -0.917\n",
       "X              0.5239      0.026     19.783      0.000       0.471       0.576\n",
       "==============================================================================\n",
       "Omnibus:                        0.898   Durbin-Watson:                   2.157\n",
       "Prob(Omnibus):                  0.638   Jarque-Bera (JB):                0.561\n",
       "Skew:                          -0.172   Prob(JB):                        0.755\n",
       "Kurtosis:                       3.127   Cond. No.                         1.15\n",
       "==============================================================================\n",
       "\n",
       "Warnings:\n",
       "[1] Standard Errors assume that the covariance matrix of the errors is correctly specified.\n",
       "\"\"\""
      ]
     },
     "execution_count": 17,
     "metadata": {},
     "output_type": "execute_result"
    }
   ],
   "source": [
    "# Print summary\n",
    "lm.summary()"
   ]
  },
  {
   "cell_type": "code",
   "execution_count": 19,
   "metadata": {},
   "outputs": [
    {
     "data": {
      "text/plain": [
       "0.0549412952933593"
      ]
     },
     "execution_count": 19,
     "metadata": {},
     "output_type": "execute_result"
    }
   ],
   "source": [
    "# Mean squared error of residuals\n",
    "lm.mse_resid"
   ]
  },
  {
   "cell_type": "markdown",
   "metadata": {},
   "source": [
    "The linear regression fits a model which is almost true to the values of the coefficients of the population model (as we constructed it). The predictor x is highly statistically significant and we can observe a large F-statistic with a near-zero p-value so the null hypothesis can be rejected. Our model explains around 78% of the variation in the data."
   ]
  },
  {
   "cell_type": "markdown",
   "metadata": {},
   "source": [
    "## Task f)\n",
    "\n",
    "Display the least squares regression line on the scatterplot obtained in (d) in the color red. Furthermore, draw the population regression line (model 1) on the plot in blue color. Add a legend."
   ]
  },
  {
   "cell_type": "code",
   "execution_count": 20,
   "metadata": {},
   "outputs": [
    {
     "data": {
      "image/png": "[encoded data removed]",
      "text/plain": [
       "<Figure size 360x360 with 1 Axes>"
      ]
     },
     "metadata": {},
     "output_type": "display_data"
    }
   ],
   "source": [
    "# Scatter Plot \n",
    "scatter = df.plot(x='X', y='Y', kind='scatter', figsize=(5,5))\n",
    "# Regression line\n",
    "line = abline_plot(model_results=lm, ax=scatter, color='red');\n",
    "# Add Legend\n",
    "red_patch = mpatches.Patch(color='red', label='regression line')\n",
    "blue_patch = mpatches.Patch(color='steelblue', label='population line')\n",
    "plt.legend(handles=[red_patch, blue_patch]);\n",
    "# Population line (real parameters)\n",
    "plt.plot(X, (-1 + 0.5*X), linestyle='dashed', color='steelblue');"
   ]
  },
  {
   "cell_type": "code",
   "execution_count": 21,
   "metadata": {
    "scrolled": true
   },
   "outputs": [
    {
     "name": "stderr",
     "output_type": "stream",
     "text": [
      "/Users/jankirenz/anaconda/lib/python3.6/site-packages/scipy/stats/stats.py:1713: FutureWarning: Using a non-tuple sequence for multidimensional indexing is deprecated; use `arr[tuple(seq)]` instead of `arr[seq]`. In the future this will be interpreted as an array index, `arr[np.array(seq)]`, which will result either in an error or a different result.\n",
      "  return np.add.reduce(sorted[indexer] * weights, axis=axis) / sumval\n"
     ]
    },
    {
     "data": {
      "image/png": "[encoded data removed]",
      "text/plain": [
       "<Figure size 360x360 with 1 Axes>"
      ]
     },
     "metadata": {},
     "output_type": "display_data"
    }
   ],
   "source": [
    "# Regression line with seaborne \n",
    "plot = sns.lmplot(x='X', y='Y', data=df, order=1, \n",
    "                  line_kws={'color':'red', 'label': 'regression line'}, \n",
    "                  height=5, aspect=1, ci=95);\n",
    "plot = (plot.set_axis_labels(\"Predictor X\", \"Response Y\"))"
   ]
  },
  {
   "cell_type": "markdown",
   "metadata": {},
   "source": [
    "### Task g) \n",
    "\n",
    "Now fit a polynomial regression model that predicts Y using X and $X^2$. Is there evidence that the quadratic term improves the model fit? Explain your answer."
   ]
  },
  {
   "cell_type": "code",
   "execution_count": 22,
   "metadata": {
    "scrolled": true
   },
   "outputs": [
    {
     "data": {
      "text/html": [
       "<table class=\"simpletable\">\n",
       "<caption>OLS Regression Results</caption>\n",
       "<tr>\n",
       "  <th>Dep. Variable:</th>            <td>Y</td>        <th>  R-squared:         </th> <td>   0.800</td>\n",
       "</tr>\n",
       "<tr>\n",
       "  <th>Model:</th>                   <td>OLS</td>       <th>  Adj. R-squared:    </th> <td>   0.796</td>\n",
       "</tr>\n",
       "<tr>\n",
       "  <th>Method:</th>             <td>Least Squares</td>  <th>  F-statistic:       </th> <td>   193.8</td>\n",
       "</tr>\n",
       "<tr>\n",
       "  <th>Date:</th>             <td>Wed, 05 Dec 2018</td> <th>  Prob (F-statistic):</th> <td>1.32e-34</td>\n",
       "</tr>\n",
       "<tr>\n",
       "  <th>Time:</th>                 <td>15:31:00</td>     <th>  Log-Likelihood:    </th> <td>  4.2077</td>\n",
       "</tr>\n",
       "<tr>\n",
       "  <th>No. Observations:</th>      <td>   100</td>      <th>  AIC:               </th> <td>  -2.415</td>\n",
       "</tr>\n",
       "<tr>\n",
       "  <th>Df Residuals:</th>          <td>    97</td>      <th>  BIC:               </th> <td>   5.400</td>\n",
       "</tr>\n",
       "<tr>\n",
       "  <th>Df Model:</th>              <td>     2</td>      <th>                     </th>     <td> </td>   \n",
       "</tr>\n",
       "<tr>\n",
       "  <th>Covariance Type:</th>      <td>nonrobust</td>    <th>                     </th>     <td> </td>   \n",
       "</tr>\n",
       "</table>\n",
       "<table class=\"simpletable\">\n",
       "<tr>\n",
       "      <td></td>         <th>coef</th>     <th>std err</th>      <th>t</th>      <th>P>|t|</th>  <th>[0.025</th>    <th>0.975]</th>  \n",
       "</tr>\n",
       "<tr>\n",
       "  <th>Intercept</th> <td>   -0.9663</td> <td>    0.029</td> <td>  -33.486</td> <td> 0.000</td> <td>   -1.024</td> <td>   -0.909</td>\n",
       "</tr>\n",
       "<tr>\n",
       "  <th>X</th>         <td>    0.5234</td> <td>    0.027</td> <td>   19.582</td> <td> 0.000</td> <td>    0.470</td> <td>    0.576</td>\n",
       "</tr>\n",
       "<tr>\n",
       "  <th>I(X ** 2)</th> <td>    0.0039</td> <td>    0.021</td> <td>    0.181</td> <td> 0.856</td> <td>   -0.038</td> <td>    0.046</td>\n",
       "</tr>\n",
       "</table>\n",
       "<table class=\"simpletable\">\n",
       "<tr>\n",
       "  <th>Omnibus:</th>       <td> 0.893</td> <th>  Durbin-Watson:     </th> <td>   2.152</td>\n",
       "</tr>\n",
       "<tr>\n",
       "  <th>Prob(Omnibus):</th> <td> 0.640</td> <th>  Jarque-Bera (JB):  </th> <td>   0.552</td>\n",
       "</tr>\n",
       "<tr>\n",
       "  <th>Skew:</th>          <td>-0.170</td> <th>  Prob(JB):          </th> <td>   0.759</td>\n",
       "</tr>\n",
       "<tr>\n",
       "  <th>Kurtosis:</th>      <td> 3.132</td> <th>  Cond. No.          </th> <td>    2.10</td>\n",
       "</tr>\n",
       "</table><br/><br/>Warnings:<br/>[1] Standard Errors assume that the covariance matrix of the errors is correctly specified."
      ],
      "text/plain": [
       "<class 'statsmodels.iolib.summary.Summary'>\n",
       "\"\"\"\n",
       "                            OLS Regression Results                            \n",
       "==============================================================================\n",
       "Dep. Variable:                      Y   R-squared:                       0.800\n",
       "Model:                            OLS   Adj. R-squared:                  0.796\n",
       "Method:                 Least Squares   F-statistic:                     193.8\n",
       "Date:                Wed, 05 Dec 2018   Prob (F-statistic):           1.32e-34\n",
       "Time:                        15:31:00   Log-Likelihood:                 4.2077\n",
       "No. Observations:                 100   AIC:                            -2.415\n",
       "Df Residuals:                      97   BIC:                             5.400\n",
       "Df Model:                           2                                         \n",
       "Covariance Type:            nonrobust                                         \n",
       "==============================================================================\n",
       "                 coef    std err          t      P>|t|      [0.025      0.975]\n",
       "------------------------------------------------------------------------------\n",
       "Intercept     -0.9663      0.029    -33.486      0.000      -1.024      -0.909\n",
       "X              0.5234      0.027     19.582      0.000       0.470       0.576\n",
       "I(X ** 2)      0.0039      0.021      0.181      0.856      -0.038       0.046\n",
       "==============================================================================\n",
       "Omnibus:                        0.893   Durbin-Watson:                   2.152\n",
       "Prob(Omnibus):                  0.640   Jarque-Bera (JB):                0.552\n",
       "Skew:                          -0.170   Prob(JB):                        0.759\n",
       "Kurtosis:                       3.132   Cond. No.                         2.10\n",
       "==============================================================================\n",
       "\n",
       "Warnings:\n",
       "[1] Standard Errors assume that the covariance matrix of the errors is correctly specified.\n",
       "\"\"\""
      ]
     },
     "execution_count": 22,
     "metadata": {},
     "output_type": "execute_result"
    }
   ],
   "source": [
    "# Fit Model\n",
    "lm_2 = smf.ols(formula='Y ~ X + I(X**2)', data=df).fit()\n",
    "lm_2.summary()"
   ]
  },
  {
   "cell_type": "code",
   "execution_count": 23,
   "metadata": {},
   "outputs": [
    {
     "data": {
      "text/plain": [
       "0.055488894520680836"
      ]
     },
     "execution_count": 23,
     "metadata": {},
     "output_type": "execute_result"
    }
   ],
   "source": [
    "# Mean squared error of residuals\n",
    "lm_2.mse_resid"
   ]
  },
  {
   "cell_type": "markdown",
   "metadata": {},
   "source": [
    "Arguments, that the polynomial provides a **better** fit:\n",
    "- $\\beta_0$ and $\\beta_1$ are slightly closer to $\\hat{\\beta_0}$ and $\\hat{\\beta_1}$\n",
    "   \n",
    "Arguments, that the polynomial provides **not a better** fit:\n",
    "- While $R^2$ is same for both models, $Adj. R^2$ (which takes model complexity into account) is slightly lower (worse)\n",
    "- $\\beta_0$ and $\\beta_1$ have slightly higher standard error\n",
    "- $\\beta_2$ with $p = 0.856$ is not signifcant\n",
    "- Scores for AIC and BIC are higher (worse)\n",
    "\n",
    "In particular, the p-value of the t-statistic suggests that there isn’t a significant relationship between Y and $X^2$ why we should use the model in (e). This makes sense since we know the true population model doesn't contain a quadratic relationship."
   ]
  },
  {
   "cell_type": "markdown",
   "metadata": {},
   "source": [
    "## Task h)\n",
    "\n",
    "Repeat (a)–(f) after modifying the data generation process in such a way that there is **less noise** in the data. The model 1 should remain the same. \n",
    "\n",
    "You can do this by decreasing the standard deviation of the normal distribution used to generate the **err** (error) term in (b) (use sd = 0.05). Describe your results."
   ]
  },
  {
   "cell_type": "code",
   "execution_count": 24,
   "metadata": {},
   "outputs": [
    {
     "data": {
      "image/png": "[encoded data removed]",
      "text/plain": [
       "<Figure size 432x288 with 1 Axes>"
      ]
     },
     "metadata": {},
     "output_type": "display_data"
    }
   ],
   "source": [
    "# a) Normal distributed values, with mean = 0 and sd = 1\n",
    "X_h = np.random.normal(0, 1, 100)\n",
    "# b) with lower standard deviation \n",
    "err_h = np.random.normal(0, 0.05, 100)\n",
    "# c) Model\n",
    "Y_h = -1 + 0.5 * X_h + err_h\n",
    "# d) Scatterplot\n",
    "sns.scatterplot(x=X_h, y=Y_h);"
   ]
  },
  {
   "cell_type": "markdown",
   "metadata": {},
   "source": [
    "Positive linear relationship between x2 and y2 with only little variance in the data (... as expected since we created this model...)."
   ]
  },
  {
   "cell_type": "code",
   "execution_count": 30,
   "metadata": {},
   "outputs": [
    {
     "data": {
      "text/html": [
       "<table class=\"simpletable\">\n",
       "<caption>GLS Regression Results</caption>\n",
       "<tr>\n",
       "  <th>Dep. Variable:</th>            <td>Y</td>        <th>  R-squared:         </th> <td>   0.989</td>\n",
       "</tr>\n",
       "<tr>\n",
       "  <th>Model:</th>                   <td>GLS</td>       <th>  Adj. R-squared:    </th> <td>   0.989</td>\n",
       "</tr>\n",
       "<tr>\n",
       "  <th>Method:</th>             <td>Least Squares</td>  <th>  F-statistic:       </th> <td>   8662.</td>\n",
       "</tr>\n",
       "<tr>\n",
       "  <th>Date:</th>             <td>Wed, 05 Dec 2018</td> <th>  Prob (F-statistic):</th> <td>1.97e-97</td>\n",
       "</tr>\n",
       "<tr>\n",
       "  <th>Time:</th>                 <td>15:52:33</td>     <th>  Log-Likelihood:    </th> <td>  151.58</td>\n",
       "</tr>\n",
       "<tr>\n",
       "  <th>No. Observations:</th>      <td>   100</td>      <th>  AIC:               </th> <td>  -299.2</td>\n",
       "</tr>\n",
       "<tr>\n",
       "  <th>Df Residuals:</th>          <td>    98</td>      <th>  BIC:               </th> <td>  -293.9</td>\n",
       "</tr>\n",
       "<tr>\n",
       "  <th>Df Model:</th>              <td>     1</td>      <th>                     </th>     <td> </td>   \n",
       "</tr>\n",
       "<tr>\n",
       "  <th>Covariance Type:</th>      <td>nonrobust</td>    <th>                     </th>     <td> </td>   \n",
       "</tr>\n",
       "</table>\n",
       "<table class=\"simpletable\">\n",
       "<tr>\n",
       "      <td></td>         <th>coef</th>     <th>std err</th>      <th>t</th>      <th>P>|t|</th>  <th>[0.025</th>    <th>0.975]</th>  \n",
       "</tr>\n",
       "<tr>\n",
       "  <th>Intercept</th> <td>   -1.0010</td> <td>    0.005</td> <td> -186.443</td> <td> 0.000</td> <td>   -1.012</td> <td>   -0.990</td>\n",
       "</tr>\n",
       "<tr>\n",
       "  <th>X</th>         <td>    0.4972</td> <td>    0.005</td> <td>   93.071</td> <td> 0.000</td> <td>    0.487</td> <td>    0.508</td>\n",
       "</tr>\n",
       "</table>\n",
       "<table class=\"simpletable\">\n",
       "<tr>\n",
       "  <th>Omnibus:</th>       <td> 0.426</td> <th>  Durbin-Watson:     </th> <td>   1.977</td>\n",
       "</tr>\n",
       "<tr>\n",
       "  <th>Prob(Omnibus):</th> <td> 0.808</td> <th>  Jarque-Bera (JB):  </th> <td>   0.121</td>\n",
       "</tr>\n",
       "<tr>\n",
       "  <th>Skew:</th>          <td>-0.045</td> <th>  Prob(JB):          </th> <td>   0.941</td>\n",
       "</tr>\n",
       "<tr>\n",
       "  <th>Kurtosis:</th>      <td> 3.145</td> <th>  Cond. No.          </th> <td>    1.01</td>\n",
       "</tr>\n",
       "</table><br/><br/>Warnings:<br/>[1] Standard Errors assume that the covariance matrix of the errors is correctly specified."
      ],
      "text/plain": [
       "<class 'statsmodels.iolib.summary.Summary'>\n",
       "\"\"\"\n",
       "                            GLS Regression Results                            \n",
       "==============================================================================\n",
       "Dep. Variable:                      Y   R-squared:                       0.989\n",
       "Model:                            GLS   Adj. R-squared:                  0.989\n",
       "Method:                 Least Squares   F-statistic:                     8662.\n",
       "Date:                Wed, 05 Dec 2018   Prob (F-statistic):           1.97e-97\n",
       "Time:                        15:52:33   Log-Likelihood:                 151.58\n",
       "No. Observations:                 100   AIC:                            -299.2\n",
       "Df Residuals:                      98   BIC:                            -293.9\n",
       "Df Model:                           1                                         \n",
       "Covariance Type:            nonrobust                                         \n",
       "==============================================================================\n",
       "                 coef    std err          t      P>|t|      [0.025      0.975]\n",
       "------------------------------------------------------------------------------\n",
       "Intercept     -1.0010      0.005   -186.443      0.000      -1.012      -0.990\n",
       "X              0.4972      0.005     93.071      0.000       0.487       0.508\n",
       "==============================================================================\n",
       "Omnibus:                        0.426   Durbin-Watson:                   1.977\n",
       "Prob(Omnibus):                  0.808   Jarque-Bera (JB):                0.121\n",
       "Skew:                          -0.045   Prob(JB):                        0.941\n",
       "Kurtosis:                       3.145   Cond. No.                         1.01\n",
       "==============================================================================\n",
       "\n",
       "Warnings:\n",
       "[1] Standard Errors assume that the covariance matrix of the errors is correctly specified.\n",
       "\"\"\""
      ]
     },
     "execution_count": 30,
     "metadata": {},
     "output_type": "execute_result"
    }
   ],
   "source": [
    "# e)\n",
    "df_h = pd.DataFrame({'X': X_h, 'Y': Y_h})\n",
    "lm_h = smf.gls(formula='Y ~ X', data=df_h).fit()\n",
    "lm_h.summary()"
   ]
  },
  {
   "cell_type": "code",
   "execution_count": 26,
   "metadata": {},
   "outputs": [
    {
     "data": {
      "text/plain": [
       "0.0028822241872296854"
      ]
     },
     "execution_count": 26,
     "metadata": {},
     "output_type": "execute_result"
    }
   ],
   "source": [
    "# Mean squared error of residuals\n",
    "lm_h.mse_resid"
   ]
  },
  {
   "cell_type": "markdown",
   "metadata": {},
   "source": [
    "We can observe very good results ... which is not surprising since we have an almost perfect linear relationship between $Y_h$ and $X_h$."
   ]
  },
  {
   "cell_type": "code",
   "execution_count": 27,
   "metadata": {},
   "outputs": [
    {
     "data": {
      "image/png": "[encoded data removed]",
      "text/plain": [
       "<Figure size 360x360 with 1 Axes>"
      ]
     },
     "metadata": {},
     "output_type": "display_data"
    }
   ],
   "source": [
    "# f)\n",
    "# Scatter Plot \n",
    "scatter = df_h.plot(x='X', y='Y', kind='scatter', figsize=(5,5))\n",
    "# Regression line\n",
    "line = abline_plot(model_results=lm_h, ax=scatter, color='red');\n",
    "# Add Legend\n",
    "red_patch = mpatches.Patch(color='red', label='regression line')\n",
    "blue_patch = mpatches.Patch(color='steelblue', label='population line')\n",
    "#plt.legend(handles=[red_patch, blue_patch]);\n",
    "# Population line (real parameters)\n",
    "plt.plot(X, (-1 + 0.5*X), linestyle='dashed', color='steelblue');"
   ]
  },
  {
   "cell_type": "markdown",
   "metadata": {},
   "source": [
    "Almost identical... (perfect fit)"
   ]
  },
  {
   "cell_type": "markdown",
   "metadata": {},
   "source": [
    "## Task i)\n",
    "\n",
    "What are the confidence intervals for $β_0$ and $β_1$ based on the original data set (used in e) and the less noisy data set (created in h)? Comment on your results."
   ]
  },
  {
   "cell_type": "code",
   "execution_count": 28,
   "metadata": {
    "scrolled": true
   },
   "outputs": [
    {
     "name": "stdout",
     "output_type": "stream",
     "text": [
      "...................................\n",
      "95% CI noisier data (SD = 0.25):\n"
     ]
    },
    {
     "data": {
      "text/html": [
       "<div>\n",
       "<style scoped>\n",
       "    .dataframe tbody tr th:only-of-type {\n",
       "        vertical-align: middle;\n",
       "    }\n",
       "\n",
       "    .dataframe tbody tr th {\n",
       "        vertical-align: top;\n",
       "    }\n",
       "\n",
       "    .dataframe thead th {\n",
       "        text-align: right;\n",
       "    }\n",
       "</style>\n",
       "<table border=\"1\" class=\"dataframe\">\n",
       "  <thead>\n",
       "    <tr style=\"text-align: right;\">\n",
       "      <th></th>\n",
       "      <th>0</th>\n",
       "      <th>1</th>\n",
       "    </tr>\n",
       "  </thead>\n",
       "  <tbody>\n",
       "    <tr>\n",
       "      <th>Intercept</th>\n",
       "      <td>-1.009870</td>\n",
       "      <td>-0.916623</td>\n",
       "    </tr>\n",
       "    <tr>\n",
       "      <th>X</th>\n",
       "      <td>0.471307</td>\n",
       "      <td>0.576407</td>\n",
       "    </tr>\n",
       "  </tbody>\n",
       "</table>\n",
       "</div>"
      ],
      "text/plain": [
       "                  0         1\n",
       "Intercept -1.009870 -0.916623\n",
       "X          0.471307  0.576407"
      ]
     },
     "metadata": {},
     "output_type": "display_data"
    },
    {
     "name": "stdout",
     "output_type": "stream",
     "text": [
      "...................................\n",
      "95% CI less noisy data (SD = 0.05):\n"
     ]
    },
    {
     "data": {
      "text/html": [
       "<div>\n",
       "<style scoped>\n",
       "    .dataframe tbody tr th:only-of-type {\n",
       "        vertical-align: middle;\n",
       "    }\n",
       "\n",
       "    .dataframe tbody tr th {\n",
       "        vertical-align: top;\n",
       "    }\n",
       "\n",
       "    .dataframe thead th {\n",
       "        text-align: right;\n",
       "    }\n",
       "</style>\n",
       "<table border=\"1\" class=\"dataframe\">\n",
       "  <thead>\n",
       "    <tr style=\"text-align: right;\">\n",
       "      <th></th>\n",
       "      <th>0</th>\n",
       "      <th>1</th>\n",
       "    </tr>\n",
       "  </thead>\n",
       "  <tbody>\n",
       "    <tr>\n",
       "      <th>Intercept</th>\n",
       "      <td>-1.011645</td>\n",
       "      <td>-0.990336</td>\n",
       "    </tr>\n",
       "    <tr>\n",
       "      <th>X</th>\n",
       "      <td>0.486611</td>\n",
       "      <td>0.507814</td>\n",
       "    </tr>\n",
       "  </tbody>\n",
       "</table>\n",
       "</div>"
      ],
      "text/plain": [
       "                  0         1\n",
       "Intercept -1.011645 -0.990336\n",
       "X          0.486611  0.507814"
      ]
     },
     "execution_count": 28,
     "metadata": {},
     "output_type": "execute_result"
    }
   ],
   "source": [
    "print('.'*35)\n",
    "print ('95% CI noisier data (SD = 0.25):')\n",
    "display(lm.conf_int())\n",
    "print('.'*35)\n",
    "print ('95% CI less noisy data (SD = 0.05):')\n",
    "lm_h.conf_int()"
   ]
  },
  {
   "cell_type": "markdown",
   "metadata": {},
   "source": [
    "For the less noisy data set, the confidence intervals for both coefficients are more narrow."
   ]
  },
  {
   "cell_type": "markdown",
   "metadata": {},
   "source": [
    "## Task j)\n",
    "\n",
    "What are the standard errors for $β_0$ and $β_1$ based on the original data set (used in e) and the less noisy data set (created in h)? Comment on your results."
   ]
  },
  {
   "cell_type": "code",
   "execution_count": 29,
   "metadata": {},
   "outputs": [
    {
     "name": "stdout",
     "output_type": "stream",
     "text": [
      "...................................\n",
      "SE for noisier data (SD = 0.25):\n"
     ]
    },
    {
     "data": {
      "text/plain": [
       "Intercept    0.023494\n",
       "X            0.026481\n",
       "dtype: float64"
      ]
     },
     "metadata": {},
     "output_type": "display_data"
    },
    {
     "name": "stdout",
     "output_type": "stream",
     "text": [
      "...................................\n",
      "SE for less noisy data (SD = 0.05):\n"
     ]
    },
    {
     "data": {
      "text/plain": [
       "Intercept    0.005369\n",
       "X            0.005342\n",
       "dtype: float64"
      ]
     },
     "execution_count": 29,
     "metadata": {},
     "output_type": "execute_result"
    }
   ],
   "source": [
    "# standard error (se) of paramters (b)\n",
    "print('.'*35)\n",
    "print ('SE for noisier data (SD = 0.25):')\n",
    "display(lm.bse)\n",
    "print('.'*35)\n",
    "print ('SE for less noisy data (SD = 0.05):')\n",
    "lm_h.bse"
   ]
  },
  {
   "cell_type": "markdown",
   "metadata": {},
   "source": [
    "The very small standard errors in the less noisy data set indicate that most sample means are similar to the population mean (i.e., our sample parameters accurately reflect the population mean)."
   ]
  }
 ],
 "metadata": {
  "kernelspec": {
   "display_name": "Python 3",
   "language": "python",
   "name": "python3"
  },
  "language_info": {
   "codemirror_mode": {
    "name": "ipython",
    "version": 3
   },
   "file_extension": ".py",
   "mimetype": "text/x-python",
   "name": "python",
   "nbconvert_exporter": "python",
   "pygments_lexer": "ipython3",
   "version": "3.6.8"
  },
  "toc": {
   "base_numbering": 1,
   "nav_menu": {},
   "number_sections": true,
   "sideBar": true,
   "skip_h1_title": true,
   "title_cell": "Table of Contents",
   "title_sidebar": "Contents",
   "toc_cell": true,
   "toc_position": {},
   "toc_section_display": true,
   "toc_window_display": false
  },
  "varInspector": {
   "cols": {
    "lenName": 16,
    "lenType": 16,
    "lenVar": 40
   },
   "kernels_config": {
    "python": {
     "delete_cmd_postfix": "",
     "delete_cmd_prefix": "del ",
     "library": "var_list.py",
     "varRefreshCmd": "print(var_dic_list())"
    },
    "r": {
     "delete_cmd_postfix": ") ",
     "delete_cmd_prefix": "rm(",
     "library": "var_list.r",
     "varRefreshCmd": "cat(var_dic_list()) "
    }
   },
   "types_to_exclude": [
    "module",
    "function",
    "builtin_function_or_method",
    "instance",
    "_Feature"
   ],
   "window_display": false
  }
 },
 "nbformat": 4,
 "nbformat_minor": 2
}
