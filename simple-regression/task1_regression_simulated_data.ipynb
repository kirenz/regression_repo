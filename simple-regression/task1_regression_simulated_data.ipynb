{
 "cells": [
  {
   "cell_type": "markdown",
   "metadata": {},
   "source": [
    "**Problem Set Description**<br/>\n",
    "Prof. Dr. Jan Kirenz <br/>\n",
    "Hochschule der Medien Stuttgart"
   ]
  },
  {
   "cell_type": "markdown",
   "metadata": {},
   "source": [
    "Name: \n",
    "    \n",
    "Surname: "
   ]
  },
  {
   "cell_type": "code",
   "execution_count": 1,
   "metadata": {},
   "outputs": [],
   "source": [
    "# Load modules"
   ]
  },
  {
   "cell_type": "markdown",
   "metadata": {},
   "source": [
    "# Task 1: Linear regression with simulated data\n",
    "\n",
    "In this application you will create some simulated data and fit simple linear regression models to it (see Application 2 for code hints). \n",
    "\n",
    "IMPORTANT: Make sure to use **np.random.seed(1)** prior to starting part (a) to ensure consistent results.\n",
    "\n",
    "\n",
    "(a) Create a vector, **X** , containing 100 observations drawn from a N (0, 1) distribution. This represents a feature, X .\n",
    "\n",
    "(b) Create a error vector, **err** (error), containing 100 observations drawn from a N(0, 0.25) distribution i.e. a normal distribution with mean zero and standard deviation 0.25.\n",
    "\n",
    "(c) Using X and err, generate a vector **Y** according to the model: **Y = −1 + 0 .5 X + err** (model 1). This is the \"true\" relationship between Y and X, also called a **population model** with known parameters. Questions: what is the length of the vector Y? What are the values of $β_0$ and $β_1$ in this linear (population) model?\n",
    "\n",
    "(d) Create a scatterplot displaying the relationship between X and Y. Comment on what you observe.\n",
    "\n",
    "(e) Now fit a least squares linear model (this is our model 2) to predict Y using X (which will yield $\\hat{Y}$). Comment on the model obtained (use .summary() and the mean squared error of the residuals). How do $\\hat{β_0}$ and $\\hat{β_1}$ of model 2 compare to $β_0$ and $β_1$ of the (real) population model (i.e. model 1)?\n",
    "\n",
    "(f) Display the least squares regression line on the scatterplot obtained in (d) in the color red. Furthermore, draw the population regression line (model 1) on the plot in blue color. Add a legend.\n",
    "\n",
    "(g) Now fit a polynomial regression model that predicts Y using X and $X^2$. Is there evidence that the quadratic term improves the model fit? Explain your answer.\n",
    "\n",
    "(h) Repeat (a)–(f) after modifying the data generation process in such a way that there is **less noise** (standard deviation is smaller) in the data. The model 1 should remain the same. You can do this by decreasing the standard deviation of the normal distribution used to generate the **err** (error) term in (b) (use sd = 0.05). Describe your results.\n",
    "\n",
    "(i) What are the confidence intervals for $β_0$ and $β_1$ based on the original data set (used in e) and the less noisy data set (created in h)? Comment on your results.\n",
    "\n",
    "(j) What are the standard errors for $β_0$ and $β_1$ based on the original data set (used in e) and the less noisy data set (created in h)? Comment on your results.\n",
    "\n",
    "---\n",
    "\n",
    "*Sources*\n",
    "\n",
    "*James, G., Witten, D., Hastie, T., & Tibshirani, R. (2013). An introduction to statistical learning. New York: Springer.*\n",
    "\n",
    "---"
   ]
  },
  {
   "cell_type": "code",
   "execution_count": null,
   "metadata": {},
   "outputs": [],
   "source": []
  },
  {
   "cell_type": "markdown",
   "metadata": {},
   "source": [
    "## 1 Generate data\n",
    "\n",
    "\n",
    "### Set seed\n",
    "\n",
    "We use it to generate a sequence of random numbers. The seed enables us to use the same random numbers multiple times."
   ]
  },
  {
   "cell_type": "code",
   "execution_count": 2,
   "metadata": {},
   "outputs": [],
   "source": [
    "# Set seed\n"
   ]
  },
  {
   "cell_type": "markdown",
   "metadata": {},
   "source": [
    "### Task a)\n",
    "\n",
    "Create a vector, **X**, containing 100 observations drawn from a N (0, 1) distribution. This represents a feature, X "
   ]
  },
  {
   "cell_type": "code",
   "execution_count": 3,
   "metadata": {},
   "outputs": [],
   "source": [
    "# Normal distributed values, with mean = 0 and sd = 1 (using Numpy)\n"
   ]
  },
  {
   "cell_type": "markdown",
   "metadata": {},
   "source": [
    "### Task b)\n",
    "\n",
    "Create a error vector, **err** (error), containing 100 observations drawn from a N(0, 0.25) distribution i.e. a normal distribution with mean zero and standard deviation 0.25."
   ]
  },
  {
   "cell_type": "code",
   "execution_count": 4,
   "metadata": {},
   "outputs": [],
   "source": [
    "# Normal distributed values, with mean = 0 and sd = 0.25\n"
   ]
  },
  {
   "cell_type": "markdown",
   "metadata": {},
   "source": [
    "## Task 4 c)\n",
    "\n",
    "Using X and err, generate a vector **Y** according to the model: **Y = −1 + 0 .5 X + err** (model 1). This is the \"true\" relationship between Y and X, also called a **population model** with known parameters. Questions: what is the length of the vector Y? What are the values of $β_0$ and $β_1$ in this linear (population) model?"
   ]
  },
  {
   "cell_type": "code",
   "execution_count": 5,
   "metadata": {},
   "outputs": [],
   "source": [
    "# Population model\n"
   ]
  },
  {
   "cell_type": "code",
   "execution_count": 5,
   "metadata": {},
   "outputs": [],
   "source": [
    "# length of vector Y? \n"
   ]
  },
  {
   "cell_type": "markdown",
   "metadata": {},
   "source": [
    "## Task d)\n",
    "\n",
    "Create a scatterplot displaying the relationship between X and Y. Comment on what you observe."
   ]
  },
  {
   "cell_type": "code",
   "execution_count": 4,
   "metadata": {},
   "outputs": [],
   "source": [
    "# Scatterplot\n"
   ]
  },
  {
   "cell_type": "markdown",
   "metadata": {},
   "source": [
    "Positive linear relationship between x and y with variance in the data (... as expected since we created this model...)"
   ]
  },
  {
   "cell_type": "markdown",
   "metadata": {},
   "source": [
    "## Task e)\n",
    "\n",
    "Now fit a least squares linear model (this is our model 2) to predict Y using X (which will yield $\\hat{Y}$). Comment on the model obtained (use .summary() and the mean squared error of the residuals. \n",
    "\n",
    "How do $\\hat{β_0}$ and $\\hat{β_1}$ of model 2 compare to $β_0$ and $β_1$ of the (real) population model (i.e. model 1)?"
   ]
  },
  {
   "cell_type": "code",
   "execution_count": 1,
   "metadata": {
    "scrolled": true
   },
   "outputs": [],
   "source": [
    "# Convert to DataFrame\n",
    "\n",
    "# Fit Model\n",
    "\n",
    "# Print summary\n"
   ]
  },
  {
   "cell_type": "code",
   "execution_count": 3,
   "metadata": {},
   "outputs": [],
   "source": [
    "# Mean squared error of residuals\n"
   ]
  },
  {
   "cell_type": "markdown",
   "metadata": {},
   "source": [
    "The linear regression fits a model which is almost true to the values of the coefficients of the population model (as we constructed it). The predictor x is highly statistically significant and we can observe a large F-statistic with a near-zero p-value so the null hypothesis can be rejected. Our model explains around 78% of the variation in the data."
   ]
  },
  {
   "cell_type": "markdown",
   "metadata": {},
   "source": [
    "## Task f)\n",
    "\n",
    "Display the least squares regression line on the scatterplot obtained in (d) in the color red. Furthermore, draw the population regression line (model 1) on the plot in blue color. Add a legend."
   ]
  },
  {
   "cell_type": "code",
   "execution_count": 2,
   "metadata": {},
   "outputs": [],
   "source": [
    "# Scatter Plot \n",
    "\n",
    "# Regression line\n",
    "\n",
    "# Add Legend\n",
    "\n",
    "# Population line (real parameters)\n"
   ]
  },
  {
   "cell_type": "code",
   "execution_count": 6,
   "metadata": {
    "scrolled": true
   },
   "outputs": [],
   "source": [
    "# Regression line with seaborne \n",
    "\n"
   ]
  },
  {
   "cell_type": "markdown",
   "metadata": {},
   "source": [
    "### Task g) \n",
    "\n",
    "Now fit a polynomial regression model that predicts Y using X and $X^2$. Is there evidence that the quadratic term improves the model fit? Explain your answer."
   ]
  },
  {
   "cell_type": "code",
   "execution_count": 7,
   "metadata": {
    "scrolled": true
   },
   "outputs": [],
   "source": [
    "# Fit Model\n"
   ]
  },
  {
   "cell_type": "code",
   "execution_count": 8,
   "metadata": {},
   "outputs": [],
   "source": [
    "# Mean squared error of residuals\n"
   ]
  },
  {
   "cell_type": "markdown",
   "metadata": {},
   "source": [
    "## Task h)\n",
    "\n",
    "Repeat (a)–(f) after modifying the data generation process in such a way that there is **less noise** in the data. The model 1 should remain the same. \n",
    "\n",
    "You can do this by decreasing the standard deviation of the normal distribution used to generate the **err** (error) term in (b) (use sd = 0.05). Describe your results."
   ]
  },
  {
   "cell_type": "code",
   "execution_count": 9,
   "metadata": {},
   "outputs": [],
   "source": [
    "# a) Normal distributed values, with mean = 0 and sd = 1\n",
    "\n",
    "# b) with lower standard deviation \n",
    "\n",
    "# c) Model\n",
    "\n",
    "# d) Scatterplot\n"
   ]
  },
  {
   "cell_type": "code",
   "execution_count": 10,
   "metadata": {},
   "outputs": [],
   "source": [
    "# e)\n"
   ]
  },
  {
   "cell_type": "code",
   "execution_count": 11,
   "metadata": {},
   "outputs": [],
   "source": [
    "# Mean squared error of residuals\n"
   ]
  },
  {
   "cell_type": "code",
   "execution_count": 12,
   "metadata": {},
   "outputs": [],
   "source": [
    "# f)\n",
    "# Scatter Plot \n",
    "\n",
    "# Regression line\n",
    "\n",
    "# Add Legend\n",
    "\n",
    "#plt.legend(handles=[red_patch, blue_patch]);\n",
    "# Population line (real parameters)\n"
   ]
  },
  {
   "cell_type": "markdown",
   "metadata": {},
   "source": [
    "## Task i)\n",
    "\n",
    "What are the confidence intervals for $β_0$ and $β_1$ based on the original data set (used in e) and the less noisy data set (created in h)? Comment on your results."
   ]
  },
  {
   "cell_type": "code",
   "execution_count": 13,
   "metadata": {
    "scrolled": true
   },
   "outputs": [],
   "source": [
    "# CI"
   ]
  },
  {
   "cell_type": "markdown",
   "metadata": {},
   "source": [
    "## Task j)\n",
    "\n",
    "What are the standard errors for $β_0$ and $β_1$ based on the original data set (used in e) and the less noisy data set (created in h)? Comment on your results."
   ]
  },
  {
   "cell_type": "code",
   "execution_count": 14,
   "metadata": {},
   "outputs": [],
   "source": [
    "# standard error (se) of paramters (b)\n"
   ]
  }
 ],
 "metadata": {
  "kernelspec": {
   "display_name": "Python 3",
   "language": "python",
   "name": "python3"
  },
  "language_info": {
   "codemirror_mode": {
    "name": "ipython",
    "version": 3
   },
   "file_extension": ".py",
   "mimetype": "text/x-python",
   "name": "python",
   "nbconvert_exporter": "python",
   "pygments_lexer": "ipython3",
   "version": "3.6.5"
  }
 },
 "nbformat": 4,
 "nbformat_minor": 2
}
