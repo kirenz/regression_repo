{
 "cells": [
  {
   "cell_type": "markdown",
   "metadata": {},
   "source": [
    "**Regression with Simulated Data**<br/>\n",
    "\n",
    "Prof. Dr. Jan Kirenz <br/>\n",
    "HdM Stuttgart"
   ]
  },
  {
   "cell_type": "code",
   "execution_count": 127,
   "metadata": {},
   "outputs": [],
   "source": [
    "%matplotlib inline\n",
    "\n",
    "# Python set up (load modules) \n",
    "import numpy as np\n",
    "import pandas as pd\n",
    "\n",
    "import statsmodels.formula.api as smf\n",
    "\n",
    "import plotly.express as px\n",
    "import seaborn as sns\n",
    "\n",
    "# seaborn settings\n",
    "custom_params = {\"axes.spines.right\": False, \"axes.spines.top\": False}\n",
    "sns.set_theme(style=\"ticks\", rc=custom_params, palette='winter')"
   ]
  },
  {
   "cell_type": "markdown",
   "metadata": {},
   "source": [
    "# Application 2: Linear regression with simulated data\n",
    "\n",
    "In this application you will create some simulated data and fit simple linear regression models to it. \n",
    "\n",
    "IMPORTANT: Make sure to use **set.seed(123)** prior to starting part (a) to ensure consistent results.\n",
    "\n",
    "\n",
    "Task (a) \n",
    "\n",
    "- Create a vector `X`, containing 100 observations drawn from a normal distribution with mean 0 and standard deviation 1. This represents our feature, X. \n",
    "- Furthermore, create a dependent variable `Y_perfect` as follows: `Y_perfect = −1 + 0.5 X`. This is also called a **population model** with known parameters since we \"know\" the true relationship between X and Y (which usually is not the case).  \n",
    "\n",
    "\n",
    "Task (b) \n",
    "\n",
    "- Create an error vector, `err` (error), containing 100 observations drawn from a N(0, 0.25) distribution i.e. a normal distribution with mean zero and standard deviation 0.25.\n",
    "\n",
    "Task (c)\n",
    "\n",
    "- Using `X` and `err`, generate a new vector `Y` according to the relationship: `Y = −1 + 0.5 X + err` (we call this model 1). \n",
    "- Questions: what is the length of the vector Y? What are the values of $β_0$ and $β_1$ in this linear relationship between Y and X?\n",
    "\n",
    "Task (d)\n",
    "\n",
    "- Use Pandas to create a DataFrame from `X`, `Y_perfect`, `err` and `Y` (call it `df`) \n",
    "- Make a **scatterplot** displaying the relationship between X and Y (with Seaborn and Plotly Express). \n",
    "- Comment on what you observe.\n",
    "\n",
    "Task (e)\n",
    "\n",
    "\n",
    "- Fit a **ordinary least squares linear model** (this is our model 2) to predict `Y` using `X` (which will yield $\\hat{Y}$). \n",
    "- Comment on the model obtained (use `summary()` and the mean squared error (MSE) of the residuals). \n",
    "- How do $\\hat{β_0}$ and $\\hat{β_1}$ of model 2 compare to $β_0$ and $β_1$ of model 1 in (c)?\n",
    "\n",
    "Task (f)\n",
    "\n",
    "- Display the OLS regression for X and Y in a scatterplot with the color red (use Plotly Express). \n",
    "\n",
    "Task (g)\n",
    "\n",
    "- Now fit a polynomial regression model that predicts Y using X and $X^2$. \n",
    "- Is there evidence that the quadratic term improves the model fit? \n",
    "- Explain your answer.\n",
    "\n",
    "Task (h)\n",
    "\n",
    "\n",
    "- Repeat (a)–(f) after modifying the data generation process in such a way that there is **less noise** in the data (only use Seaborn for your plots):\n",
    "    - You can do this by decreasing the standard deviation of the normal distribution used to generate the **err** (error) term in (b) \n",
    "    - Use sd = 0.05. \n",
    "- Describe your results.\n",
    "\n",
    "Task (i)\n",
    "\n",
    "\n",
    "-  What are the confidence intervals for $β_0$ and $β_1$ based on \n",
    "    - the original data set (used in e) and \n",
    "    - the less noisy data set (created in h)? \n",
    "- Comment on your results.\n",
    "\n",
    "Task (j)\n",
    "\n",
    "- What are the standard errors for $β_0$ and $β_1$ based on \n",
    "    - the original data set (used in e) and \n",
    "    - the less noisy data set (created in h)? \n",
    "- Comment on your results.\n",
    "\n",
    "\n",
    "*Source*\n",
    "\n",
    "*James, G., Witten, D., Hastie, T., & Tibshirani, R. (2021). An introduction to statistical learning. New York: Springer.*\n",
    "\n"
   ]
  },
  {
   "cell_type": "markdown",
   "metadata": {},
   "source": [
    "\n",
    "**Set seed**\n",
    "\n",
    "We use `np.random.seed()` to generate a sequence of random numbers. The seed enables us to use the same random numbers multiple times."
   ]
  },
  {
   "cell_type": "code",
   "execution_count": 128,
   "metadata": {},
   "outputs": [],
   "source": [
    "np.random.seed(123)"
   ]
  },
  {
   "cell_type": "markdown",
   "metadata": {},
   "source": [
    "## Task a)"
   ]
  },
  {
   "cell_type": "code",
   "execution_count": 129,
   "metadata": {},
   "outputs": [],
   "source": [
    "# Normal distributed values, with mean = 0 and sd = 1 (using Numpy)\n",
    "X = np.random.normal(0, 1, 100)"
   ]
  },
  {
   "cell_type": "code",
   "execution_count": 162,
   "metadata": {},
   "outputs": [],
   "source": [
    "# Generate Y_perfect\n",
    "Y_perfect = -1 + 0.5 * X"
   ]
  },
  {
   "cell_type": "markdown",
   "metadata": {},
   "source": [
    "## Task b)"
   ]
  },
  {
   "cell_type": "code",
   "execution_count": 160,
   "metadata": {},
   "outputs": [],
   "source": [
    "# Normal distributed values, with mean = 0 and sd = 0.25\n",
    "err = np.random.normal(0, 0.25, 100)"
   ]
  },
  {
   "cell_type": "markdown",
   "metadata": {},
   "source": [
    "## Task c)"
   ]
  },
  {
   "cell_type": "code",
   "execution_count": 131,
   "metadata": {},
   "outputs": [],
   "source": [
    "# Model 1\n",
    "Y = -1 + 0.5 * X + err"
   ]
  },
  {
   "cell_type": "code",
   "execution_count": 132,
   "metadata": {},
   "outputs": [
    {
     "data": {
      "text/plain": [
       "100"
      ]
     },
     "execution_count": 132,
     "metadata": {},
     "output_type": "execute_result"
    }
   ],
   "source": [
    "# length of vector Y? \n",
    "Y.size"
   ]
  },
  {
   "cell_type": "markdown",
   "metadata": {},
   "source": [
    "Values of our parameters $\\beta_0$ and $\\beta_1$ in the linear model:\n",
    "\n",
    "- $\\beta_0 = -1$ (intercept)\n",
    "- $\\beta_1 = 0.5$ (slope)"
   ]
  },
  {
   "cell_type": "markdown",
   "metadata": {},
   "source": [
    "## Task d)"
   ]
  },
  {
   "cell_type": "code",
   "execution_count": 163,
   "metadata": {},
   "outputs": [],
   "source": [
    "df = pd.DataFrame({'X': X, 'Y': Y, 'Y_perfect': Y_perfect, 'err': err})"
   ]
  },
  {
   "cell_type": "code",
   "execution_count": 164,
   "metadata": {},
   "outputs": [
    {
     "data": {
      "image/png": "[encoded data removed]",
      "text/plain": [
       "<Figure size 432x288 with 1 Axes>"
      ]
     },
     "metadata": {},
     "output_type": "display_data"
    }
   ],
   "source": [
    "# Seaborn\n",
    "sns.scatterplot(x='X', y='Y', data=df);"
   ]
  },
  {
   "cell_type": "code",
   "execution_count": 135,
   "metadata": {},
   "outputs": [
    {
     "data": {
      "application/vnd.plotly.v1+json": {
       "config": {
        "plotlyServerURL": "https://plot.ly"
       },
       "data": [
        {
         "hovertemplate": "X=%{x}<br>Y=%{y}<extra></extra>",
         "legendgroup": "",
         "marker": {
          "color": "#636efa",
          "symbol": "circle"
         },
         "mode": "markers",
         "name": "",
         "showlegend": false,
         "type": "scatter",
         "x": [
          -1.0856306033005612,
          0.9973454465835858,
          0.28297849805199204,
          -1.506294713918092,
          -0.5786002519685364,
          1.651436537097151,
          -2.426679243393074,
          -0.42891262885617726,
          1.265936258705534,
          -0.8667404022651017,
          -0.6788861516220543,
          -0.09470896893689112,
          1.4913896261242878,
          -0.638901996684651,
          -0.44398195964606546,
          -0.43435127561851733,
          2.2059300827254558,
          2.1867860889737867,
          1.004053897878877,
          0.386186399174856,
          0.7373685758962422,
          1.490732028150799,
          -0.9358338684023914,
          1.1758290447821034,
          -1.2538806677490124,
          -0.6377515024534103,
          0.9071051958003012,
          -1.428680700225969,
          -0.1400687201886661,
          -0.8617548958596855,
          -0.2556193705305969,
          -2.7985891054607244,
          -1.771533104509847,
          -0.6998772345979173,
          0.9274624317585825,
          -0.1736356827902158,
          0.0028459158968110196,
          0.688222711102285,
          -0.8795363430090519,
          0.283627323807291,
          -0.8053665180656158,
          -1.7276694941206072,
          -0.390899793755101,
          0.5738058624050577,
          0.3385890509998015,
          -0.01183049447881976,
          2.392365265937726,
          0.4129121603087788,
          0.9787360059373466,
          2.2381433384979528,
          -1.2940853231612488,
          -1.0387882102049535,
          1.7437122251229307,
          -0.7980627352410625,
          0.02968323030333022,
          1.0693159694243486,
          0.8907063912931708,
          1.7548861819811095,
          1.4956441370334692,
          1.0693926697057368,
          -0.7727087142471915,
          0.7948626677932181,
          0.31427199450686705,
          -1.326265459940456,
          1.4172990464768525,
          0.8072365345785665,
          0.045490080631097156,
          -0.2330920609844135,
          -1.198301144700787,
          0.19952407355863258,
          0.46843911944564426,
          -0.8311549842432792,
          1.1622040490995293,
          -1.0972030464830342,
          -2.1231003500424417,
          1.0397270908927005,
          -0.4033660381021075,
          -0.12602958531301514,
          -0.8375167228250533,
          -1.6059627607174027,
          1.2552373747242185,
          -0.6888689838469215,
          1.6609524881479396,
          0.8073081862107286,
          -0.31475814671745994,
          -1.0859024011268665,
          -0.732461986720457,
          -1.2125231310951696,
          2.0871133595881854,
          0.16444123022982496,
          1.1502055425466322,
          -1.2673520490102275,
          0.18103512959700388,
          1.1778619388085783,
          -0.3350107619330159,
          1.0311144589217422,
          -1.0845679120057665,
          -1.3634715446185843,
          0.37940061207813613,
          -0.3791764345725522
         ],
         "xaxis": "x",
         "y": [
          -1.3823016293323227,
          -0.9957992595883194,
          -0.6804445921063744,
          -1.1035713751417173,
          -1.2954566213421383,
          -0.16574619922396405,
          -2.1684522505368675,
          -1.6799502421260355,
          -0.2604952107246555,
          -1.834722637136542,
          -1.4463629753419782,
          -0.7366370970675112,
          -0.43810942596287517,
          -1.1941387509504755,
          -0.9688062163339402,
          -1.1474904237852588,
          -0.23977207616092405,
          0.010274225649039861,
          -0.008120215463489955,
          -1.3131682411619399,
          -0.7002622155184227,
          -0.3926610037966275,
          -1.437730093426911,
          -0.22503157331214071,
          -1.2247675918689929,
          -1.3864338492289947,
          -0.3433620696056442,
          -1.589405313896691,
          -0.9514475356263828,
          -1.571858430811461,
          -1.3771400524592736,
          -2.6743053308855362,
          -2.0748758546047044,
          -1.269516973332402,
          -0.3460314358386264,
          -1.0059506294308842,
          -1.1358158161005296,
          -0.20439611696573878,
          -1.060051765596641,
          -0.9466863662838978,
          -1.6085411105292242,
          -1.8312810085208113,
          -0.8786252356139622,
          -0.6299058244839418,
          -0.6915682982725881,
          -1.0589352778083163,
          0.31025035676942064,
          -0.40740780698157597,
          -0.5705491924007544,
          0.15489860237594452,
          -1.5835885424432177,
          -1.4484627661597174,
          -0.4811161064563415,
          -1.868248531589005,
          -1.2400721525787946,
          -0.4233564414374087,
          -0.4161827628526118,
          -0.2552255489528513,
          0.0921364392335613,
          -0.5010976587286784,
          -1.3812753575649395,
          -0.6510596337415565,
          -0.8093573045599002,
          -1.487014211459327,
          -0.12493711728349097,
          -0.8209874678631144,
          -0.5963390155648196,
          -1.3903026448489362,
          -1.5793438188277404,
          -0.9688371066012719,
          -1.0280283596067996,
          -1.4343576391150974,
          -0.6041014187733349,
          -1.530374712422504,
          -1.9607786847163793,
          -0.11215411231033184,
          -1.1248369643942,
          -1.2158211277327138,
          -1.5166633140924268,
          -1.7679868538300605,
          -0.34901610527235294,
          -0.9795371748663555,
          0.17931447651320848,
          -0.6860798884552011,
          -1.2945396054052796,
          -2.182214851580398,
          -1.5034610966907835,
          -1.8507759920686557,
          -0.045149434729611956,
          -0.8198833242975597,
          -0.38059914642693693,
          -1.6411680262669994,
          -0.8595869074293696,
          -0.4425984739034588,
          -1.1182506478306389,
          -1.292206522518957,
          -1.6096073284405719,
          -1.709448452572544,
          -0.8956151230125784,
          -1.2440747828120116
         ],
         "yaxis": "y"
        }
       ],
       "layout": {
        "legend": {
         "tracegroupgap": 0
        },
        "margin": {
         "t": 60
        },
        "template": {
         "data": {
          "bar": [
           {
            "error_x": {
             "color": "#2a3f5f"
            },
            "error_y": {
             "color": "#2a3f5f"
            },
            "marker": {
             "line": {
              "color": "#E5ECF6",
              "width": 0.5
             }
            },
            "type": "bar"
           }
          ],
          "barpolar": [
           {
            "marker": {
             "line": {
              "color": "#E5ECF6",
              "width": 0.5
             }
            },
            "type": "barpolar"
           }
          ],
          "carpet": [
           {
            "aaxis": {
             "endlinecolor": "#2a3f5f",
             "gridcolor": "white",
             "linecolor": "white",
             "minorgridcolor": "white",
             "startlinecolor": "#2a3f5f"
            },
            "baxis": {
             "endlinecolor": "#2a3f5f",
             "gridcolor": "white",
             "linecolor": "white",
             "minorgridcolor": "white",
             "startlinecolor": "#2a3f5f"
            },
            "type": "carpet"
           }
          ],
          "choropleth": [
           {
            "colorbar": {
             "outlinewidth": 0,
             "ticks": ""
            },
            "type": "choropleth"
           }
          ],
          "contour": [
           {
            "colorbar": {
             "outlinewidth": 0,
             "ticks": ""
            },
            "colorscale": [
             [
              0,
              "#0d0887"
             ],
             [
              0.1111111111111111,
              "#46039f"
             ],
             [
              0.2222222222222222,
              "#7201a8"
             ],
             [
              0.3333333333333333,
              "#9c179e"
             ],
             [
              0.4444444444444444,
              "#bd3786"
             ],
             [
              0.5555555555555556,
              "#d8576b"
             ],
             [
              0.6666666666666666,
              "#ed7953"
             ],
             [
              0.7777777777777778,
              "#fb9f3a"
             ],
             [
              0.8888888888888888,
              "#fdca26"
             ],
             [
              1,
              "#f0f921"
             ]
            ],
            "type": "contour"
           }
          ],
          "contourcarpet": [
           {
            "colorbar": {
             "outlinewidth": 0,
             "ticks": ""
            },
            "type": "contourcarpet"
           }
          ],
          "heatmap": [
           {
            "colorbar": {
             "outlinewidth": 0,
             "ticks": ""
            },
            "colorscale": [
             [
              0,
              "#0d0887"
             ],
             [
              0.1111111111111111,
              "#46039f"
             ],
             [
              0.2222222222222222,
              "#7201a8"
             ],
             [
              0.3333333333333333,
              "#9c179e"
             ],
             [
              0.4444444444444444,
              "#bd3786"
             ],
             [
              0.5555555555555556,
              "#d8576b"
             ],
             [
              0.6666666666666666,
              "#ed7953"
             ],
             [
              0.7777777777777778,
              "#fb9f3a"
             ],
             [
              0.8888888888888888,
              "#fdca26"
             ],
             [
              1,
              "#f0f921"
             ]
            ],
            "type": "heatmap"
           }
          ],
          "heatmapgl": [
           {
            "colorbar": {
             "outlinewidth": 0,
             "ticks": ""
            },
            "colorscale": [
             [
              0,
              "#0d0887"
             ],
             [
              0.1111111111111111,
              "#46039f"
             ],
             [
              0.2222222222222222,
              "#7201a8"
             ],
             [
              0.3333333333333333,
              "#9c179e"
             ],
             [
              0.4444444444444444,
              "#bd3786"
             ],
             [
              0.5555555555555556,
              "#d8576b"
             ],
             [
              0.6666666666666666,
              "#ed7953"
             ],
             [
              0.7777777777777778,
              "#fb9f3a"
             ],
             [
              0.8888888888888888,
              "#fdca26"
             ],
             [
              1,
              "#f0f921"
             ]
            ],
            "type": "heatmapgl"
           }
          ],
          "histogram": [
           {
            "marker": {
             "colorbar": {
              "outlinewidth": 0,
              "ticks": ""
             }
            },
            "type": "histogram"
           }
          ],
          "histogram2d": [
           {
            "colorbar": {
             "outlinewidth": 0,
             "ticks": ""
            },
            "colorscale": [
             [
              0,
              "#0d0887"
             ],
             [
              0.1111111111111111,
              "#46039f"
             ],
             [
              0.2222222222222222,
              "#7201a8"
             ],
             [
              0.3333333333333333,
              "#9c179e"
             ],
             [
              0.4444444444444444,
              "#bd3786"
             ],
             [
              0.5555555555555556,
              "#d8576b"
             ],
             [
              0.6666666666666666,
              "#ed7953"
             ],
             [
              0.7777777777777778,
              "#fb9f3a"
             ],
             [
              0.8888888888888888,
              "#fdca26"
             ],
             [
              1,
              "#f0f921"
             ]
            ],
            "type": "histogram2d"
           }
          ],
          "histogram2dcontour": [
           {
            "colorbar": {
             "outlinewidth": 0,
             "ticks": ""
            },
            "colorscale": [
             [
              0,
              "#0d0887"
             ],
             [
              0.1111111111111111,
              "#46039f"
             ],
             [
              0.2222222222222222,
              "#7201a8"
             ],
             [
              0.3333333333333333,
              "#9c179e"
             ],
             [
              0.4444444444444444,
              "#bd3786"
             ],
             [
              0.5555555555555556,
              "#d8576b"
             ],
             [
              0.6666666666666666,
              "#ed7953"
             ],
             [
              0.7777777777777778,
              "#fb9f3a"
             ],
             [
              0.8888888888888888,
              "#fdca26"
             ],
             [
              1,
              "#f0f921"
             ]
            ],
            "type": "histogram2dcontour"
           }
          ],
          "mesh3d": [
           {
            "colorbar": {
             "outlinewidth": 0,
             "ticks": ""
            },
            "type": "mesh3d"
           }
          ],
          "parcoords": [
           {
            "line": {
             "colorbar": {
              "outlinewidth": 0,
              "ticks": ""
             }
            },
            "type": "parcoords"
           }
          ],
          "pie": [
           {
            "automargin": true,
            "type": "pie"
           }
          ],
          "scatter": [
           {
            "marker": {
             "colorbar": {
              "outlinewidth": 0,
              "ticks": ""
             }
            },
            "type": "scatter"
           }
          ],
          "scatter3d": [
           {
            "line": {
             "colorbar": {
              "outlinewidth": 0,
              "ticks": ""
             }
            },
            "marker": {
             "colorbar": {
              "outlinewidth": 0,
              "ticks": ""
             }
            },
            "type": "scatter3d"
           }
          ],
          "scattercarpet": [
           {
            "marker": {
             "colorbar": {
              "outlinewidth": 0,
              "ticks": ""
             }
            },
            "type": "scattercarpet"
           }
          ],
          "scattergeo": [
           {
            "marker": {
             "colorbar": {
              "outlinewidth": 0,
              "ticks": ""
             }
            },
            "type": "scattergeo"
           }
          ],
          "scattergl": [
           {
            "marker": {
             "colorbar": {
              "outlinewidth": 0,
              "ticks": ""
             }
            },
            "type": "scattergl"
           }
          ],
          "scattermapbox": [
           {
            "marker": {
             "colorbar": {
              "outlinewidth": 0,
              "ticks": ""
             }
            },
            "type": "scattermapbox"
           }
          ],
          "scatterpolar": [
           {
            "marker": {
             "colorbar": {
              "outlinewidth": 0,
              "ticks": ""
             }
            },
            "type": "scatterpolar"
           }
          ],
          "scatterpolargl": [
           {
            "marker": {
             "colorbar": {
              "outlinewidth": 0,
              "ticks": ""
             }
            },
            "type": "scatterpolargl"
           }
          ],
          "scatterternary": [
           {
            "marker": {
             "colorbar": {
              "outlinewidth": 0,
              "ticks": ""
             }
            },
            "type": "scatterternary"
           }
          ],
          "surface": [
           {
            "colorbar": {
             "outlinewidth": 0,
             "ticks": ""
            },
            "colorscale": [
             [
              0,
              "#0d0887"
             ],
             [
              0.1111111111111111,
              "#46039f"
             ],
             [
              0.2222222222222222,
              "#7201a8"
             ],
             [
              0.3333333333333333,
              "#9c179e"
             ],
             [
              0.4444444444444444,
              "#bd3786"
             ],
             [
              0.5555555555555556,
              "#d8576b"
             ],
             [
              0.6666666666666666,
              "#ed7953"
             ],
             [
              0.7777777777777778,
              "#fb9f3a"
             ],
             [
              0.8888888888888888,
              "#fdca26"
             ],
             [
              1,
              "#f0f921"
             ]
            ],
            "type": "surface"
           }
          ],
          "table": [
           {
            "cells": {
             "fill": {
              "color": "#EBF0F8"
             },
             "line": {
              "color": "white"
             }
            },
            "header": {
             "fill": {
              "color": "#C8D4E3"
             },
             "line": {
              "color": "white"
             }
            },
            "type": "table"
           }
          ]
         },
         "layout": {
          "annotationdefaults": {
           "arrowcolor": "#2a3f5f",
           "arrowhead": 0,
           "arrowwidth": 1
          },
          "coloraxis": {
           "colorbar": {
            "outlinewidth": 0,
            "ticks": ""
           }
          },
          "colorscale": {
           "diverging": [
            [
             0,
             "#8e0152"
            ],
            [
             0.1,
             "#c51b7d"
            ],
            [
             0.2,
             "#de77ae"
            ],
            [
             0.3,
             "#f1b6da"
            ],
            [
             0.4,
             "#fde0ef"
            ],
            [
             0.5,
             "#f7f7f7"
            ],
            [
             0.6,
             "#e6f5d0"
            ],
            [
             0.7,
             "#b8e186"
            ],
            [
             0.8,
             "#7fbc41"
            ],
            [
             0.9,
             "#4d9221"
            ],
            [
             1,
             "#276419"
            ]
           ],
           "sequential": [
            [
             0,
             "#0d0887"
            ],
            [
             0.1111111111111111,
             "#46039f"
            ],
            [
             0.2222222222222222,
             "#7201a8"
            ],
            [
             0.3333333333333333,
             "#9c179e"
            ],
            [
             0.4444444444444444,
             "#bd3786"
            ],
            [
             0.5555555555555556,
             "#d8576b"
            ],
            [
             0.6666666666666666,
             "#ed7953"
            ],
            [
             0.7777777777777778,
             "#fb9f3a"
            ],
            [
             0.8888888888888888,
             "#fdca26"
            ],
            [
             1,
             "#f0f921"
            ]
           ],
           "sequentialminus": [
            [
             0,
             "#0d0887"
            ],
            [
             0.1111111111111111,
             "#46039f"
            ],
            [
             0.2222222222222222,
             "#7201a8"
            ],
            [
             0.3333333333333333,
             "#9c179e"
            ],
            [
             0.4444444444444444,
             "#bd3786"
            ],
            [
             0.5555555555555556,
             "#d8576b"
            ],
            [
             0.6666666666666666,
             "#ed7953"
            ],
            [
             0.7777777777777778,
             "#fb9f3a"
            ],
            [
             0.8888888888888888,
             "#fdca26"
            ],
            [
             1,
             "#f0f921"
            ]
           ]
          },
          "colorway": [
           "#636efa",
           "#EF553B",
           "#00cc96",
           "#ab63fa",
           "#FFA15A",
           "#19d3f3",
           "#FF6692",
           "#B6E880",
           "#FF97FF",
           "#FECB52"
          ],
          "font": {
           "color": "#2a3f5f"
          },
          "geo": {
           "bgcolor": "white",
           "lakecolor": "white",
           "landcolor": "#E5ECF6",
           "showlakes": true,
           "showland": true,
           "subunitcolor": "white"
          },
          "hoverlabel": {
           "align": "left"
          },
          "hovermode": "closest",
          "mapbox": {
           "style": "light"
          },
          "paper_bgcolor": "white",
          "plot_bgcolor": "#E5ECF6",
          "polar": {
           "angularaxis": {
            "gridcolor": "white",
            "linecolor": "white",
            "ticks": ""
           },
           "bgcolor": "#E5ECF6",
           "radialaxis": {
            "gridcolor": "white",
            "linecolor": "white",
            "ticks": ""
           }
          },
          "scene": {
           "xaxis": {
            "backgroundcolor": "#E5ECF6",
            "gridcolor": "white",
            "gridwidth": 2,
            "linecolor": "white",
            "showbackground": true,
            "ticks": "",
            "zerolinecolor": "white"
           },
           "yaxis": {
            "backgroundcolor": "#E5ECF6",
            "gridcolor": "white",
            "gridwidth": 2,
            "linecolor": "white",
            "showbackground": true,
            "ticks": "",
            "zerolinecolor": "white"
           },
           "zaxis": {
            "backgroundcolor": "#E5ECF6",
            "gridcolor": "white",
            "gridwidth": 2,
            "linecolor": "white",
            "showbackground": true,
            "ticks": "",
            "zerolinecolor": "white"
           }
          },
          "shapedefaults": {
           "line": {
            "color": "#2a3f5f"
           }
          },
          "ternary": {
           "aaxis": {
            "gridcolor": "white",
            "linecolor": "white",
            "ticks": ""
           },
           "baxis": {
            "gridcolor": "white",
            "linecolor": "white",
            "ticks": ""
           },
           "bgcolor": "#E5ECF6",
           "caxis": {
            "gridcolor": "white",
            "linecolor": "white",
            "ticks": ""
           }
          },
          "title": {
           "x": 0.05
          },
          "xaxis": {
           "automargin": true,
           "gridcolor": "white",
           "linecolor": "white",
           "ticks": "",
           "title": {
            "standoff": 15
           },
           "zerolinecolor": "white",
           "zerolinewidth": 2
          },
          "yaxis": {
           "automargin": true,
           "gridcolor": "white",
           "linecolor": "white",
           "ticks": "",
           "title": {
            "standoff": 15
           },
           "zerolinecolor": "white",
           "zerolinewidth": 2
          }
         }
        },
        "xaxis": {
         "anchor": "y",
         "domain": [
          0,
          1
         ],
         "title": {
          "text": "X"
         }
        },
        "yaxis": {
         "anchor": "x",
         "domain": [
          0,
          1
         ],
         "title": {
          "text": "Y"
         }
        }
       }
      }
     },
     "metadata": {},
     "output_type": "display_data"
    }
   ],
   "source": [
    "# Plotly Express\n",
    "px.scatter(df, x='X', y='Y')"
   ]
  },
  {
   "cell_type": "markdown",
   "metadata": {},
   "source": [
    "Positive linear relationship between X and Y with some variance in the data (... as expected since we created this data with some noise (error)...)"
   ]
  },
  {
   "cell_type": "markdown",
   "metadata": {},
   "source": [
    "## Task e)"
   ]
  },
  {
   "cell_type": "code",
   "execution_count": 136,
   "metadata": {
    "scrolled": true
   },
   "outputs": [],
   "source": [
    "# Fit Model\n",
    "lm = smf.ols(formula='Y ~ X', data=df).fit()"
   ]
  },
  {
   "cell_type": "code",
   "execution_count": 137,
   "metadata": {
    "scrolled": true
   },
   "outputs": [
    {
     "data": {
      "text/html": [
       "<table class=\"simpletable\">\n",
       "<caption>OLS Regression Results</caption>\n",
       "<tr>\n",
       "  <th>Dep. Variable:</th>            <td>Y</td>        <th>  R-squared:         </th> <td>   0.842</td>\n",
       "</tr>\n",
       "<tr>\n",
       "  <th>Model:</th>                   <td>OLS</td>       <th>  Adj. R-squared:    </th> <td>   0.840</td>\n",
       "</tr>\n",
       "<tr>\n",
       "  <th>Method:</th>             <td>Least Squares</td>  <th>  F-statistic:       </th> <td>   521.7</td>\n",
       "</tr>\n",
       "<tr>\n",
       "  <th>Date:</th>             <td>Sun, 24 Oct 2021</td> <th>  Prob (F-statistic):</th> <td>4.95e-41</td>\n",
       "</tr>\n",
       "<tr>\n",
       "  <th>Time:</th>                 <td>16:16:40</td>     <th>  Log-Likelihood:    </th> <td>-0.20540</td>\n",
       "</tr>\n",
       "<tr>\n",
       "  <th>No. Observations:</th>      <td>   100</td>      <th>  AIC:               </th> <td>   4.411</td>\n",
       "</tr>\n",
       "<tr>\n",
       "  <th>Df Residuals:</th>          <td>    98</td>      <th>  BIC:               </th> <td>   9.621</td>\n",
       "</tr>\n",
       "<tr>\n",
       "  <th>Df Model:</th>              <td>     1</td>      <th>                     </th>     <td> </td>   \n",
       "</tr>\n",
       "<tr>\n",
       "  <th>Covariance Type:</th>      <td>nonrobust</td>    <th>                     </th>     <td> </td>   \n",
       "</tr>\n",
       "</table>\n",
       "<table class=\"simpletable\">\n",
       "<tr>\n",
       "      <td></td>         <th>coef</th>     <th>std err</th>      <th>t</th>      <th>P>|t|</th>  <th>[0.025</th>    <th>0.975]</th>  \n",
       "</tr>\n",
       "<tr>\n",
       "  <th>Intercept</th> <td>   -1.0048</td> <td>    0.025</td> <td>  -41.011</td> <td> 0.000</td> <td>   -1.053</td> <td>   -0.956</td>\n",
       "</tr>\n",
       "<tr>\n",
       "  <th>X</th>         <td>    0.4959</td> <td>    0.022</td> <td>   22.841</td> <td> 0.000</td> <td>    0.453</td> <td>    0.539</td>\n",
       "</tr>\n",
       "</table>\n",
       "<table class=\"simpletable\">\n",
       "<tr>\n",
       "  <th>Omnibus:</th>       <td> 5.027</td> <th>  Durbin-Watson:     </th> <td>   1.860</td>\n",
       "</tr>\n",
       "<tr>\n",
       "  <th>Prob(Omnibus):</th> <td> 0.081</td> <th>  Jarque-Bera (JB):  </th> <td>   5.131</td>\n",
       "</tr>\n",
       "<tr>\n",
       "  <th>Skew:</th>          <td>-0.308</td> <th>  Prob(JB):          </th> <td>  0.0769</td>\n",
       "</tr>\n",
       "<tr>\n",
       "  <th>Kurtosis:</th>      <td> 3.924</td> <th>  Cond. No.          </th> <td>    1.13</td>\n",
       "</tr>\n",
       "</table><br/><br/>Notes:<br/>[1] Standard Errors assume that the covariance matrix of the errors is correctly specified."
      ],
      "text/plain": [
       "<class 'statsmodels.iolib.summary.Summary'>\n",
       "\"\"\"\n",
       "                            OLS Regression Results                            \n",
       "==============================================================================\n",
       "Dep. Variable:                      Y   R-squared:                       0.842\n",
       "Model:                            OLS   Adj. R-squared:                  0.840\n",
       "Method:                 Least Squares   F-statistic:                     521.7\n",
       "Date:                Sun, 24 Oct 2021   Prob (F-statistic):           4.95e-41\n",
       "Time:                        16:16:40   Log-Likelihood:               -0.20540\n",
       "No. Observations:                 100   AIC:                             4.411\n",
       "Df Residuals:                      98   BIC:                             9.621\n",
       "Df Model:                           1                                         \n",
       "Covariance Type:            nonrobust                                         \n",
       "==============================================================================\n",
       "                 coef    std err          t      P>|t|      [0.025      0.975]\n",
       "------------------------------------------------------------------------------\n",
       "Intercept     -1.0048      0.025    -41.011      0.000      -1.053      -0.956\n",
       "X              0.4959      0.022     22.841      0.000       0.453       0.539\n",
       "==============================================================================\n",
       "Omnibus:                        5.027   Durbin-Watson:                   1.860\n",
       "Prob(Omnibus):                  0.081   Jarque-Bera (JB):                5.131\n",
       "Skew:                          -0.308   Prob(JB):                       0.0769\n",
       "Kurtosis:                       3.924   Cond. No.                         1.13\n",
       "==============================================================================\n",
       "\n",
       "Notes:\n",
       "[1] Standard Errors assume that the covariance matrix of the errors is correctly specified.\n",
       "\"\"\""
      ]
     },
     "execution_count": 137,
     "metadata": {},
     "output_type": "execute_result"
    }
   ],
   "source": [
    "# Print summary\n",
    "lm.summary()"
   ]
  },
  {
   "cell_type": "code",
   "execution_count": 138,
   "metadata": {},
   "outputs": [
    {
     "data": {
      "text/plain": [
       "0.05999065764513778"
      ]
     },
     "execution_count": 138,
     "metadata": {},
     "output_type": "execute_result"
    }
   ],
   "source": [
    "# Mean squared error of residuals\n",
    "lm.mse_resid"
   ]
  },
  {
   "cell_type": "markdown",
   "metadata": {},
   "source": [
    "- The linear regression fits a model which is almost true to the values of the coefficients of the population model\n",
    "(as we constructed it). \n",
    "\n",
    "- The predictor x is highly statistically significant and we can observe a large F-statistic\n",
    "with a near-zero p-value so the null hypothesis can be rejected.\n",
    "\n",
    "- Our model explains around 84% of the variation in the data (see Adjusted R-squared)"
   ]
  },
  {
   "cell_type": "markdown",
   "metadata": {},
   "source": [
    "## Task f)"
   ]
  },
  {
   "cell_type": "code",
   "execution_count": 169,
   "metadata": {},
   "outputs": [
    {
     "data": {
      "application/vnd.plotly.v1+json": {
       "config": {
        "plotlyServerURL": "https://plot.ly"
       },
       "data": [
        {
         "hovertemplate": "X=%{x}<br>Y=%{y}<extra></extra>",
         "legendgroup": "",
         "marker": {
          "color": "#636efa",
          "symbol": "circle"
         },
         "mode": "markers",
         "name": "",
         "showlegend": false,
         "type": "scatter",
         "x": [
          -1.0856306033005612,
          0.9973454465835858,
          0.28297849805199204,
          -1.506294713918092,
          -0.5786002519685364,
          1.651436537097151,
          -2.426679243393074,
          -0.42891262885617726,
          1.265936258705534,
          -0.8667404022651017,
          -0.6788861516220543,
          -0.09470896893689112,
          1.4913896261242878,
          -0.638901996684651,
          -0.44398195964606546,
          -0.43435127561851733,
          2.2059300827254558,
          2.1867860889737867,
          1.004053897878877,
          0.386186399174856,
          0.7373685758962422,
          1.490732028150799,
          -0.9358338684023914,
          1.1758290447821034,
          -1.2538806677490124,
          -0.6377515024534103,
          0.9071051958003012,
          -1.428680700225969,
          -0.1400687201886661,
          -0.8617548958596855,
          -0.2556193705305969,
          -2.7985891054607244,
          -1.771533104509847,
          -0.6998772345979173,
          0.9274624317585825,
          -0.1736356827902158,
          0.0028459158968110196,
          0.688222711102285,
          -0.8795363430090519,
          0.283627323807291,
          -0.8053665180656158,
          -1.7276694941206072,
          -0.390899793755101,
          0.5738058624050577,
          0.3385890509998015,
          -0.01183049447881976,
          2.392365265937726,
          0.4129121603087788,
          0.9787360059373466,
          2.2381433384979528,
          -1.2940853231612488,
          -1.0387882102049535,
          1.7437122251229307,
          -0.7980627352410625,
          0.02968323030333022,
          1.0693159694243486,
          0.8907063912931708,
          1.7548861819811095,
          1.4956441370334692,
          1.0693926697057368,
          -0.7727087142471915,
          0.7948626677932181,
          0.31427199450686705,
          -1.326265459940456,
          1.4172990464768525,
          0.8072365345785665,
          0.045490080631097156,
          -0.2330920609844135,
          -1.198301144700787,
          0.19952407355863258,
          0.46843911944564426,
          -0.8311549842432792,
          1.1622040490995293,
          -1.0972030464830342,
          -2.1231003500424417,
          1.0397270908927005,
          -0.4033660381021075,
          -0.12602958531301514,
          -0.8375167228250533,
          -1.6059627607174027,
          1.2552373747242185,
          -0.6888689838469215,
          1.6609524881479396,
          0.8073081862107286,
          -0.31475814671745994,
          -1.0859024011268665,
          -0.732461986720457,
          -1.2125231310951696,
          2.0871133595881854,
          0.16444123022982496,
          1.1502055425466322,
          -1.2673520490102275,
          0.18103512959700388,
          1.1778619388085783,
          -0.3350107619330159,
          1.0311144589217422,
          -1.0845679120057665,
          -1.3634715446185843,
          0.37940061207813613,
          -0.3791764345725522
         ],
         "xaxis": "x",
         "y": [
          -1.3823016293323227,
          -0.9957992595883194,
          -0.6804445921063744,
          -1.1035713751417173,
          -1.2954566213421383,
          -0.16574619922396405,
          -2.1684522505368675,
          -1.6799502421260355,
          -0.2604952107246555,
          -1.834722637136542,
          -1.4463629753419782,
          -0.7366370970675112,
          -0.43810942596287517,
          -1.1941387509504755,
          -0.9688062163339402,
          -1.1474904237852588,
          -0.23977207616092405,
          0.010274225649039861,
          -0.008120215463489955,
          -1.3131682411619399,
          -0.7002622155184227,
          -0.3926610037966275,
          -1.437730093426911,
          -0.22503157331214071,
          -1.2247675918689929,
          -1.3864338492289947,
          -0.3433620696056442,
          -1.589405313896691,
          -0.9514475356263828,
          -1.571858430811461,
          -1.3771400524592736,
          -2.6743053308855362,
          -2.0748758546047044,
          -1.269516973332402,
          -0.3460314358386264,
          -1.0059506294308842,
          -1.1358158161005296,
          -0.20439611696573878,
          -1.060051765596641,
          -0.9466863662838978,
          -1.6085411105292242,
          -1.8312810085208113,
          -0.8786252356139622,
          -0.6299058244839418,
          -0.6915682982725881,
          -1.0589352778083163,
          0.31025035676942064,
          -0.40740780698157597,
          -0.5705491924007544,
          0.15489860237594452,
          -1.5835885424432177,
          -1.4484627661597174,
          -0.4811161064563415,
          -1.868248531589005,
          -1.2400721525787946,
          -0.4233564414374087,
          -0.4161827628526118,
          -0.2552255489528513,
          0.0921364392335613,
          -0.5010976587286784,
          -1.3812753575649395,
          -0.6510596337415565,
          -0.8093573045599002,
          -1.487014211459327,
          -0.12493711728349097,
          -0.8209874678631144,
          -0.5963390155648196,
          -1.3903026448489362,
          -1.5793438188277404,
          -0.9688371066012719,
          -1.0280283596067996,
          -1.4343576391150974,
          -0.6041014187733349,
          -1.530374712422504,
          -1.9607786847163793,
          -0.11215411231033184,
          -1.1248369643942,
          -1.2158211277327138,
          -1.5166633140924268,
          -1.7679868538300605,
          -0.34901610527235294,
          -0.9795371748663555,
          0.17931447651320848,
          -0.6860798884552011,
          -1.2945396054052796,
          -2.182214851580398,
          -1.5034610966907835,
          -1.8507759920686557,
          -0.045149434729611956,
          -0.8198833242975597,
          -0.38059914642693693,
          -1.6411680262669994,
          -0.8595869074293696,
          -0.4425984739034588,
          -1.1182506478306389,
          -1.292206522518957,
          -1.6096073284405719,
          -1.709448452572544,
          -0.8956151230125784,
          -1.2440747828120116
         ],
         "yaxis": "y"
        },
        {
         "hovertemplate": "<b>OLS trendline</b><br>Y = 0.495852 * X + -1.00477<br>R<sup>2</sup>=0.841860<br><br>X=%{x}<br>Y=%{y} <b>(trend)</b><extra></extra>",
         "legendgroup": "",
         "line": {
          "color": "red"
         },
         "marker": {
          "color": "#636efa",
          "symbol": "circle"
         },
         "mode": "lines",
         "name": "",
         "showlegend": false,
         "type": "scatter",
         "x": [
          -2.7985891054607244,
          -2.426679243393074,
          -2.1231003500424417,
          -1.771533104509847,
          -1.7276694941206072,
          -1.6059627607174027,
          -1.506294713918092,
          -1.428680700225969,
          -1.3634715446185843,
          -1.326265459940456,
          -1.2940853231612488,
          -1.2673520490102275,
          -1.2538806677490124,
          -1.2125231310951696,
          -1.198301144700787,
          -1.0972030464830342,
          -1.0859024011268665,
          -1.0856306033005612,
          -1.0845679120057665,
          -1.0387882102049535,
          -0.9358338684023914,
          -0.8795363430090519,
          -0.8667404022651017,
          -0.8617548958596855,
          -0.8375167228250533,
          -0.8311549842432792,
          -0.8053665180656158,
          -0.7980627352410625,
          -0.7727087142471915,
          -0.732461986720457,
          -0.6998772345979173,
          -0.6888689838469215,
          -0.6788861516220543,
          -0.638901996684651,
          -0.6377515024534103,
          -0.5786002519685364,
          -0.44398195964606546,
          -0.43435127561851733,
          -0.42891262885617726,
          -0.4033660381021075,
          -0.390899793755101,
          -0.3791764345725522,
          -0.3350107619330159,
          -0.31475814671745994,
          -0.2556193705305969,
          -0.2330920609844135,
          -0.1736356827902158,
          -0.1400687201886661,
          -0.12602958531301514,
          -0.09470896893689112,
          -0.01183049447881976,
          0.0028459158968110196,
          0.02968323030333022,
          0.045490080631097156,
          0.16444123022982496,
          0.18103512959700388,
          0.19952407355863258,
          0.28297849805199204,
          0.283627323807291,
          0.31427199450686705,
          0.3385890509998015,
          0.37940061207813613,
          0.386186399174856,
          0.4129121603087788,
          0.46843911944564426,
          0.5738058624050577,
          0.688222711102285,
          0.7373685758962422,
          0.7948626677932181,
          0.8072365345785665,
          0.8073081862107286,
          0.8907063912931708,
          0.9071051958003012,
          0.9274624317585825,
          0.9787360059373466,
          0.9973454465835858,
          1.004053897878877,
          1.0311144589217422,
          1.0397270908927005,
          1.0693159694243486,
          1.0693926697057368,
          1.1502055425466322,
          1.1622040490995293,
          1.1758290447821034,
          1.1778619388085783,
          1.2552373747242185,
          1.265936258705534,
          1.4172990464768525,
          1.490732028150799,
          1.4913896261242878,
          1.4956441370334692,
          1.651436537097151,
          1.6609524881479396,
          1.7437122251229307,
          1.7548861819811095,
          2.0871133595881854,
          2.1867860889737867,
          2.2059300827254558,
          2.2381433384979528,
          2.392365265937726
         ],
         "xaxis": "x",
         "y": [
          -2.3924570614540377,
          -2.2080448632937353,
          -2.0575147033065315,
          -1.883189429463604,
          -1.8614395765122578,
          -1.8010910659537713,
          -1.7516704792169198,
          -1.7131854258939598,
          -1.6808513445687714,
          -1.6624026381475794,
          -1.646446057357922,
          -1.6331903135526797,
          -1.626510504050386,
          -1.6060032924308052,
          -1.5989512939744777,
          -1.5488216135768909,
          -1.5432181675182814,
          -1.5430833960596129,
          -1.5425564586007634,
          -1.5198565081523523,
          -1.4688064059141275,
          -1.440891173037397,
          -1.4345462819742727,
          -1.4320742093326555,
          -1.4200556660655956,
          -1.4169011861347227,
          -1.4041139271237193,
          -1.4004923327995649,
          -1.3879204942425336,
          -1.3679640793986223,
          -1.351806869336973,
          -1.3463484076882155,
          -1.3413984017265064,
          -1.321572183990319,
          -1.321001709281812,
          -1.2916714515005272,
          -1.2249207203912313,
          -1.2201453277693912,
          -1.2174485646373663,
          -1.2047812400058868,
          -1.1985998295155762,
          -1.1927867800184286,
          -1.17088714893738,
          -1.1608448519419965,
          -1.1315207795646263,
          -1.120350571146508,
          -1.0908690152219493,
          -1.0742247742639335,
          -1.067263443073913,
          -1.0517330570778407,
          -1.010637611073762,
          -1.0033602856395136,
          -0.9900529532797036,
          -0.9822150970886134,
          -0.9232329478946073,
          -0.9150048319706587,
          -0.9058370546531367,
          -0.8644560227507775,
          -0.8641343012909257,
          -0.8489390842181945,
          -0.8368814264413362,
          -0.8166449378282966,
          -0.8132801926510733,
          -0.8000281741893596,
          -0.772495028026852,
          -0.7202487321794928,
          -0.6635149245371658,
          -0.639145855895759,
          -0.6106373032883986,
          -0.6045016983841818,
          -0.6044661697888514,
          -0.5631130143861605,
          -0.5549816366121263,
          -0.5448874632265017,
          -0.5194633659216519,
          -0.5102358400985201,
          -0.5069094420225503,
          -0.49349141240208794,
          -0.48922082278964785,
          -0.47454912223085266,
          -0.47451109025339533,
          -0.43443987666044215,
          -0.42849039482697027,
          -0.4217344153275854,
          -0.4207264010362596,
          -0.3823596469483582,
          -0.3770545853888517,
          -0.30200106500787616,
          -0.26558918420248245,
          -0.2652631130218942,
          -0.2631535058592951,
          -0.18590355396856828,
          -0.18118505190705925,
          -0.14014848210523334,
          -0.13460785477443582,
          0.030127610347405298,
          0.07955051895339493,
          0.08904310392999393,
          0.10501610683419149,
          0.1814873369477772
         ],
         "yaxis": "y"
        }
       ],
       "layout": {
        "legend": {
         "tracegroupgap": 0
        },
        "margin": {
         "t": 60
        },
        "template": {
         "data": {
          "bar": [
           {
            "error_x": {
             "color": "#2a3f5f"
            },
            "error_y": {
             "color": "#2a3f5f"
            },
            "marker": {
             "line": {
              "color": "#E5ECF6",
              "width": 0.5
             }
            },
            "type": "bar"
           }
          ],
          "barpolar": [
           {
            "marker": {
             "line": {
              "color": "#E5ECF6",
              "width": 0.5
             }
            },
            "type": "barpolar"
           }
          ],
          "carpet": [
           {
            "aaxis": {
             "endlinecolor": "#2a3f5f",
             "gridcolor": "white",
             "linecolor": "white",
             "minorgridcolor": "white",
             "startlinecolor": "#2a3f5f"
            },
            "baxis": {
             "endlinecolor": "#2a3f5f",
             "gridcolor": "white",
             "linecolor": "white",
             "minorgridcolor": "white",
             "startlinecolor": "#2a3f5f"
            },
            "type": "carpet"
           }
          ],
          "choropleth": [
           {
            "colorbar": {
             "outlinewidth": 0,
             "ticks": ""
            },
            "type": "choropleth"
           }
          ],
          "contour": [
           {
            "colorbar": {
             "outlinewidth": 0,
             "ticks": ""
            },
            "colorscale": [
             [
              0,
              "#0d0887"
             ],
             [
              0.1111111111111111,
              "#46039f"
             ],
             [
              0.2222222222222222,
              "#7201a8"
             ],
             [
              0.3333333333333333,
              "#9c179e"
             ],
             [
              0.4444444444444444,
              "#bd3786"
             ],
             [
              0.5555555555555556,
              "#d8576b"
             ],
             [
              0.6666666666666666,
              "#ed7953"
             ],
             [
              0.7777777777777778,
              "#fb9f3a"
             ],
             [
              0.8888888888888888,
              "#fdca26"
             ],
             [
              1,
              "#f0f921"
             ]
            ],
            "type": "contour"
           }
          ],
          "contourcarpet": [
           {
            "colorbar": {
             "outlinewidth": 0,
             "ticks": ""
            },
            "type": "contourcarpet"
           }
          ],
          "heatmap": [
           {
            "colorbar": {
             "outlinewidth": 0,
             "ticks": ""
            },
            "colorscale": [
             [
              0,
              "#0d0887"
             ],
             [
              0.1111111111111111,
              "#46039f"
             ],
             [
              0.2222222222222222,
              "#7201a8"
             ],
             [
              0.3333333333333333,
              "#9c179e"
             ],
             [
              0.4444444444444444,
              "#bd3786"
             ],
             [
              0.5555555555555556,
              "#d8576b"
             ],
             [
              0.6666666666666666,
              "#ed7953"
             ],
             [
              0.7777777777777778,
              "#fb9f3a"
             ],
             [
              0.8888888888888888,
              "#fdca26"
             ],
             [
              1,
              "#f0f921"
             ]
            ],
            "type": "heatmap"
           }
          ],
          "heatmapgl": [
           {
            "colorbar": {
             "outlinewidth": 0,
             "ticks": ""
            },
            "colorscale": [
             [
              0,
              "#0d0887"
             ],
             [
              0.1111111111111111,
              "#46039f"
             ],
             [
              0.2222222222222222,
              "#7201a8"
             ],
             [
              0.3333333333333333,
              "#9c179e"
             ],
             [
              0.4444444444444444,
              "#bd3786"
             ],
             [
              0.5555555555555556,
              "#d8576b"
             ],
             [
              0.6666666666666666,
              "#ed7953"
             ],
             [
              0.7777777777777778,
              "#fb9f3a"
             ],
             [
              0.8888888888888888,
              "#fdca26"
             ],
             [
              1,
              "#f0f921"
             ]
            ],
            "type": "heatmapgl"
           }
          ],
          "histogram": [
           {
            "marker": {
             "colorbar": {
              "outlinewidth": 0,
              "ticks": ""
             }
            },
            "type": "histogram"
           }
          ],
          "histogram2d": [
           {
            "colorbar": {
             "outlinewidth": 0,
             "ticks": ""
            },
            "colorscale": [
             [
              0,
              "#0d0887"
             ],
             [
              0.1111111111111111,
              "#46039f"
             ],
             [
              0.2222222222222222,
              "#7201a8"
             ],
             [
              0.3333333333333333,
              "#9c179e"
             ],
             [
              0.4444444444444444,
              "#bd3786"
             ],
             [
              0.5555555555555556,
              "#d8576b"
             ],
             [
              0.6666666666666666,
              "#ed7953"
             ],
             [
              0.7777777777777778,
              "#fb9f3a"
             ],
             [
              0.8888888888888888,
              "#fdca26"
             ],
             [
              1,
              "#f0f921"
             ]
            ],
            "type": "histogram2d"
           }
          ],
          "histogram2dcontour": [
           {
            "colorbar": {
             "outlinewidth": 0,
             "ticks": ""
            },
            "colorscale": [
             [
              0,
              "#0d0887"
             ],
             [
              0.1111111111111111,
              "#46039f"
             ],
             [
              0.2222222222222222,
              "#7201a8"
             ],
             [
              0.3333333333333333,
              "#9c179e"
             ],
             [
              0.4444444444444444,
              "#bd3786"
             ],
             [
              0.5555555555555556,
              "#d8576b"
             ],
             [
              0.6666666666666666,
              "#ed7953"
             ],
             [
              0.7777777777777778,
              "#fb9f3a"
             ],
             [
              0.8888888888888888,
              "#fdca26"
             ],
             [
              1,
              "#f0f921"
             ]
            ],
            "type": "histogram2dcontour"
           }
          ],
          "mesh3d": [
           {
            "colorbar": {
             "outlinewidth": 0,
             "ticks": ""
            },
            "type": "mesh3d"
           }
          ],
          "parcoords": [
           {
            "line": {
             "colorbar": {
              "outlinewidth": 0,
              "ticks": ""
             }
            },
            "type": "parcoords"
           }
          ],
          "pie": [
           {
            "automargin": true,
            "type": "pie"
           }
          ],
          "scatter": [
           {
            "marker": {
             "colorbar": {
              "outlinewidth": 0,
              "ticks": ""
             }
            },
            "type": "scatter"
           }
          ],
          "scatter3d": [
           {
            "line": {
             "colorbar": {
              "outlinewidth": 0,
              "ticks": ""
             }
            },
            "marker": {
             "colorbar": {
              "outlinewidth": 0,
              "ticks": ""
             }
            },
            "type": "scatter3d"
           }
          ],
          "scattercarpet": [
           {
            "marker": {
             "colorbar": {
              "outlinewidth": 0,
              "ticks": ""
             }
            },
            "type": "scattercarpet"
           }
          ],
          "scattergeo": [
           {
            "marker": {
             "colorbar": {
              "outlinewidth": 0,
              "ticks": ""
             }
            },
            "type": "scattergeo"
           }
          ],
          "scattergl": [
           {
            "marker": {
             "colorbar": {
              "outlinewidth": 0,
              "ticks": ""
             }
            },
            "type": "scattergl"
           }
          ],
          "scattermapbox": [
           {
            "marker": {
             "colorbar": {
              "outlinewidth": 0,
              "ticks": ""
             }
            },
            "type": "scattermapbox"
           }
          ],
          "scatterpolar": [
           {
            "marker": {
             "colorbar": {
              "outlinewidth": 0,
              "ticks": ""
             }
            },
            "type": "scatterpolar"
           }
          ],
          "scatterpolargl": [
           {
            "marker": {
             "colorbar": {
              "outlinewidth": 0,
              "ticks": ""
             }
            },
            "type": "scatterpolargl"
           }
          ],
          "scatterternary": [
           {
            "marker": {
             "colorbar": {
              "outlinewidth": 0,
              "ticks": ""
             }
            },
            "type": "scatterternary"
           }
          ],
          "surface": [
           {
            "colorbar": {
             "outlinewidth": 0,
             "ticks": ""
            },
            "colorscale": [
             [
              0,
              "#0d0887"
             ],
             [
              0.1111111111111111,
              "#46039f"
             ],
             [
              0.2222222222222222,
              "#7201a8"
             ],
             [
              0.3333333333333333,
              "#9c179e"
             ],
             [
              0.4444444444444444,
              "#bd3786"
             ],
             [
              0.5555555555555556,
              "#d8576b"
             ],
             [
              0.6666666666666666,
              "#ed7953"
             ],
             [
              0.7777777777777778,
              "#fb9f3a"
             ],
             [
              0.8888888888888888,
              "#fdca26"
             ],
             [
              1,
              "#f0f921"
             ]
            ],
            "type": "surface"
           }
          ],
          "table": [
           {
            "cells": {
             "fill": {
              "color": "#EBF0F8"
             },
             "line": {
              "color": "white"
             }
            },
            "header": {
             "fill": {
              "color": "#C8D4E3"
             },
             "line": {
              "color": "white"
             }
            },
            "type": "table"
           }
          ]
         },
         "layout": {
          "annotationdefaults": {
           "arrowcolor": "#2a3f5f",
           "arrowhead": 0,
           "arrowwidth": 1
          },
          "coloraxis": {
           "colorbar": {
            "outlinewidth": 0,
            "ticks": ""
           }
          },
          "colorscale": {
           "diverging": [
            [
             0,
             "#8e0152"
            ],
            [
             0.1,
             "#c51b7d"
            ],
            [
             0.2,
             "#de77ae"
            ],
            [
             0.3,
             "#f1b6da"
            ],
            [
             0.4,
             "#fde0ef"
            ],
            [
             0.5,
             "#f7f7f7"
            ],
            [
             0.6,
             "#e6f5d0"
            ],
            [
             0.7,
             "#b8e186"
            ],
            [
             0.8,
             "#7fbc41"
            ],
            [
             0.9,
             "#4d9221"
            ],
            [
             1,
             "#276419"
            ]
           ],
           "sequential": [
            [
             0,
             "#0d0887"
            ],
            [
             0.1111111111111111,
             "#46039f"
            ],
            [
             0.2222222222222222,
             "#7201a8"
            ],
            [
             0.3333333333333333,
             "#9c179e"
            ],
            [
             0.4444444444444444,
             "#bd3786"
            ],
            [
             0.5555555555555556,
             "#d8576b"
            ],
            [
             0.6666666666666666,
             "#ed7953"
            ],
            [
             0.7777777777777778,
             "#fb9f3a"
            ],
            [
             0.8888888888888888,
             "#fdca26"
            ],
            [
             1,
             "#f0f921"
            ]
           ],
           "sequentialminus": [
            [
             0,
             "#0d0887"
            ],
            [
             0.1111111111111111,
             "#46039f"
            ],
            [
             0.2222222222222222,
             "#7201a8"
            ],
            [
             0.3333333333333333,
             "#9c179e"
            ],
            [
             0.4444444444444444,
             "#bd3786"
            ],
            [
             0.5555555555555556,
             "#d8576b"
            ],
            [
             0.6666666666666666,
             "#ed7953"
            ],
            [
             0.7777777777777778,
             "#fb9f3a"
            ],
            [
             0.8888888888888888,
             "#fdca26"
            ],
            [
             1,
             "#f0f921"
            ]
           ]
          },
          "colorway": [
           "#636efa",
           "#EF553B",
           "#00cc96",
           "#ab63fa",
           "#FFA15A",
           "#19d3f3",
           "#FF6692",
           "#B6E880",
           "#FF97FF",
           "#FECB52"
          ],
          "font": {
           "color": "#2a3f5f"
          },
          "geo": {
           "bgcolor": "white",
           "lakecolor": "white",
           "landcolor": "#E5ECF6",
           "showlakes": true,
           "showland": true,
           "subunitcolor": "white"
          },
          "hoverlabel": {
           "align": "left"
          },
          "hovermode": "closest",
          "mapbox": {
           "style": "light"
          },
          "paper_bgcolor": "white",
          "plot_bgcolor": "#E5ECF6",
          "polar": {
           "angularaxis": {
            "gridcolor": "white",
            "linecolor": "white",
            "ticks": ""
           },
           "bgcolor": "#E5ECF6",
           "radialaxis": {
            "gridcolor": "white",
            "linecolor": "white",
            "ticks": ""
           }
          },
          "scene": {
           "xaxis": {
            "backgroundcolor": "#E5ECF6",
            "gridcolor": "white",
            "gridwidth": 2,
            "linecolor": "white",
            "showbackground": true,
            "ticks": "",
            "zerolinecolor": "white"
           },
           "yaxis": {
            "backgroundcolor": "#E5ECF6",
            "gridcolor": "white",
            "gridwidth": 2,
            "linecolor": "white",
            "showbackground": true,
            "ticks": "",
            "zerolinecolor": "white"
           },
           "zaxis": {
            "backgroundcolor": "#E5ECF6",
            "gridcolor": "white",
            "gridwidth": 2,
            "linecolor": "white",
            "showbackground": true,
            "ticks": "",
            "zerolinecolor": "white"
           }
          },
          "shapedefaults": {
           "line": {
            "color": "#2a3f5f"
           }
          },
          "ternary": {
           "aaxis": {
            "gridcolor": "white",
            "linecolor": "white",
            "ticks": ""
           },
           "baxis": {
            "gridcolor": "white",
            "linecolor": "white",
            "ticks": ""
           },
           "bgcolor": "#E5ECF6",
           "caxis": {
            "gridcolor": "white",
            "linecolor": "white",
            "ticks": ""
           }
          },
          "title": {
           "x": 0.05
          },
          "xaxis": {
           "automargin": true,
           "gridcolor": "white",
           "linecolor": "white",
           "ticks": "",
           "title": {
            "standoff": 15
           },
           "zerolinecolor": "white",
           "zerolinewidth": 2
          },
          "yaxis": {
           "automargin": true,
           "gridcolor": "white",
           "linecolor": "white",
           "ticks": "",
           "title": {
            "standoff": 15
           },
           "zerolinecolor": "white",
           "zerolinewidth": 2
          }
         }
        },
        "xaxis": {
         "anchor": "y",
         "domain": [
          0,
          1
         ],
         "title": {
          "text": "X"
         }
        },
        "yaxis": {
         "anchor": "x",
         "domain": [
          0,
          1
         ],
         "title": {
          "text": "Y"
         }
        }
       }
      }
     },
     "metadata": {},
     "output_type": "display_data"
    }
   ],
   "source": [
    "# create a scatterplot with OLS trendline\n",
    "fig = px.scatter(df, x=\"X\", y=\"Y\", trendline=\"ols\")\n",
    "\n",
    "# make trendline red\n",
    "fig.data[1].line.color = 'red'\n",
    "\n",
    "# show figure\n",
    "fig.show()"
   ]
  },
  {
   "cell_type": "markdown",
   "metadata": {},
   "source": [
    "### Task g) "
   ]
  },
  {
   "cell_type": "code",
   "execution_count": 142,
   "metadata": {
    "scrolled": true
   },
   "outputs": [
    {
     "data": {
      "text/html": [
       "<table class=\"simpletable\">\n",
       "<caption>OLS Regression Results</caption>\n",
       "<tr>\n",
       "  <th>Dep. Variable:</th>            <td>Y</td>        <th>  R-squared:         </th> <td>   0.842</td>\n",
       "</tr>\n",
       "<tr>\n",
       "  <th>Model:</th>                   <td>OLS</td>       <th>  Adj. R-squared:    </th> <td>   0.839</td>\n",
       "</tr>\n",
       "<tr>\n",
       "  <th>Method:</th>             <td>Least Squares</td>  <th>  F-statistic:       </th> <td>   258.7</td>\n",
       "</tr>\n",
       "<tr>\n",
       "  <th>Date:</th>             <td>Sun, 24 Oct 2021</td> <th>  Prob (F-statistic):</th> <td>1.31e-39</td>\n",
       "</tr>\n",
       "<tr>\n",
       "  <th>Time:</th>                 <td>16:16:41</td>     <th>  Log-Likelihood:    </th> <td>-0.12169</td>\n",
       "</tr>\n",
       "<tr>\n",
       "  <th>No. Observations:</th>      <td>   100</td>      <th>  AIC:               </th> <td>   6.243</td>\n",
       "</tr>\n",
       "<tr>\n",
       "  <th>Df Residuals:</th>          <td>    97</td>      <th>  BIC:               </th> <td>   14.06</td>\n",
       "</tr>\n",
       "<tr>\n",
       "  <th>Df Model:</th>              <td>     2</td>      <th>                     </th>     <td> </td>   \n",
       "</tr>\n",
       "<tr>\n",
       "  <th>Covariance Type:</th>      <td>nonrobust</td>    <th>                     </th>     <td> </td>   \n",
       "</tr>\n",
       "</table>\n",
       "<table class=\"simpletable\">\n",
       "<tr>\n",
       "      <td></td>         <th>coef</th>     <th>std err</th>      <th>t</th>      <th>P>|t|</th>  <th>[0.025</th>    <th>0.975]</th>  \n",
       "</tr>\n",
       "<tr>\n",
       "  <th>Intercept</th> <td>   -0.9963</td> <td>    0.032</td> <td>  -30.745</td> <td> 0.000</td> <td>   -1.061</td> <td>   -0.932</td>\n",
       "</tr>\n",
       "<tr>\n",
       "  <th>X</th>         <td>    0.4965</td> <td>    0.022</td> <td>   22.717</td> <td> 0.000</td> <td>    0.453</td> <td>    0.540</td>\n",
       "</tr>\n",
       "<tr>\n",
       "  <th>I(X ** 2)</th> <td>   -0.0067</td> <td>    0.017</td> <td>   -0.403</td> <td> 0.688</td> <td>   -0.040</td> <td>    0.026</td>\n",
       "</tr>\n",
       "</table>\n",
       "<table class=\"simpletable\">\n",
       "<tr>\n",
       "  <th>Omnibus:</th>       <td> 5.312</td> <th>  Durbin-Watson:     </th> <td>   1.863</td>\n",
       "</tr>\n",
       "<tr>\n",
       "  <th>Prob(Omnibus):</th> <td> 0.070</td> <th>  Jarque-Bera (JB):  </th> <td>   5.551</td>\n",
       "</tr>\n",
       "<tr>\n",
       "  <th>Skew:</th>          <td>-0.317</td> <th>  Prob(JB):          </th> <td>  0.0623</td>\n",
       "</tr>\n",
       "<tr>\n",
       "  <th>Kurtosis:</th>      <td> 3.964</td> <th>  Cond. No.          </th> <td>    2.91</td>\n",
       "</tr>\n",
       "</table><br/><br/>Notes:<br/>[1] Standard Errors assume that the covariance matrix of the errors is correctly specified."
      ],
      "text/plain": [
       "<class 'statsmodels.iolib.summary.Summary'>\n",
       "\"\"\"\n",
       "                            OLS Regression Results                            \n",
       "==============================================================================\n",
       "Dep. Variable:                      Y   R-squared:                       0.842\n",
       "Model:                            OLS   Adj. R-squared:                  0.839\n",
       "Method:                 Least Squares   F-statistic:                     258.7\n",
       "Date:                Sun, 24 Oct 2021   Prob (F-statistic):           1.31e-39\n",
       "Time:                        16:16:41   Log-Likelihood:               -0.12169\n",
       "No. Observations:                 100   AIC:                             6.243\n",
       "Df Residuals:                      97   BIC:                             14.06\n",
       "Df Model:                           2                                         \n",
       "Covariance Type:            nonrobust                                         \n",
       "==============================================================================\n",
       "                 coef    std err          t      P>|t|      [0.025      0.975]\n",
       "------------------------------------------------------------------------------\n",
       "Intercept     -0.9963      0.032    -30.745      0.000      -1.061      -0.932\n",
       "X              0.4965      0.022     22.717      0.000       0.453       0.540\n",
       "I(X ** 2)     -0.0067      0.017     -0.403      0.688      -0.040       0.026\n",
       "==============================================================================\n",
       "Omnibus:                        5.312   Durbin-Watson:                   1.863\n",
       "Prob(Omnibus):                  0.070   Jarque-Bera (JB):                5.551\n",
       "Skew:                          -0.317   Prob(JB):                       0.0623\n",
       "Kurtosis:                       3.964   Cond. No.                         2.91\n",
       "==============================================================================\n",
       "\n",
       "Notes:\n",
       "[1] Standard Errors assume that the covariance matrix of the errors is correctly specified.\n",
       "\"\"\""
      ]
     },
     "execution_count": 142,
     "metadata": {},
     "output_type": "execute_result"
    }
   ],
   "source": [
    "# Fit Model\n",
    "lm_2 = smf.ols(formula='Y ~ X + I(X**2)', data=df).fit()\n",
    "lm_2.summary()"
   ]
  },
  {
   "cell_type": "code",
   "execution_count": 143,
   "metadata": {},
   "outputs": [
    {
     "data": {
      "text/plain": [
       "0.060507735253767535"
      ]
     },
     "execution_count": 143,
     "metadata": {},
     "output_type": "execute_result"
    }
   ],
   "source": [
    "# Mean squared error of residuals\n",
    "lm_2.mse_resid"
   ]
  },
  {
   "cell_type": "markdown",
   "metadata": {},
   "source": [
    "Arguments, that the polynomial provides a **better** fit:\n",
    "\n",
    "- $\\beta_0$ and $\\beta_1$ are slightly closer to $\\hat{\\beta_0}$ and $\\hat{\\beta_1}$\n",
    "   \n",
    "Arguments, that the polynomial provides **not a better** fit:\n",
    "\n",
    "- While $R^2$ is same for both models, $Adj. R^2$ (which takes model complexity into account) is slightly lower (worse)\n",
    "- $\\beta_0$ and $\\beta_1$ have slightly higher standard error\n",
    "- $\\beta_2$ with $p = 0.856$ is not signifcant\n",
    "- Scores for AIC and BIC are higher (worse)\n",
    "- Most importantly, the p-value of the t-statistic suggests that there isn’t a significant relationship between Y\n",
    "and $X^2$ why we should use the model in (e) \n",
    "    - this makes sense since we know the population model doesn't contain a quadratic relationship."
   ]
  },
  {
   "cell_type": "markdown",
   "metadata": {},
   "source": [
    "## Task h)\n"
   ]
  },
  {
   "cell_type": "code",
   "execution_count": 173,
   "metadata": {},
   "outputs": [
    {
     "data": {
      "image/png": "[encoded data removed]",
      "text/plain": [
       "<Figure size 432x288 with 1 Axes>"
      ]
     },
     "metadata": {},
     "output_type": "display_data"
    }
   ],
   "source": [
    "# a) Normal distributed values, with mean = 0 and sd = 1\n",
    "X_h = np.random.normal(0, 1, 100)\n",
    "# b) with lower standard deviation \n",
    "err_h = np.random.normal(0, 0.05, 100)\n",
    "# c) Model\n",
    "Y_h = -1 + 0.5 * X_h + err_h\n",
    "# d) Scatterplot\n",
    "sns.scatterplot(x=X_h, y=Y_h);"
   ]
  },
  {
   "cell_type": "markdown",
   "metadata": {},
   "source": [
    "Positive linear relationship between x2 and y2 with only little variance in the data (... as expected since we created this model...)."
   ]
  },
  {
   "cell_type": "code",
   "execution_count": 174,
   "metadata": {},
   "outputs": [
    {
     "data": {
      "text/html": [
       "<table class=\"simpletable\">\n",
       "<caption>GLS Regression Results</caption>\n",
       "<tr>\n",
       "  <th>Dep. Variable:</th>            <td>Y</td>        <th>  R-squared:         </th> <td>   0.991</td> \n",
       "</tr>\n",
       "<tr>\n",
       "  <th>Model:</th>                   <td>GLS</td>       <th>  Adj. R-squared:    </th> <td>   0.991</td> \n",
       "</tr>\n",
       "<tr>\n",
       "  <th>Method:</th>             <td>Least Squares</td>  <th>  F-statistic:       </th> <td>1.071e+04</td>\n",
       "</tr>\n",
       "<tr>\n",
       "  <th>Date:</th>             <td>Sun, 24 Oct 2021</td> <th>  Prob (F-statistic):</th> <td>6.72e-102</td>\n",
       "</tr>\n",
       "<tr>\n",
       "  <th>Time:</th>                 <td>18:09:47</td>     <th>  Log-Likelihood:    </th> <td>  162.53</td> \n",
       "</tr>\n",
       "<tr>\n",
       "  <th>No. Observations:</th>      <td>   100</td>      <th>  AIC:               </th> <td>  -321.1</td> \n",
       "</tr>\n",
       "<tr>\n",
       "  <th>Df Residuals:</th>          <td>    98</td>      <th>  BIC:               </th> <td>  -315.9</td> \n",
       "</tr>\n",
       "<tr>\n",
       "  <th>Df Model:</th>              <td>     1</td>      <th>                     </th>     <td> </td>    \n",
       "</tr>\n",
       "<tr>\n",
       "  <th>Covariance Type:</th>      <td>nonrobust</td>    <th>                     </th>     <td> </td>    \n",
       "</tr>\n",
       "</table>\n",
       "<table class=\"simpletable\">\n",
       "<tr>\n",
       "      <td></td>         <th>coef</th>     <th>std err</th>      <th>t</th>      <th>P>|t|</th>  <th>[0.025</th>    <th>0.975]</th>  \n",
       "</tr>\n",
       "<tr>\n",
       "  <th>Intercept</th> <td>   -0.9986</td> <td>    0.005</td> <td> -206.316</td> <td> 0.000</td> <td>   -1.008</td> <td>   -0.989</td>\n",
       "</tr>\n",
       "<tr>\n",
       "  <th>X</th>         <td>    0.5031</td> <td>    0.005</td> <td>  103.480</td> <td> 0.000</td> <td>    0.493</td> <td>    0.513</td>\n",
       "</tr>\n",
       "</table>\n",
       "<table class=\"simpletable\">\n",
       "<tr>\n",
       "  <th>Omnibus:</th>       <td> 0.787</td> <th>  Durbin-Watson:     </th> <td>   2.081</td>\n",
       "</tr>\n",
       "<tr>\n",
       "  <th>Prob(Omnibus):</th> <td> 0.675</td> <th>  Jarque-Bera (JB):  </th> <td>   0.861</td>\n",
       "</tr>\n",
       "<tr>\n",
       "  <th>Skew:</th>          <td>-0.094</td> <th>  Prob(JB):          </th> <td>   0.650</td>\n",
       "</tr>\n",
       "<tr>\n",
       "  <th>Kurtosis:</th>      <td> 2.586</td> <th>  Cond. No.          </th> <td>    1.12</td>\n",
       "</tr>\n",
       "</table><br/><br/>Notes:<br/>[1] Standard Errors assume that the covariance matrix of the errors is correctly specified."
      ],
      "text/plain": [
       "<class 'statsmodels.iolib.summary.Summary'>\n",
       "\"\"\"\n",
       "                            GLS Regression Results                            \n",
       "==============================================================================\n",
       "Dep. Variable:                      Y   R-squared:                       0.991\n",
       "Model:                            GLS   Adj. R-squared:                  0.991\n",
       "Method:                 Least Squares   F-statistic:                 1.071e+04\n",
       "Date:                Sun, 24 Oct 2021   Prob (F-statistic):          6.72e-102\n",
       "Time:                        18:09:47   Log-Likelihood:                 162.53\n",
       "No. Observations:                 100   AIC:                            -321.1\n",
       "Df Residuals:                      98   BIC:                            -315.9\n",
       "Df Model:                           1                                         \n",
       "Covariance Type:            nonrobust                                         \n",
       "==============================================================================\n",
       "                 coef    std err          t      P>|t|      [0.025      0.975]\n",
       "------------------------------------------------------------------------------\n",
       "Intercept     -0.9986      0.005   -206.316      0.000      -1.008      -0.989\n",
       "X              0.5031      0.005    103.480      0.000       0.493       0.513\n",
       "==============================================================================\n",
       "Omnibus:                        0.787   Durbin-Watson:                   2.081\n",
       "Prob(Omnibus):                  0.675   Jarque-Bera (JB):                0.861\n",
       "Skew:                          -0.094   Prob(JB):                        0.650\n",
       "Kurtosis:                       2.586   Cond. No.                         1.12\n",
       "==============================================================================\n",
       "\n",
       "Notes:\n",
       "[1] Standard Errors assume that the covariance matrix of the errors is correctly specified.\n",
       "\"\"\""
      ]
     },
     "execution_count": 174,
     "metadata": {},
     "output_type": "execute_result"
    }
   ],
   "source": [
    "# e)\n",
    "df_h = pd.DataFrame({'X': X_h, 'Y': Y_h})\n",
    "lm_h = smf.gls(formula='Y ~ X', data=df_h).fit()\n",
    "lm_h.summary()"
   ]
  },
  {
   "cell_type": "code",
   "execution_count": 175,
   "metadata": {},
   "outputs": [
    {
     "data": {
      "text/plain": [
       "0.0023150688456143515"
      ]
     },
     "execution_count": 175,
     "metadata": {},
     "output_type": "execute_result"
    }
   ],
   "source": [
    "# Mean squared error of residuals\n",
    "lm_h.mse_resid"
   ]
  },
  {
   "cell_type": "markdown",
   "metadata": {},
   "source": [
    "We can observe very good results ... which is not surprising since we have an almost perfect linear relationship between $Y_h$ and $X_h$."
   ]
  },
  {
   "cell_type": "code",
   "execution_count": 178,
   "metadata": {},
   "outputs": [
    {
     "data": {
      "image/png": "[encoded data removed]",
      "text/plain": [
       "<Figure size 360x360 with 1 Axes>"
      ]
     },
     "metadata": {},
     "output_type": "display_data"
    }
   ],
   "source": [
    "# f)\n",
    "# Scatter Plot \n",
    "sns.lmplot(x=\"X\", y=\"Y\", data=df_h, ci=None, line_kws={'color': 'red'});"
   ]
  },
  {
   "cell_type": "markdown",
   "metadata": {},
   "source": [
    "Almost identical... (perfect fit)"
   ]
  },
  {
   "cell_type": "markdown",
   "metadata": {},
   "source": [
    "## Task i)"
   ]
  },
  {
   "cell_type": "code",
   "execution_count": 181,
   "metadata": {
    "scrolled": true
   },
   "outputs": [
    {
     "name": "stdout",
     "output_type": "stream",
     "text": [
      "...................................\n",
      "95% CI noisier data (SD = 0.25):\n",
      "                  0         1\n",
      "Intercept -1.053391 -0.956152\n",
      "X          0.452771  0.538933\n",
      "...................................\n",
      "95% CI less noisy data (SD = 0.05):\n",
      "                  0         1\n",
      "Intercept -1.008217 -0.989007\n",
      "X          0.493478  0.512775\n"
     ]
    }
   ],
   "source": [
    "print('.'*35)\n",
    "print ('95% CI noisier data (SD = 0.25):')\n",
    "print(lm.conf_int())\n",
    "\n",
    "print('.'*35)\n",
    "print ('95% CI less noisy data (SD = 0.05):')\n",
    "print(lm_h.conf_int())"
   ]
  },
  {
   "cell_type": "markdown",
   "metadata": {},
   "source": [
    "For the less noisy data set, the confidence intervals for both coefficients are more narrow."
   ]
  },
  {
   "cell_type": "markdown",
   "metadata": {},
   "source": [
    "## Task j)"
   ]
  },
  {
   "cell_type": "code",
   "execution_count": 149,
   "metadata": {},
   "outputs": [
    {
     "name": "stdout",
     "output_type": "stream",
     "text": [
      "...................................\n",
      "SE for noisier data (SD = 0.25):\n"
     ]
    },
    {
     "data": {
      "text/plain": [
       "Intercept    0.024500\n",
       "X            0.021709\n",
       "dtype: float64"
      ]
     },
     "metadata": {},
     "output_type": "display_data"
    },
    {
     "name": "stdout",
     "output_type": "stream",
     "text": [
      "...................................\n",
      "SE for less noisy data (SD = 0.05):\n"
     ]
    },
    {
     "data": {
      "text/plain": [
       "Intercept    0.004385\n",
       "X            0.004502\n",
       "dtype: float64"
      ]
     },
     "execution_count": 149,
     "metadata": {},
     "output_type": "execute_result"
    }
   ],
   "source": [
    "# standard error (se) of paramters (b)\n",
    "print('.'*35)\n",
    "print ('SE for noisier data (SD = 0.25):')\n",
    "display(lm.bse)\n",
    "print('.'*35)\n",
    "print ('SE for less noisy data (SD = 0.05):')\n",
    "lm_h.bse"
   ]
  },
  {
   "cell_type": "markdown",
   "metadata": {},
   "source": [
    "The very small standard errors in the less noisy data set indicate that most sample means are similar to the population\n",
    "mean (i.e., our sample parameters accurately reflect the population mean)."
   ]
  }
 ],
 "metadata": {
  "interpreter": {
   "hash": "463226f144cc21b006ce6927bfc93dd00694e52c8bc6857abb6e555b983749e9"
  },
  "kernelspec": {
   "display_name": "Python 3.7.11 64-bit ('base': conda)",
   "name": "python3"
  },
  "language_info": {
   "codemirror_mode": {
    "name": "ipython",
    "version": 3
   },
   "file_extension": ".py",
   "mimetype": "text/x-python",
   "name": "python",
   "nbconvert_exporter": "python",
   "pygments_lexer": "ipython3",
   "version": "3.7.11"
  },
  "toc": {
   "base_numbering": 1,
   "nav_menu": {},
   "number_sections": true,
   "sideBar": true,
   "skip_h1_title": true,
   "title_cell": "Table of Contents",
   "title_sidebar": "Contents",
   "toc_cell": true,
   "toc_position": {},
   "toc_section_display": true,
   "toc_window_display": false
  },
  "varInspector": {
   "cols": {
    "lenName": 16,
    "lenType": 16,
    "lenVar": 40
   },
   "kernels_config": {
    "python": {
     "delete_cmd_postfix": "",
     "delete_cmd_prefix": "del ",
     "library": "var_list.py",
     "varRefreshCmd": "print(var_dic_list())"
    },
    "r": {
     "delete_cmd_postfix": ") ",
     "delete_cmd_prefix": "rm(",
     "library": "var_list.r",
     "varRefreshCmd": "cat(var_dic_list()) "
    }
   },
   "types_to_exclude": [
    "module",
    "function",
    "builtin_function_or_method",
    "instance",
    "_Feature"
   ],
   "window_display": false
  }
 },
 "nbformat": 4,
 "nbformat_minor": 2
}
