{
 "cells": [
  {
   "cell_type": "code",
   "execution_count": 355,
   "outputs": [],
   "source": [
    "# only use this option if you have a\n",
    "# code editor with dark background\n",
    "\n",
    "# from matplotlib import style\n",
    "# style.use('dark_background')"
   ],
   "metadata": {
    "collapsed": false,
    "pycharm": {
     "name": "#%%\n"
    }
   }
  },
  {
   "cell_type": "markdown",
   "metadata": {},
   "source": [
    "# Application 1: Programming Process\n",
    "\n",
    "The goal of this application is to give you a first impression of some important steps and tools in Python when\n",
    "doing data science projects.\n",
    "\n",
    "A typical data science project looks something like this (Wickham & Grolemund, 2016):"
   ]
  },
  {
   "cell_type": "code",
   "metadata": {
    "pycharm": {
     "name": "#%%\n"
    }
   },
   "source": [
    "from IPython.display import Image\n",
    "Image(filename='img/2_data_science_process.png')"
   ],
   "execution_count": 356,
   "outputs": [
    {
     "data": {
      "image/png": "[encoded data removed]",
      "text/plain": "<IPython.core.display.Image object>"
     },
     "execution_count": 356,
     "metadata": {},
     "output_type": "execute_result"
    }
   ]
  },
  {
   "cell_type": "markdown",
   "metadata": {},
   "source": [
    "## 1 Import data\n",
    "First you must **import** your data into Python. This typically means that you take data stored in a file, database,\n",
    "or web API, and load it into a DataFrame in Python (using Pandas).\n",
    "\n",
    "## 2 Tidying data\n",
    "Once you’ve imported your data, it is a good idea to tidy it.\n",
    "**Tidying** your data means storing it in a consistent form that matches the semantics of the dataset with\n",
    "the way it is stored. In brief, when your data is tidy, each column is a variable, and each row is an observation.\n",
    "Tidy data is important because the consistent structure lets you focus your struggle on questions about the data.\n",
    "\n",
    "## 3 Transform data\n",
    "Once you have tidy data, a common first step is to transform it.\n",
    "**Transformation** includes narrowing in on observations of interest\n",
    "(like all people in one city, or all data from the last year), creating new variables that are functions of\n",
    " existing variables (like computing velocity from speed and time), and calculating a set of\n",
    " summary statistics (like counts or means). Together, tidying and transforming are called wrangling,\n",
    " because getting your data in a form that’s natural to work with often feels like a fight!\n",
    "\n",
    "## 4 Visualize data\n",
    "Once you have tidy data with the variables you need, there are two main engines of knowledge generation:\n",
    "visualisation and modelling. These have complementary strengths and weaknesses so any real analysis\n",
    "will iterate between them many times.\n",
    "\n",
    "**Visualisation** is a fundamentally human activity. A good visualisation will show you things that\n",
    "you did not expect, or raise new questions about the data. A good visualisation might also hint that\n",
    "you’re asking the wrong question, or you need to collect different data.\n",
    "Visualisations can surprise you, but don’t scale particularly well because they require a human to interpret them.\n",
    "\n",
    "## 5 Models\n",
    "**Models** are complementary tools to visualisation. Once you have made your questions sufficiently precise,\n",
    "you can use a model to answer them. Models are a fundamentally mathematical or computational tool,\n",
    " so they generally scale well. But every model makes assumptions, and by its very nature a model cannot\n",
    " question its own assumptions. That means a model cannot fundamentally surprise you.\n",
    "\n",
    "## 6 Communication\n",
    "The last step is **communication**, an absolutely critical part of any data analysis project.\n",
    "It doesn't matter how well your models and visualisation have led you to understand the data unless\n",
    "you can also communicate your results to others.\n",
    "\n",
    "---\n",
    "\n",
    "# Programming\n",
    "\n",
    "Surrounding all the data science steps covered above is **programming**. Programming is a cross-cutting tool that you use in every part\n",
    "of the project. You don’t need to be an expert programmer to be a data scientist, but learning more about\n",
    "programming pays off because becoming a better programmer allows you to automate\n",
    "common tasks, and solve new problems with greater ease.\n",
    "\n",
    "To demonstrate the programming process, we examine a dataset which contains variables that could relate to **wages**\n",
    "for a group of males. The data is obtained from James et al. (2021)\n",
    "and consists of 12 variables for 3,000 people, so we have n = 3,000 observations and\n",
    "p = 12 variables (such as year, age, and more).\n",
    "\n",
    "First, we take a look at some important Python modules and functions.\n",
    "\n",
    "**Module overview:**\n",
    "\n",
    "  * **Pandas** provides a powerful set of methods to manipulate, filter, group, and\n",
    "transform data. To learn more about pandas, review this [short introduction to pandas](https://pandas.pydata.org/pandas-docs/stable/user_guide/10min.html), geared mainly for new users. You can see more complex recipes in the Cookbook.\n",
    "\n",
    "  * **Seaborn** is a Python data visualization library."
   ]
  },
  {
   "cell_type": "code",
   "execution_count": 357,
   "outputs": [],
   "source": [
    "# Customarily, we import as follows:\n",
    "import pandas as pd\n",
    "import seaborn as sns\n",
    "\n",
    "# seaborn settings\n",
    "custom_params = {\"axes.spines.right\": False, \"axes.spines.top\": False}\n",
    "sns.set_theme(style=\"ticks\", rc=custom_params, palette='winter')\n",
    "\n",
    "# show plots in jupyter\n",
    "%matplotlib inline"
   ],
   "metadata": {
    "collapsed": false,
    "pycharm": {
     "name": "#%%\n"
    }
   }
  },
  {
   "cell_type": "markdown",
   "metadata": {},
   "source": [
    "## 1 Import data"
   ]
  },
  {
   "cell_type": "code",
   "execution_count": 358,
   "metadata": {},
   "outputs": [],
   "source": [
    "# Load csv data from GitHub into pandas dataframes\n",
    "ROOT = \"https://raw.githubusercontent.com/kirenz/datasets/master/\"\n",
    "DATA = \"wage.csv\"\n",
    "\n",
    "df = pd.read_csv(ROOT + DATA)"
   ]
  },
  {
   "cell_type": "markdown",
   "metadata": {},
   "source": [
    "### 1.1 Data inspection"
   ]
  },
  {
   "cell_type": "markdown",
   "metadata": {},
   "source": [
    "Let's take a look at the variables (also called columns or features) in the data set."
   ]
  },
  {
   "cell_type": "code",
   "execution_count": 359,
   "metadata": {},
   "outputs": [
    {
     "data": {
      "text/plain": "   Unnamed: 0  year  age            maritl      race        education  \\\n0      231655  2006   18  1. Never Married  1. White     1. < HS Grad   \n1       86582  2004   24  1. Never Married  1. White  4. College Grad   \n2      161300  2003   45        2. Married  1. White  3. Some College   \n3      155159  2003   43        2. Married  3. Asian  4. College Grad   \n4       11443  2005   50       4. Divorced  1. White       2. HS Grad   \n\n               region        jobclass          health health_ins   logwage  \\\n0  2. Middle Atlantic   1. Industrial       1. <=Good      2. No  4.318063   \n1  2. Middle Atlantic  2. Information  2. >=Very Good      2. No  4.255273   \n2  2. Middle Atlantic   1. Industrial       1. <=Good     1. Yes  4.875061   \n3  2. Middle Atlantic  2. Information  2. >=Very Good     1. Yes  5.041393   \n4  2. Middle Atlantic  2. Information       1. <=Good     1. Yes  4.318063   \n\n         wage  \n0   75.043154  \n1   70.476020  \n2  130.982177  \n3  154.685293  \n4   75.043154  ",
      "text/html": "<div>\n<style scoped>\n    .dataframe tbody tr th:only-of-type {\n        vertical-align: middle;\n    }\n\n    .dataframe tbody tr th {\n        vertical-align: top;\n    }\n\n    .dataframe thead th {\n        text-align: right;\n    }\n</style>\n<table border=\"1\" class=\"dataframe\">\n  <thead>\n    <tr style=\"text-align: right;\">\n      <th></th>\n      <th>Unnamed: 0</th>\n      <th>year</th>\n      <th>age</th>\n      <th>maritl</th>\n      <th>race</th>\n      <th>education</th>\n      <th>region</th>\n      <th>jobclass</th>\n      <th>health</th>\n      <th>health_ins</th>\n      <th>logwage</th>\n      <th>wage</th>\n    </tr>\n  </thead>\n  <tbody>\n    <tr>\n      <th>0</th>\n      <td>231655</td>\n      <td>2006</td>\n      <td>18</td>\n      <td>1. Never Married</td>\n      <td>1. White</td>\n      <td>1. &lt; HS Grad</td>\n      <td>2. Middle Atlantic</td>\n      <td>1. Industrial</td>\n      <td>1. &lt;=Good</td>\n      <td>2. No</td>\n      <td>4.318063</td>\n      <td>75.043154</td>\n    </tr>\n    <tr>\n      <th>1</th>\n      <td>86582</td>\n      <td>2004</td>\n      <td>24</td>\n      <td>1. Never Married</td>\n      <td>1. White</td>\n      <td>4. College Grad</td>\n      <td>2. Middle Atlantic</td>\n      <td>2. Information</td>\n      <td>2. &gt;=Very Good</td>\n      <td>2. No</td>\n      <td>4.255273</td>\n      <td>70.476020</td>\n    </tr>\n    <tr>\n      <th>2</th>\n      <td>161300</td>\n      <td>2003</td>\n      <td>45</td>\n      <td>2. Married</td>\n      <td>1. White</td>\n      <td>3. Some College</td>\n      <td>2. Middle Atlantic</td>\n      <td>1. Industrial</td>\n      <td>1. &lt;=Good</td>\n      <td>1. Yes</td>\n      <td>4.875061</td>\n      <td>130.982177</td>\n    </tr>\n    <tr>\n      <th>3</th>\n      <td>155159</td>\n      <td>2003</td>\n      <td>43</td>\n      <td>2. Married</td>\n      <td>3. Asian</td>\n      <td>4. College Grad</td>\n      <td>2. Middle Atlantic</td>\n      <td>2. Information</td>\n      <td>2. &gt;=Very Good</td>\n      <td>1. Yes</td>\n      <td>5.041393</td>\n      <td>154.685293</td>\n    </tr>\n    <tr>\n      <th>4</th>\n      <td>11443</td>\n      <td>2005</td>\n      <td>50</td>\n      <td>4. Divorced</td>\n      <td>1. White</td>\n      <td>2. HS Grad</td>\n      <td>2. Middle Atlantic</td>\n      <td>2. Information</td>\n      <td>1. &lt;=Good</td>\n      <td>1. Yes</td>\n      <td>4.318063</td>\n      <td>75.043154</td>\n    </tr>\n  </tbody>\n</table>\n</div>"
     },
     "execution_count": 359,
     "metadata": {},
     "output_type": "execute_result"
    }
   ],
   "source": [
    "# show the first rows (i.e. head of the DataFrame)\n",
    "df.head()"
   ]
  },
  {
   "cell_type": "code",
   "execution_count": 360,
   "outputs": [
    {
     "data": {
      "text/plain": "      Unnamed: 0  year  age            maritl      race        education  \\\n2995      376816  2008   44        2. Married  1. White  3. Some College   \n2996      302281  2007   30        2. Married  1. White       2. HS Grad   \n2997       10033  2005   27        2. Married  2. Black     1. < HS Grad   \n2998       14375  2005   27  1. Never Married  1. White  3. Some College   \n2999      453557  2009   55      5. Separated  1. White       2. HS Grad   \n\n                  region       jobclass          health health_ins   logwage  \\\n2995  2. Middle Atlantic  1. Industrial  2. >=Very Good     1. Yes  5.041393   \n2996  2. Middle Atlantic  1. Industrial  2. >=Very Good      2. No  4.602060   \n2997  2. Middle Atlantic  1. Industrial       1. <=Good      2. No  4.193125   \n2998  2. Middle Atlantic  1. Industrial  2. >=Very Good     1. Yes  4.477121   \n2999  2. Middle Atlantic  1. Industrial       1. <=Good     1. Yes  4.505150   \n\n            wage  \n2995  154.685293  \n2996   99.689464  \n2997   66.229408  \n2998   87.981033  \n2999   90.481913  ",
      "text/html": "<div>\n<style scoped>\n    .dataframe tbody tr th:only-of-type {\n        vertical-align: middle;\n    }\n\n    .dataframe tbody tr th {\n        vertical-align: top;\n    }\n\n    .dataframe thead th {\n        text-align: right;\n    }\n</style>\n<table border=\"1\" class=\"dataframe\">\n  <thead>\n    <tr style=\"text-align: right;\">\n      <th></th>\n      <th>Unnamed: 0</th>\n      <th>year</th>\n      <th>age</th>\n      <th>maritl</th>\n      <th>race</th>\n      <th>education</th>\n      <th>region</th>\n      <th>jobclass</th>\n      <th>health</th>\n      <th>health_ins</th>\n      <th>logwage</th>\n      <th>wage</th>\n    </tr>\n  </thead>\n  <tbody>\n    <tr>\n      <th>2995</th>\n      <td>376816</td>\n      <td>2008</td>\n      <td>44</td>\n      <td>2. Married</td>\n      <td>1. White</td>\n      <td>3. Some College</td>\n      <td>2. Middle Atlantic</td>\n      <td>1. Industrial</td>\n      <td>2. &gt;=Very Good</td>\n      <td>1. Yes</td>\n      <td>5.041393</td>\n      <td>154.685293</td>\n    </tr>\n    <tr>\n      <th>2996</th>\n      <td>302281</td>\n      <td>2007</td>\n      <td>30</td>\n      <td>2. Married</td>\n      <td>1. White</td>\n      <td>2. HS Grad</td>\n      <td>2. Middle Atlantic</td>\n      <td>1. Industrial</td>\n      <td>2. &gt;=Very Good</td>\n      <td>2. No</td>\n      <td>4.602060</td>\n      <td>99.689464</td>\n    </tr>\n    <tr>\n      <th>2997</th>\n      <td>10033</td>\n      <td>2005</td>\n      <td>27</td>\n      <td>2. Married</td>\n      <td>2. Black</td>\n      <td>1. &lt; HS Grad</td>\n      <td>2. Middle Atlantic</td>\n      <td>1. Industrial</td>\n      <td>1. &lt;=Good</td>\n      <td>2. No</td>\n      <td>4.193125</td>\n      <td>66.229408</td>\n    </tr>\n    <tr>\n      <th>2998</th>\n      <td>14375</td>\n      <td>2005</td>\n      <td>27</td>\n      <td>1. Never Married</td>\n      <td>1. White</td>\n      <td>3. Some College</td>\n      <td>2. Middle Atlantic</td>\n      <td>1. Industrial</td>\n      <td>2. &gt;=Very Good</td>\n      <td>1. Yes</td>\n      <td>4.477121</td>\n      <td>87.981033</td>\n    </tr>\n    <tr>\n      <th>2999</th>\n      <td>453557</td>\n      <td>2009</td>\n      <td>55</td>\n      <td>5. Separated</td>\n      <td>1. White</td>\n      <td>2. HS Grad</td>\n      <td>2. Middle Atlantic</td>\n      <td>1. Industrial</td>\n      <td>1. &lt;=Good</td>\n      <td>1. Yes</td>\n      <td>4.505150</td>\n      <td>90.481913</td>\n    </tr>\n  </tbody>\n</table>\n</div>"
     },
     "execution_count": 360,
     "metadata": {},
     "output_type": "execute_result"
    }
   ],
   "source": [
    "# show the last rows (i.e. tail of the DataFrame)\n",
    "df.tail()"
   ],
   "metadata": {
    "collapsed": false,
    "pycharm": {
     "name": "#%%\n"
    }
   }
  },
  {
   "cell_type": "code",
   "execution_count": 361,
   "metadata": {
    "scrolled": true
   },
   "outputs": [
    {
     "data": {
      "text/plain": "Index(['Unnamed: 0', 'year', 'age', 'maritl', 'race', 'education', 'region',\n       'jobclass', 'health', 'health_ins', 'logwage', 'wage'],\n      dtype='object')"
     },
     "execution_count": 361,
     "metadata": {},
     "output_type": "execute_result"
    }
   ],
   "source": [
    "# show all variables in the data set\n",
    "df.columns"
   ]
  },
  {
   "cell_type": "code",
   "execution_count": 362,
   "outputs": [
    {
     "name": "stdout",
     "output_type": "stream",
     "text": [
      "<class 'pandas.core.frame.DataFrame'>\n",
      "RangeIndex: 3000 entries, 0 to 2999\n",
      "Data columns (total 12 columns):\n",
      " #   Column      Non-Null Count  Dtype  \n",
      "---  ------      --------------  -----  \n",
      " 0   Unnamed: 0  3000 non-null   int64  \n",
      " 1   year        3000 non-null   int64  \n",
      " 2   age         3000 non-null   int64  \n",
      " 3   maritl      3000 non-null   object \n",
      " 4   race        3000 non-null   object \n",
      " 5   education   3000 non-null   object \n",
      " 6   region      3000 non-null   object \n",
      " 7   jobclass    3000 non-null   object \n",
      " 8   health      3000 non-null   object \n",
      " 9   health_ins  3000 non-null   object \n",
      " 10  logwage     3000 non-null   float64\n",
      " 11  wage        3000 non-null   float64\n",
      "dtypes: float64(2), int64(3), object(7)\n",
      "memory usage: 281.4+ KB\n"
     ]
    }
   ],
   "source": [
    "# data overview (with meta data)\n",
    "df.info()"
   ],
   "metadata": {
    "collapsed": false,
    "pycharm": {
     "name": "#%%\n"
    }
   }
  },
  {
   "cell_type": "markdown",
   "metadata": {},
   "source": [
    "## 2 Tidying data\n",
    "\n",
    "The variable \"Unnamed: 0\" seems to be some kind of identification number per employee. Let's rename the variable\n",
    "and check if we have duplicates in our dataset."
   ]
  },
  {
   "cell_type": "code",
   "execution_count": 363,
   "metadata": {},
   "outputs": [],
   "source": [
    "# rename variable \"Unnamed: 0\" to \"id\"\n",
    "df = df.rename(index=str, columns={\"Unnamed: 0\": \"id\"})"
   ]
  },
  {
   "cell_type": "markdown",
   "source": [
    "In Jupyter, we have several options to present output. One way is to just run a cod block\n",
    "which produces only one output:"
   ],
   "metadata": {
    "collapsed": false
   }
  },
  {
   "cell_type": "code",
   "execution_count": 364,
   "outputs": [
    {
     "data": {
      "text/plain": "3000"
     },
     "execution_count": 364,
     "metadata": {},
     "output_type": "execute_result"
    }
   ],
   "source": [
    "# show the length of the variable id (i.e. the number of observations)\n",
    "len(df[\"id\"])"
   ],
   "metadata": {
    "collapsed": false,
    "pycharm": {
     "name": "#%%\n"
    }
   }
  },
  {
   "cell_type": "markdown",
   "source": [
    "If we need to present multiple outputs or add some text, we can use the print()\n",
    "function. See the [Python documentation](https://docs.python.org/3/tutorial/inputoutput.html) for the\n",
    "different `print()` options."
   ],
   "metadata": {
    "collapsed": false
   }
  },
  {
   "cell_type": "code",
   "execution_count": 365,
   "outputs": [
    {
     "name": "stdout",
     "output_type": "stream",
     "text": [
      "IDs: 3000\n",
      "Unique IDs: 3000\n"
     ]
    }
   ],
   "source": [
    "# check for duplicates and print results (if the two numbers match, we have no duplicates)\n",
    "# show the length of the variable id (i.e. the number of observations)\n",
    "print(\"IDs:\", len(df[\"id\"]))\n",
    "\n",
    "# count the number of individual id's\n",
    "print(\"Unique IDs:\", len(df[\"id\"].value_counts()))"
   ],
   "metadata": {
    "collapsed": false,
    "pycharm": {
     "name": "#%%\n"
    }
   }
  },
  {
   "cell_type": "markdown",
   "metadata": {},
   "source": [
    "Suppose we already decided to only use a specific set of variables (`wage`, `year`, `age` and `education`), we can select them\n",
    "and drop the other variables.\n",
    "\n",
    "Note that the variable selection process should always be based on solid theories and other insights.\n",
    "We also keep the `id`-Variable to identify the observations and to be able to merge\n",
    "the data with one of the dropped variables if necessary."
   ]
  },
  {
   "cell_type": "code",
   "execution_count": 366,
   "metadata": {},
   "outputs": [],
   "source": [
    "# select variables\n",
    "df = df[['id','year', 'age', 'education', 'wage']]"
   ]
  },
  {
   "cell_type": "code",
   "execution_count": 367,
   "metadata": {
    "scrolled": true
   },
   "outputs": [
    {
     "name": "stdout",
     "output_type": "stream",
     "text": [
      "<class 'pandas.core.frame.DataFrame'>\n",
      "Index: 3000 entries, 0 to 2999\n",
      "Data columns (total 5 columns):\n",
      " #   Column     Non-Null Count  Dtype  \n",
      "---  ------     --------------  -----  \n",
      " 0   id         3000 non-null   int64  \n",
      " 1   year       3000 non-null   int64  \n",
      " 2   age        3000 non-null   int64  \n",
      " 3   education  3000 non-null   object \n",
      " 4   wage       3000 non-null   float64\n",
      "dtypes: float64(1), int64(3), object(1)\n",
      "memory usage: 140.6+ KB\n"
     ]
    }
   ],
   "source": [
    "# data overview (with meta data)\n",
    "df.info()"
   ]
  },
  {
   "cell_type": "code",
   "execution_count": 368,
   "metadata": {
    "scrolled": true
   },
   "outputs": [
    {
     "data": {
      "text/plain": "       id  year  age        education        wage\n0  231655  2006   18     1. < HS Grad   75.043154\n1   86582  2004   24  4. College Grad   70.476020\n2  161300  2003   45  3. Some College  130.982177",
      "text/html": "<div>\n<style scoped>\n    .dataframe tbody tr th:only-of-type {\n        vertical-align: middle;\n    }\n\n    .dataframe tbody tr th {\n        vertical-align: top;\n    }\n\n    .dataframe thead th {\n        text-align: right;\n    }\n</style>\n<table border=\"1\" class=\"dataframe\">\n  <thead>\n    <tr style=\"text-align: right;\">\n      <th></th>\n      <th>id</th>\n      <th>year</th>\n      <th>age</th>\n      <th>education</th>\n      <th>wage</th>\n    </tr>\n  </thead>\n  <tbody>\n    <tr>\n      <th>0</th>\n      <td>231655</td>\n      <td>2006</td>\n      <td>18</td>\n      <td>1. &lt; HS Grad</td>\n      <td>75.043154</td>\n    </tr>\n    <tr>\n      <th>1</th>\n      <td>86582</td>\n      <td>2004</td>\n      <td>24</td>\n      <td>4. College Grad</td>\n      <td>70.476020</td>\n    </tr>\n    <tr>\n      <th>2</th>\n      <td>161300</td>\n      <td>2003</td>\n      <td>45</td>\n      <td>3. Some College</td>\n      <td>130.982177</td>\n    </tr>\n  </tbody>\n</table>\n</div>"
     },
     "execution_count": 368,
     "metadata": {},
     "output_type": "execute_result"
    }
   ],
   "source": [
    "# show the first 3 rows\n",
    "df.head(3)"
   ]
  },
  {
   "cell_type": "code",
   "execution_count": 369,
   "metadata": {},
   "outputs": [],
   "source": [
    "# rename variable \"education\" to \"edu\"\n",
    "df = df.rename(index=str, columns={\"education\": \"edu\"})"
   ]
  },
  {
   "cell_type": "code",
   "execution_count": 370,
   "metadata": {},
   "outputs": [
    {
     "data": {
      "text/plain": "2. HS Grad            971\n4. College Grad       685\n3. Some College       650\n5. Advanced Degree    426\n1. < HS Grad          268\nName: edu, dtype: int64"
     },
     "execution_count": 370,
     "metadata": {},
     "output_type": "execute_result"
    }
   ],
   "source": [
    "# check levels and frequency of edu\n",
    "df['edu'].value_counts() "
   ]
  },
  {
   "cell_type": "markdown",
   "metadata": {},
   "source": [
    "## 2.1 Data types\n",
    "\n",
    "Pandas offers different options to change the data type of a variable.\n",
    "\n",
    "To change data into a categorical format, you can use the following code (see this\n",
    "[pandas tutorial to learn more about categorical data](https://pandas.pydata.org/docs/user_guide/categorical.html)):\n",
    "\n",
    "`df['variable'] = pd.Categorical(df['variable'])`"
   ]
  },
  {
   "cell_type": "code",
   "execution_count": 371,
   "outputs": [],
   "source": [
    "# convert to categorical (nominal)\n",
    "df['id'] = pd.Categorical(df['id'])\n",
    "df['year'] = pd.Categorical(df['year'])"
   ],
   "metadata": {
    "collapsed": false,
    "pycharm": {
     "name": "#%%\n"
    }
   }
  },
  {
   "cell_type": "markdown",
   "source": [
    "If we need to convert to a ordinal variable with pandas [CategoricalDtype](https://pandas.pydata.org/pandas-docs/stable/categorical.html)"
   ],
   "metadata": {
    "collapsed": false,
    "pycharm": {
     "name": "#%% md\n"
    }
   }
  },
  {
   "cell_type": "code",
   "execution_count": 372,
   "metadata": {},
   "outputs": [],
   "source": [
    "# convert to ordinal\n",
    "cat_edu = pd.CategoricalDtype(categories=['1. < HS Grad',\n",
    "                             '2. HS Grad', \n",
    "                             '3. Some College', \n",
    "                             '4. College Grad', \n",
    "                             '5. Advanced Degree'],\n",
    "                            ordered=True)\n",
    "\n",
    "df.edu = df.edu.astype(cat_edu)"
   ]
  },
  {
   "cell_type": "code",
   "execution_count": 373,
   "outputs": [
    {
     "data": {
      "text/plain": "Index(['1. < HS Grad', '2. HS Grad', '3. Some College', '4. College Grad',\n       '5. Advanced Degree'],\n      dtype='object')"
     },
     "execution_count": 373,
     "metadata": {},
     "output_type": "execute_result"
    }
   ],
   "source": [
    "# show levels\n",
    "df['edu'].cat.categories"
   ],
   "metadata": {
    "collapsed": false,
    "pycharm": {
     "name": "#%%\n"
    }
   }
  },
  {
   "cell_type": "code",
   "execution_count": 374,
   "metadata": {},
   "outputs": [
    {
     "data": {
      "text/plain": "id      category\nyear    category\nage        int64\nedu     category\nwage     float64\ndtype: object"
     },
     "execution_count": 374,
     "metadata": {},
     "output_type": "execute_result"
    }
   ],
   "source": [
    "# show datatype\n",
    "df.dtypes"
   ]
  },
  {
   "cell_type": "markdown",
   "metadata": {},
   "source": [
    "If we need to transform variables into a **numerical format**, we can transform the data with\n",
    "`pd.to_numeric` [(see Pandas documentation)](https://pandas.pydata.org/pandas-docs/stable/generated/pandas.to_numeric.html):\n",
    "\n",
    "If the numeric data contains strings, we need to replace them with NaN (not a number).\n",
    "Otherwise, we get an error message. Therefore, use errors='coerce' ...\n",
    "\n",
    "`pandas.to_numeric(arg, errors='coerce', downcast=None)`\n",
    "\n",
    "The options to handle errors are as follows:\n",
    "\n",
    "- errors : {‘ignore’, ‘raise’, ‘coerce’}, default ‘raise’\n",
    "    - If `raise`, then invalid parsing will raise an exception\n",
    "    - If `coerce`, then invalid parsing will be set as NaN\n",
    "    - If `ignore`, then invalid parsing will return the input\n",
    "\n",
    "\n",
    "### 2.2 Handle missing values"
   ]
  },
  {
   "cell_type": "markdown",
   "metadata": {},
   "source": [
    "Next, we need to check if there are missing cases in the data set.\n",
    "By “missing” we simply mean NA (“not available”).\n",
    "\n",
    "Many datasets arrive with missing data, either because it exists and was not collected or it never existed.\n",
    "Having missing values in a dataset can cause errors with some algorithms.\n",
    "Therefore, we need to take care of this issue (we cover the topic of missing values in one of the following applications in detail)."
   ]
  },
  {
   "cell_type": "code",
   "execution_count": 375,
   "metadata": {},
   "outputs": [
    {
     "data": {
      "text/plain": "<Figure size 432x288 with 1 Axes>",
      "image/png": "[encoded data removed]"
     },
     "metadata": {
      "needs_background": "light"
     },
     "output_type": "display_data"
    }
   ],
   "source": [
    "# show missing values (missing values - if present - will be displayed in yellow )\n",
    "sns.heatmap(df.isnull(), yticklabels=False, cbar=False, cmap='viridis');"
   ]
  },
  {
   "cell_type": "markdown",
   "metadata": {},
   "source": [
    "We can also check the column-wise distribution of null values:"
   ]
  },
  {
   "cell_type": "code",
   "execution_count": 376,
   "metadata": {},
   "outputs": [
    {
     "name": "stdout",
     "output_type": "stream",
     "text": [
      "id      0\n",
      "year    0\n",
      "age     0\n",
      "edu     0\n",
      "wage    0\n",
      "dtype: int64\n"
     ]
    }
   ],
   "source": [
    "print(df.isnull().sum())"
   ]
  },
  {
   "cell_type": "markdown",
   "metadata": {},
   "source": [
    "In this dataset, there are no missing values present.\n",
    "\n",
    "If we observe **missing values** in the df, we could drop them all together with this code:\n",
    "\n",
    "`df = df.dropna()`\n",
    "\n",
    "However, be careful not to drop many observations if just one variable is the cause for the\n",
    " missing values. In that case, it could be reasonable to only drop the variable:\n",
    "\n",
    "`df = df.drop('variable', axis=1)`\n",
    "\n",
    "However, we will usually use other methods to fill in missing values (e.g. imputate using the mean)"
   ]
  },
  {
   "cell_type": "markdown",
   "metadata": {},
   "source": [
    "## 3 Transform data"
   ]
  },
  {
   "cell_type": "markdown",
   "metadata": {},
   "source": [
    "### 3.1 Descriptive statistics"
   ]
  },
  {
   "cell_type": "markdown",
   "metadata": {},
   "source": [
    "First, we obtain some common statistics:"
   ]
  },
  {
   "cell_type": "code",
   "execution_count": 377,
   "outputs": [
    {
     "data": {
      "text/plain": "               age         wage\ncount  3000.000000  3000.000000\nmean     42.414667   111.703608\nstd      11.542406    41.728595\nmin      18.000000    20.085537\n25%      33.750000    85.383940\n50%      42.000000   104.921507\n75%      51.000000   128.680488\nmax      80.000000   318.342430",
      "text/html": "<div>\n<style scoped>\n    .dataframe tbody tr th:only-of-type {\n        vertical-align: middle;\n    }\n\n    .dataframe tbody tr th {\n        vertical-align: top;\n    }\n\n    .dataframe thead th {\n        text-align: right;\n    }\n</style>\n<table border=\"1\" class=\"dataframe\">\n  <thead>\n    <tr style=\"text-align: right;\">\n      <th></th>\n      <th>age</th>\n      <th>wage</th>\n    </tr>\n  </thead>\n  <tbody>\n    <tr>\n      <th>count</th>\n      <td>3000.000000</td>\n      <td>3000.000000</td>\n    </tr>\n    <tr>\n      <th>mean</th>\n      <td>42.414667</td>\n      <td>111.703608</td>\n    </tr>\n    <tr>\n      <th>std</th>\n      <td>11.542406</td>\n      <td>41.728595</td>\n    </tr>\n    <tr>\n      <th>min</th>\n      <td>18.000000</td>\n      <td>20.085537</td>\n    </tr>\n    <tr>\n      <th>25%</th>\n      <td>33.750000</td>\n      <td>85.383940</td>\n    </tr>\n    <tr>\n      <th>50%</th>\n      <td>42.000000</td>\n      <td>104.921507</td>\n    </tr>\n    <tr>\n      <th>75%</th>\n      <td>51.000000</td>\n      <td>128.680488</td>\n    </tr>\n    <tr>\n      <th>max</th>\n      <td>80.000000</td>\n      <td>318.342430</td>\n    </tr>\n  </tbody>\n</table>\n</div>"
     },
     "execution_count": 377,
     "metadata": {},
     "output_type": "execute_result"
    }
   ],
   "source": [
    "# summary statistics for all numerical columns\n",
    "df.describe()"
   ],
   "metadata": {
    "collapsed": false,
    "pycharm": {
     "name": "#%%\n"
    }
   }
  },
  {
   "cell_type": "code",
   "execution_count": 378,
   "outputs": [
    {
     "data": {
      "text/plain": "          id  year         edu\ncount   3000  3000        3000\nunique  3000     7           5\ntop     7373  2003  2. HS Grad\nfreq       1   513         971",
      "text/html": "<div>\n<style scoped>\n    .dataframe tbody tr th:only-of-type {\n        vertical-align: middle;\n    }\n\n    .dataframe tbody tr th {\n        vertical-align: top;\n    }\n\n    .dataframe thead th {\n        text-align: right;\n    }\n</style>\n<table border=\"1\" class=\"dataframe\">\n  <thead>\n    <tr style=\"text-align: right;\">\n      <th></th>\n      <th>id</th>\n      <th>year</th>\n      <th>edu</th>\n    </tr>\n  </thead>\n  <tbody>\n    <tr>\n      <th>count</th>\n      <td>3000</td>\n      <td>3000</td>\n      <td>3000</td>\n    </tr>\n    <tr>\n      <th>unique</th>\n      <td>3000</td>\n      <td>7</td>\n      <td>5</td>\n    </tr>\n    <tr>\n      <th>top</th>\n      <td>7373</td>\n      <td>2003</td>\n      <td>2. HS Grad</td>\n    </tr>\n    <tr>\n      <th>freq</th>\n      <td>1</td>\n      <td>513</td>\n      <td>971</td>\n    </tr>\n  </tbody>\n</table>\n</div>"
     },
     "execution_count": 378,
     "metadata": {},
     "output_type": "execute_result"
    }
   ],
   "source": [
    "# summary statistics for all categorical columns\n",
    "df.describe(include=['category'])"
   ],
   "metadata": {
    "collapsed": false,
    "pycharm": {
     "name": "#%%\n"
    }
   }
  },
  {
   "cell_type": "markdown",
   "source": [
    "Compare summary statistics for specific groups in the data:"
   ],
   "metadata": {
    "collapsed": false
   }
  },
  {
   "cell_type": "code",
   "execution_count": 379,
   "outputs": [
    {
     "data": {
      "text/plain": "                    count       mean        std   min   25%   50%    75%   max\nedu                                                                           \n1. < HS Grad        268.0  41.794776  12.611111  18.0  33.0  41.5  50.25  75.0\n2. HS Grad          971.0  42.217302  12.023480  18.0  33.0  42.0  50.00  80.0\n3. Some College     650.0  40.887692  11.523327  18.0  32.0  40.0  49.00  80.0\n4. College Grad     685.0  42.773723  10.902406  22.0  34.0  43.0  51.00  76.0\n5. Advanced Degree  426.0  45.007042  10.263468  25.0  38.0  44.0  53.00  76.0",
      "text/html": "<div>\n<style scoped>\n    .dataframe tbody tr th:only-of-type {\n        vertical-align: middle;\n    }\n\n    .dataframe tbody tr th {\n        vertical-align: top;\n    }\n\n    .dataframe thead th {\n        text-align: right;\n    }\n</style>\n<table border=\"1\" class=\"dataframe\">\n  <thead>\n    <tr style=\"text-align: right;\">\n      <th></th>\n      <th>count</th>\n      <th>mean</th>\n      <th>std</th>\n      <th>min</th>\n      <th>25%</th>\n      <th>50%</th>\n      <th>75%</th>\n      <th>max</th>\n    </tr>\n    <tr>\n      <th>edu</th>\n      <th></th>\n      <th></th>\n      <th></th>\n      <th></th>\n      <th></th>\n      <th></th>\n      <th></th>\n      <th></th>\n    </tr>\n  </thead>\n  <tbody>\n    <tr>\n      <th>1. &lt; HS Grad</th>\n      <td>268.0</td>\n      <td>41.794776</td>\n      <td>12.611111</td>\n      <td>18.0</td>\n      <td>33.0</td>\n      <td>41.5</td>\n      <td>50.25</td>\n      <td>75.0</td>\n    </tr>\n    <tr>\n      <th>2. HS Grad</th>\n      <td>971.0</td>\n      <td>42.217302</td>\n      <td>12.023480</td>\n      <td>18.0</td>\n      <td>33.0</td>\n      <td>42.0</td>\n      <td>50.00</td>\n      <td>80.0</td>\n    </tr>\n    <tr>\n      <th>3. Some College</th>\n      <td>650.0</td>\n      <td>40.887692</td>\n      <td>11.523327</td>\n      <td>18.0</td>\n      <td>32.0</td>\n      <td>40.0</td>\n      <td>49.00</td>\n      <td>80.0</td>\n    </tr>\n    <tr>\n      <th>4. College Grad</th>\n      <td>685.0</td>\n      <td>42.773723</td>\n      <td>10.902406</td>\n      <td>22.0</td>\n      <td>34.0</td>\n      <td>43.0</td>\n      <td>51.00</td>\n      <td>76.0</td>\n    </tr>\n    <tr>\n      <th>5. Advanced Degree</th>\n      <td>426.0</td>\n      <td>45.007042</td>\n      <td>10.263468</td>\n      <td>25.0</td>\n      <td>38.0</td>\n      <td>44.0</td>\n      <td>53.00</td>\n      <td>76.0</td>\n    </tr>\n  </tbody>\n</table>\n</div>"
     },
     "execution_count": 379,
     "metadata": {},
     "output_type": "execute_result"
    }
   ],
   "source": [
    "# summary statistics by groups\n",
    "df['age'].groupby(df['edu']).describe()"
   ],
   "metadata": {
    "collapsed": false,
    "pycharm": {
     "name": "#%%\n"
    }
   }
  },
  {
   "cell_type": "markdown",
   "source": [
    "Some examples of how to calculate simple statistics:"
   ],
   "metadata": {
    "collapsed": false
   }
  },
  {
   "cell_type": "code",
   "execution_count": 380,
   "metadata": {},
   "outputs": [
    {
     "name": "stdout",
     "output_type": "stream",
     "text": [
      "The precise mean of age is 42.41466666666667\n",
      "The rounded mean of age is 42\n",
      "The rounded mean of age with two decimals is 42.41\n",
      "The median of age is 42.0\n"
     ]
    }
   ],
   "source": [
    "# calculation of the mean (e.g. for age)\n",
    "age_mean = df[\"age\"].mean()\n",
    "\n",
    "# calculation of the median (e.g. for age)\n",
    "age_median =  df[\"age\"].median()\n",
    "\n",
    "# print the result (e.g., age_mean)\n",
    "print('The precise mean of age is', age_mean)\n",
    "\n",
    "# print the rounded result\n",
    "print('The rounded mean of age is', round(age_mean))\n",
    "\n",
    "# print the round result (to two decimals) (this is the preferred option)\n",
    "print('The rounded mean of age with two decimals is', round(age_mean, 2))\n",
    "\n",
    "# use a function inside print()\n",
    "print('The median of age is', df[\"age\"].median())"
   ]
  },
  {
   "cell_type": "code",
   "execution_count": 381,
   "outputs": [
    {
     "data": {
      "text/plain": "0    40\ndtype: int64"
     },
     "execution_count": 381,
     "metadata": {},
     "output_type": "execute_result"
    }
   ],
   "source": [
    "# calculation of the mode\n",
    "df['age'].mode()"
   ],
   "metadata": {
    "collapsed": false,
    "pycharm": {
     "name": "#%%\n"
    }
   }
  },
  {
   "cell_type": "code",
   "execution_count": 382,
   "outputs": [
    {
     "data": {
      "text/plain": "0.25    33.75\n0.50    42.00\n0.75    51.00\nName: age, dtype: float64"
     },
     "execution_count": 382,
     "metadata": {},
     "output_type": "execute_result"
    }
   ],
   "source": [
    "# quantiles\n",
    "df['age'].quantile([.25, .5, .75])"
   ],
   "metadata": {
    "collapsed": false,
    "pycharm": {
     "name": "#%%\n"
    }
   }
  },
  {
   "cell_type": "code",
   "execution_count": 383,
   "metadata": {},
   "outputs": [
    {
     "data": {
      "text/plain": "62"
     },
     "execution_count": 383,
     "metadata": {},
     "output_type": "execute_result"
    }
   ],
   "source": [
    "# Range\n",
    "df['age'].max() - df['age'].min()"
   ]
  },
  {
   "cell_type": "code",
   "execution_count": 384,
   "metadata": {},
   "outputs": [
    {
     "data": {
      "text/plain": "11.54"
     },
     "execution_count": 384,
     "metadata": {},
     "output_type": "execute_result"
    }
   ],
   "source": [
    "# standard deviation\n",
    "round(df['age'].std(),2)\n"
   ]
  },
  {
   "cell_type": "markdown",
   "metadata": {},
   "source": [
    "## 4. Visualize data"
   ]
  },
  {
   "cell_type": "markdown",
   "metadata": {},
   "source": [
    "### 4.1 Distribution of Variables"
   ]
  },
  {
   "cell_type": "markdown",
   "metadata": {},
   "source": [
    "How you visualize the distribution of a variable will depend on whether the variable is categorical or continuous.\n",
    "The excellent site [From Data to Viz](https://www.data-to-viz.com/) leads you to the most appropriate graph for your\n",
    "data. It also links to the code to build it and lists common caveats you should avoid.\n",
    "\n",
    "For example, to examine the distribution of a categorical variable, we could use a bar or count plot."
   ]
  },
  {
   "cell_type": "code",
   "execution_count": 385,
   "metadata": {},
   "outputs": [
    {
     "data": {
      "text/plain": "<Figure size 432x288 with 1 Axes>",
      "image/png": "[encoded data removed]"
     },
     "metadata": {
      "needs_background": "light"
     },
     "output_type": "display_data"
    }
   ],
   "source": [
    "# horizontal count plot (show the counts of observations in each categorical bin)\n",
    "sns.countplot(y='edu', data=df);"
   ]
  },
  {
   "cell_type": "markdown",
   "metadata": {},
   "source": [
    "A variable is **continuous** if it can take any of an infinite set of ordered values.\n",
    "\n",
    "To examine the distribution of a continuous variable, we could use a **histogram**:"
   ]
  },
  {
   "cell_type": "code",
   "execution_count": 386,
   "metadata": {},
   "outputs": [
    {
     "data": {
      "text/plain": "<Figure size 432x288 with 2 Axes>",
      "image/png": "[encoded data removed]"
     },
     "metadata": {
      "needs_background": "light"
     },
     "output_type": "display_data"
    }
   ],
   "source": [
    "# Pandas histogram of all numerical values\n",
    "df.hist();"
   ]
  },
  {
   "cell_type": "markdown",
   "metadata": {},
   "source": [
    "Seaborne shows a default plot with a kernel density estimate and a histogram:"
   ]
  },
  {
   "cell_type": "code",
   "execution_count": 387,
   "metadata": {
    "scrolled": true
   },
   "outputs": [
    {
     "data": {
      "text/plain": "<Figure size 360x360 with 1 Axes>",
      "image/png": "[encoded data removed]"
     },
     "metadata": {
      "needs_background": "light"
     },
     "output_type": "display_data"
    }
   ],
   "source": [
    "# histogram with seaborn \n",
    "sns.displot(x='age', data=df, kde=True);"
   ]
  },
  {
   "cell_type": "markdown",
   "metadata": {},
   "source": [
    "Another alternative to display the distribution of a continuous variable broken down by a categorical variable is\n",
    "the **boxplot**. A boxplot is a type of visual shorthand for a distribution\n",
    "of values that is popular among statisticians. Each boxplot consists of:\n",
    "\n",
    "- A box that stretches from the 25th percentile of the distribution to the 75th percentile, a distance known as the interquartile range (IQR).\n",
    "- In the middle of the box is a line that displays the median, i.e. 50th percentile, of the distribution.\n",
    "- These three lines give you a sense of the spread of the distribution\n",
    "- Visual points that display observations that fall more than 1.5 times the IQR from either edge of the box. These outlying points are unusual so are plotted individually.\n",
    "- A line (or whisker) that extends from each end of the box and goes to the\n",
    "farthest non-outlier point in the distribution."
   ]
  },
  {
   "cell_type": "code",
   "execution_count": 388,
   "metadata": {},
   "outputs": [
    {
     "data": {
      "text/plain": "<Figure size 432x288 with 1 Axes>",
      "image/png": "[encoded data removed]"
     },
     "metadata": {
      "needs_background": "light"
     },
     "output_type": "display_data"
    }
   ],
   "source": [
    "# boxplot \n",
    "sns.boxplot(y='age', data=df);"
   ]
  },
  {
   "cell_type": "code",
   "execution_count": 389,
   "metadata": {},
   "outputs": [
    {
     "data": {
      "text/plain": "<Figure size 432x288 with 1 Axes>",
      "image/png": "[encoded data removed]"
     },
     "metadata": {
      "needs_background": "light"
     },
     "output_type": "display_data"
    }
   ],
   "source": [
    "# boxplot for different groups\n",
    "sns.boxplot(y='edu', x='age', data=df);"
   ]
  },
  {
   "cell_type": "markdown",
   "metadata": {},
   "source": [
    "We see much less information about the distribution, but the boxplots are much more compact,\n",
    "so we can more easily compare them (and fit more on one plot)."
   ]
  },
  {
   "cell_type": "markdown",
   "metadata": {},
   "source": [
    "### 4.2 Relationship between variables"
   ]
  },
  {
   "cell_type": "markdown",
   "metadata": {},
   "source": [
    "A great way to visualise the covariation between two continuous variables is to draw a scatterplot.\n",
    "You can see covariation as a pattern in the points. We will cover more options to test for relationships in variables\n",
    "(e.g., correlation) in the following applications."
   ]
  },
  {
   "cell_type": "code",
   "execution_count": 390,
   "metadata": {},
   "outputs": [
    {
     "data": {
      "text/plain": "<Figure size 432x288 with 1 Axes>",
      "image/png": "[encoded data removed]"
     },
     "metadata": {
      "needs_background": "light"
     },
     "output_type": "display_data"
    }
   ],
   "source": [
    "# simple scatterplot\n",
    "sns.scatterplot(x='age', y='wage', data=df);"
   ]
  },
  {
   "cell_type": "code",
   "execution_count": 391,
   "outputs": [
    {
     "data": {
      "text/plain": "<Figure size 360x360 with 6 Axes>",
      "image/png": "[encoded data removed]"
     },
     "metadata": {
      "needs_background": "light"
     },
     "output_type": "display_data"
    }
   ],
   "source": [
    "# plot all numeric variables in pairs\n",
    "sns.pairplot(df);\n",
    "\n"
   ],
   "metadata": {
    "collapsed": false,
    "pycharm": {
     "name": "#%%\n"
    }
   }
  },
  {
   "cell_type": "markdown",
   "metadata": {},
   "source": [
    "## 5 Model"
   ]
  },
  {
   "cell_type": "markdown",
   "metadata": {},
   "source": [
    "We cover the modelling process in our next applications.\n"
   ]
  },
  {
   "cell_type": "markdown",
   "metadata": {
    "pycharm": {
     "name": "#%% md\n"
    }
   },
   "source": [
    "### Sources\n",
    "\n",
    "[James, G., Witten, D., Hastie, T., & Tibshirani, R. (2021). An introduction to statistical learning. New York: Springer.](https://www.statlearning.com/)\n",
    "\n",
    "[Wickham, H., & Grolemund, G. (2016). R for data science: import, tidy, transform, visualize, and model data. O'Reilly Media, Inc.](https://r4ds.had.co.nz/)"
   ]
  }
 ],
 "metadata": {
  "kernelspec": {
   "display_name": "Python 3",
   "language": "python",
   "name": "python3"
  },
  "language_info": {
   "codemirror_mode": {
    "name": "ipython",
    "version": 3
   },
   "file_extension": ".py",
   "mimetype": "text/x-python",
   "name": "python",
   "nbconvert_exporter": "python",
   "pygments_lexer": "ipython3",
   "version": "3.6.8"
  },
  "toc": {
   "base_numbering": 1,
   "nav_menu": {},
   "number_sections": true,
   "sideBar": true,
   "skip_h1_title": true,
   "title_cell": "Table of Contents",
   "title_sidebar": "Contents",
   "toc_cell": true,
   "toc_position": {},
   "toc_section_display": true,
   "toc_window_display": true
  },
  "varInspector": {
   "cols": {
    "lenName": 16,
    "lenType": 16,
    "lenVar": 40
   },
   "kernels_config": {
    "python": {
     "delete_cmd_postfix": "",
     "delete_cmd_prefix": "del ",
     "library": "var_list.py",
     "varRefreshCmd": "print(var_dic_list())"
    },
    "r": {
     "delete_cmd_postfix": ") ",
     "delete_cmd_prefix": "rm(",
     "library": "var_list.r",
     "varRefreshCmd": "cat(var_dic_list()) "
    }
   },
   "types_to_exclude": [
    "module",
    "function",
    "builtin_function_or_method",
    "instance",
    "_Feature"
   ],
   "window_display": false
  }
 },
 "nbformat": 4,
 "nbformat_minor": 2
}