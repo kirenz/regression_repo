{
 "cells": [
  {
   "cell_type": "markdown",
   "metadata": {
    "toc": true
   },
   "source": [
    "<h1>Table of Contents<span class=\"tocSkip\"></span></h1>\n",
    "<div class=\"toc\"><ul class=\"toc-item\"></ul></div>"
   ]
  },
  {
   "cell_type": "markdown",
   "metadata": {},
   "source": [
    "**Applied Statistics**<br/>\n",
    "Prod. Dr. Jan Kirenz <br/>\n",
    "Hochschule der Medien Stuttgart\n",
    "\n",
    "Name:       <br/>\n",
    "Vorname:    <br/>"
   ]
  },
  {
   "cell_type": "markdown",
   "metadata": {},
   "source": [
    "# Assignment: Generalized linear regression (GLS) with simulated data\n",
    "\n",
    "---\n",
    "\n",
    "**Task a: Create features**\n",
    "\n",
    "(a) Create some feature vectors: \n",
    "\n",
    "   - **X1** , containing 100 observations drawn from a N (0, 1) distribution. \n",
    "   - **X2** , containing 100 observations drawn from a N (0, 0.5) distribution. \n",
    "   - **X3** , containing 100 observations drawn from a N (0.5, 2) distribution. \n",
    "   \n",
    "---   \n",
    "\n",
    "**Task b: Population Model**\n",
    "\n",
    "(b) Population model 1: Using the X1 and X2 features, generate a vector **Y** according to the model (in this model, we assume a perfect relationship between Y and the features - i.e. no error): \n",
    "\n",
    "**Population model 1**:\n",
    "\n",
    "$$Y = 2 + 1 \\times X1 + 0.5 \\times X2$$ \n",
    "\n",
    "This is our defined \"true\" relationship between Y and the feauters X1 and X2, also called a population model.\n",
    "\n",
    "b_1) What are the values of the $β$ parameters in this linear population model? \n",
    "\n",
    "b_2) What is the expected value of Y if X1 and X2 are both zero? \n",
    "\n",
    "b_3) What is the expected value of Y if X1 is 1 and X2 is 2? \n",
    "\n",
    "b_4) Fit a generalized least squares (gls) linear model that predicts Y using X1, X2. Comment on the model obtained (Adjusted R-Squared, F-Statistic, beta-parameters, standard errors, p-values, confidence intervalls, mean squared error, BIC, AIC). \n",
    "\n",
    "b_5) Use your regression model to predict Y if X1 is 1 and X2 is 2. What is the associted standard error and 95% confidence interval?\n",
    "\n",
    "b_6) Explain wether you find our population model realistic (i.e. is it plausible to have a situation where you always have a perfect relationship without any deviations between a dependent and some independent variables)?   \n",
    "\n",
    "\n",
    "---\n",
    "\n",
    "**Task c: Error**\n",
    "\n",
    "(c) Create an error vector, **err** (error), containing 100 observations drawn from a N(0, 0.25) distribution (i.e. a normal distribution with mean zero and standard deviation 0.25) and add the error to our population model in order to define population model 2 (err is our random, non reducible error in the relationship between Y and our features ... i.e. natural deviations in the relationship):  \n",
    "\n",
    "**Population model 2:**\n",
    "\n",
    "$$Y = 2 + 1 \\times X1 + 0.5 \\times X2 + err$$ \n",
    "\n",
    "c_1) What are the values of the $β$ parameters in this linear population model? \n",
    "\n",
    "c_2) What is the expected value of Y if X1 and X2 are both zero? \n",
    "\n",
    "c_3) What is the expected value of Y if X1 is 1 and X2 is 2? \n",
    "\n",
    "c_4) Fit a generalized least squares (gls) linear model that predicts Y using X1, X2. Comment on the model obtained (Adjusted R-Squared, F-Statistic, beta-parameters, standard errors, p-values, confidence intervalls, mean squared error, BIC, AIC). \n",
    "\n",
    "b_5) Use your regression model to predict Y if X1 is 1 and X2 is 2. What is the associted standard error and 95% confidence interval? \n",
    "\n",
    "\n",
    "---\n",
    "\n",
    "**Task d: Model**\n",
    "\n",
    "(d) Now fit a generalized least squares (gls) linear model to predict Y (population model 2) using X1, X2 and X3 in the model. Comment on the results for the X3 parameter in the model. \n",
    "\n",
    "\n",
    "---\n",
    "\n",
    "**Task e: Population model 3**\n",
    "\n",
    "(e) Generate a vector **Y** according to the model\n",
    "\n",
    "**Population model 3:**\n",
    "\n",
    "$$Y = 2 + 1 \\times X1 + 0.5 \\times X2 + X2^2 + err$$\n",
    "\n",
    "e_1) Fit a gls model that predicts Y using X1, X2. Comment on the model obtained (Adjusted R-Squared, F-Statistic, beta-parameters, standard errors, p-values, confidence intervalls, mean squared error, BIC, AIC). \n",
    "\n",
    "e_2) Fit a polynomial gls regression model that predicts Y using X1, X2 and $X^2$. Comment on the model obtained and campare it to e_1 (Adjusted R-Squared, F-Statistic, beta-parameters, standard errors, p-values, confidence intervalls, mean squared error, BIC, AIC). "
   ]
  }
 ],
 "metadata": {
  "kernelspec": {
   "display_name": "Python 3",
   "language": "python",
   "name": "python3"
  },
  "language_info": {
   "codemirror_mode": {
    "name": "ipython",
    "version": 3
   },
   "file_extension": ".py",
   "mimetype": "text/x-python",
   "name": "python",
   "nbconvert_exporter": "python",
   "pygments_lexer": "ipython3",
   "version": "3.6.8"
  },
  "toc": {
   "base_numbering": 1,
   "nav_menu": {},
   "number_sections": true,
   "sideBar": true,
   "skip_h1_title": true,
   "title_cell": "Table of Contents",
   "title_sidebar": "Contents",
   "toc_cell": true,
   "toc_position": {},
   "toc_section_display": true,
   "toc_window_display": true
  },
  "varInspector": {
   "cols": {
    "lenName": 16,
    "lenType": 16,
    "lenVar": 40
   },
   "kernels_config": {
    "python": {
     "delete_cmd_postfix": "",
     "delete_cmd_prefix": "del ",
     "library": "var_list.py",
     "varRefreshCmd": "print(var_dic_list())"
    },
    "r": {
     "delete_cmd_postfix": ") ",
     "delete_cmd_prefix": "rm(",
     "library": "var_list.r",
     "varRefreshCmd": "cat(var_dic_list()) "
    }
   },
   "types_to_exclude": [
    "module",
    "function",
    "builtin_function_or_method",
    "instance",
    "_Feature"
   ],
   "window_display": false
  }
 },
 "nbformat": 4,
 "nbformat_minor": 2
}
